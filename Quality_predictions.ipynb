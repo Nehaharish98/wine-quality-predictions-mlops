





<!DOCTYPE html>
<html
  lang="en"
  
  data-color-mode="auto" data-light-theme="light" data-dark-theme="dark"
  data-a11y-animated-images="system" data-a11y-link-underlines="true"
  
  >



  <head>
    <meta charset="utf-8">
  <link rel="dns-prefetch" href="https://github.githubassets.com">
  <link rel="dns-prefetch" href="https://avatars.githubusercontent.com">
  <link rel="dns-prefetch" href="https://github-cloud.s3.amazonaws.com">
  <link rel="dns-prefetch" href="https://user-images.githubusercontent.com/">
  <link rel="preconnect" href="https://github.githubassets.com" crossorigin>
  <link rel="preconnect" href="https://avatars.githubusercontent.com">

  


  <link crossorigin="anonymous" media="all" rel="stylesheet" href="https://github.githubassets.com/assets/light-d1334f2b22bf.css" /><link crossorigin="anonymous" media="all" rel="stylesheet" href="https://github.githubassets.com/assets/light_high_contrast-f695a361c6b2.css" /><link crossorigin="anonymous" media="all" rel="stylesheet" href="https://github.githubassets.com/assets/dark-f73a069fd33e.css" /><link crossorigin="anonymous" media="all" rel="stylesheet" href="https://github.githubassets.com/assets/dark_high_contrast-3a0d87f72ad4.css" /><link data-color-theme="light" crossorigin="anonymous" media="all" rel="stylesheet" data-href="https://github.githubassets.com/assets/light-d1334f2b22bf.css" /><link data-color-theme="light_high_contrast" crossorigin="anonymous" media="all" rel="stylesheet" data-href="https://github.githubassets.com/assets/light_high_contrast-f695a361c6b2.css" /><link data-color-theme="light_colorblind" crossorigin="anonymous" media="all" rel="stylesheet" data-href="https://github.githubassets.com/assets/light_colorblind-367eb9a4565a.css" /><link data-color-theme="light_colorblind_high_contrast" crossorigin="anonymous" media="all" rel="stylesheet" data-href="https://github.githubassets.com/assets/light_colorblind_high_contrast-183adc0db479.css" /><link data-color-theme="light_tritanopia" crossorigin="anonymous" media="all" rel="stylesheet" data-href="https://github.githubassets.com/assets/light_tritanopia-2ddc677c041d.css" /><link data-color-theme="light_tritanopia_high_contrast" crossorigin="anonymous" media="all" rel="stylesheet" data-href="https://github.githubassets.com/assets/light_tritanopia_high_contrast-649962a5702a.css" /><link data-color-theme="dark" crossorigin="anonymous" media="all" rel="stylesheet" data-href="https://github.githubassets.com/assets/dark-f73a069fd33e.css" /><link data-color-theme="dark_high_contrast" crossorigin="anonymous" media="all" rel="stylesheet" data-href="https://github.githubassets.com/assets/dark_high_contrast-3a0d87f72ad4.css" /><link data-color-theme="dark_colorblind" crossorigin="anonymous" media="all" rel="stylesheet" data-href="https://github.githubassets.com/assets/dark_colorblind-b17a8392e6c4.css" /><link data-color-theme="dark_colorblind_high_contrast" crossorigin="anonymous" media="all" rel="stylesheet" data-href="https://github.githubassets.com/assets/dark_colorblind_high_contrast-e9ff47cedc2b.css" /><link data-color-theme="dark_tritanopia" crossorigin="anonymous" media="all" rel="stylesheet" data-href="https://github.githubassets.com/assets/dark_tritanopia-a1cc7dba9f73.css" /><link data-color-theme="dark_tritanopia_high_contrast" crossorigin="anonymous" media="all" rel="stylesheet" data-href="https://github.githubassets.com/assets/dark_tritanopia_high_contrast-6c4dd39e2b0f.css" /><link data-color-theme="dark_dimmed" crossorigin="anonymous" media="all" rel="stylesheet" data-href="https://github.githubassets.com/assets/dark_dimmed-55459b36aa6d.css" /><link data-color-theme="dark_dimmed_high_contrast" crossorigin="anonymous" media="all" rel="stylesheet" data-href="https://github.githubassets.com/assets/dark_dimmed_high_contrast-9a0ef6e40ed3.css" />


    <link crossorigin="anonymous" media="all" rel="stylesheet" href="https://github.githubassets.com/assets/primer-primitives-dc7ca6859caf.css" />
    <link crossorigin="anonymous" media="all" rel="stylesheet" href="https://github.githubassets.com/assets/primer-03a65c451725.css" />
    <link crossorigin="anonymous" media="all" rel="stylesheet" href="https://github.githubassets.com/assets/global-6edaee9e5361.css" />
    <link crossorigin="anonymous" media="all" rel="stylesheet" href="https://github.githubassets.com/assets/github-ddc22c40adec.css" />
  <link crossorigin="anonymous" media="all" rel="stylesheet" href="https://github.githubassets.com/assets/repository-b58e401b73ae.css" />
<link crossorigin="anonymous" media="all" rel="stylesheet" href="https://github.githubassets.com/assets/code-4ea853641043.css" />

  


  <script type="application/json" id="client-env">{"locale":"en","featureFlags":["alternate_user_config_repo","api_insights_show_missing_data_banner","attestations_filtering","attestations_sorting","client_version_header","code_scanning_security_configuration_ternary_state","codespaces_prebuild_region_target_update","contact_requests_implicit_opt_in","contentful_lp_copilot_extensions","contentful_lp_flex_features","contentful_lp_footnotes","copilot_agents_view_v2","copilot_chat_attach_multiple_images","copilot_chat_vision_in_claude","copilot_chat_vision_skip_thread_create","copilot_chat_wholearea_dd","copilot_custom_copilots_feature_preview","copilot_duplicate_thread","copilot_free_to_paid_telem","copilot_ftp_hyperspace_upgrade_prompt","copilot_ftp_settings_upgrade","copilot_ftp_upgrade_to_pro_from_models","copilot_ftp_your_copilot_settings","copilot_immersive_structured_model_picker","copilot_new_immersive_references_ui","copilot_no_floating_button","copilot_read_shared_conversation","copilot_spaces_input_menu_select","copilot_spaces_support_forks","copilot_spark_allow_empty_commit","copilot_spark_single_user_iteration","copilot_spark_use_streaming","copilot_task_oriented_assistive_prompts","copilot_workbench_connection_reload_banner","copilot_workbench_iterate_panel","copilot_workbench_preview_analytics","copilot_workbench_refresh_on_wsod","custom_copilots_128k_window","custom_copilots_capi_mode","direct_to_salesforce","dotcom_chat_client_side_skills","failbot_report_error_react_apps_on_page","ghost_pilot_confidence_truncation_25","ghost_pilot_confidence_truncation_40","insert_before_patch","issues_catch_non_json_graphql_response","issues_label_search_url","issues_preserve_tokens_in_urls","issues_react_blur_item_picker_on_close","issues_react_bots_timeline_pagination","issues_react_create_milestone","issues_react_prohibit_title_fallback","issues_react_remove_placeholders","issues_template_picker_redirect","lifecycle_label_name_updates","link_contact_sales_swp_marketo","marketing_pages_search_explore_provider","memex_mwl_filter_field_delimiter","nonreporting_relay_graphql_status_codes","primer_react_select_panel_with_modern_action_list","remove_child_patch","sample_network_conn_type","scheduled_reminders_updated_limits","site_homepage_contentful","site_msbuild_hide_integrations","site_msbuild_launch","site_msbuild_webgl_hero","spark_commit_on_default_branch","spark_sync_repository_after_iteration","swp_enterprise_contact_form","use_paginated_repo_picker_cost_center_form","viewscreen_sandbox","workbench_store_readonly"]}</script>
<script crossorigin="anonymous" type="application/javascript" src="https://github.githubassets.com/assets/high-contrast-cookie-a58297b2ebf8.js"></script>
<script crossorigin="anonymous" type="application/javascript" src="https://github.githubassets.com/assets/wp-runtime-d6122156f998.js" defer="defer"></script>
<script crossorigin="anonymous" type="application/javascript" src="https://github.githubassets.com/assets/vendors-node_modules_oddbird_popover-polyfill_dist_popover-fn_js-a8c266e5f126.js" defer="defer"></script>
<script crossorigin="anonymous" type="application/javascript" src="https://github.githubassets.com/assets/vendors-node_modules_github_mini-throttle_dist_index_js-node_modules_stacktrace-parser_dist_s-1d3d52-babac9434833.js" defer="defer"></script>
<script crossorigin="anonymous" type="application/javascript" src="https://github.githubassets.com/assets/ui_packages_failbot_failbot_ts-d6735ae08a7b.js" defer="defer"></script>
<script crossorigin="anonymous" type="application/javascript" src="https://github.githubassets.com/assets/environment-37836f8ad297.js" defer="defer"></script>
<script crossorigin="anonymous" type="application/javascript" src="https://github.githubassets.com/assets/vendors-node_modules_primer_behaviors_dist_esm_index_mjs-c44edfed7f0d.js" defer="defer"></script>
<script crossorigin="anonymous" type="application/javascript" src="https://github.githubassets.com/assets/vendors-node_modules_github_selector-observer_dist_index_esm_js-cdf2757bd188.js" defer="defer"></script>
<script crossorigin="anonymous" type="application/javascript" src="https://github.githubassets.com/assets/vendors-node_modules_github_relative-time-element_dist_index_js-5913bc24f35d.js" defer="defer"></script>
<script crossorigin="anonymous" type="application/javascript" src="https://github.githubassets.com/assets/vendors-node_modules_github_text-expander-element_dist_index_js-e50fb7a5fe8c.js" defer="defer"></script>
<script crossorigin="anonymous" type="application/javascript" src="https://github.githubassets.com/assets/vendors-node_modules_github_auto-complete-element_dist_index_js-node_modules_github_catalyst_-8e9f78-c1e2fb329866.js" defer="defer"></script>
<script crossorigin="anonymous" type="application/javascript" src="https://github.githubassets.com/assets/vendors-node_modules_github_filter-input-element_dist_index_js-node_modules_github_remote-inp-b5f1d7-514a92c925f0.js" defer="defer"></script>
<script crossorigin="anonymous" type="application/javascript" src="https://github.githubassets.com/assets/vendors-node_modules_github_markdown-toolbar-element_dist_index_js-6a8c7d9a08fe.js" defer="defer"></script>
<script crossorigin="anonymous" type="application/javascript" src="https://github.githubassets.com/assets/vendors-node_modules_github_file-attachment-element_dist_index_js-node_modules_primer_view-co-f03a40-c631b99b0f08.js" defer="defer"></script>
<script crossorigin="anonymous" type="application/javascript" src="https://github.githubassets.com/assets/github-elements-41297914fb58.js" defer="defer"></script>
<script crossorigin="anonymous" type="application/javascript" src="https://github.githubassets.com/assets/element-registry-36581844e4ca.js" defer="defer"></script>
<script crossorigin="anonymous" type="application/javascript" src="https://github.githubassets.com/assets/vendors-node_modules_braintree_browser-detection_dist_browser-detection_js-node_modules_githu-bb80ec-34c4b68b1dd3.js" defer="defer"></script>
<script crossorigin="anonymous" type="application/javascript" src="https://github.githubassets.com/assets/vendors-node_modules_lit-html_lit-html_js-b93a87060d31.js" defer="defer"></script>
<script crossorigin="anonymous" type="application/javascript" src="https://github.githubassets.com/assets/vendors-node_modules_morphdom_dist_morphdom-esm_js-300e8e4e0414.js" defer="defer"></script>
<script crossorigin="anonymous" type="application/javascript" src="https://github.githubassets.com/assets/vendors-node_modules_github_turbo_dist_turbo_es2017-esm_js-595819d3686f.js" defer="defer"></script>
<script crossorigin="anonymous" type="application/javascript" src="https://github.githubassets.com/assets/vendors-node_modules_github_remote-form_dist_index_js-node_modules_delegated-events_dist_inde-893f9f-5f044d8dcee3.js" defer="defer"></script>
<script crossorigin="anonymous" type="application/javascript" src="https://github.githubassets.com/assets/vendors-node_modules_github_quote-selection_dist_index_js-node_modules_github_session-resume_-c39857-54c022ad5a68.js" defer="defer"></script>
<script crossorigin="anonymous" type="application/javascript" src="https://github.githubassets.com/assets/ui_packages_updatable-content_updatable-content_ts-7b14b8aa0beb.js" defer="defer"></script>
<script crossorigin="anonymous" type="application/javascript" src="https://github.githubassets.com/assets/app_assets_modules_github_behaviors_task-list_ts-app_assets_modules_github_sso_ts-ui_packages-900dde-f953ddf42948.js" defer="defer"></script>
<script crossorigin="anonymous" type="application/javascript" src="https://github.githubassets.com/assets/app_assets_modules_github_sticky-scroll-into-view_ts-e45aabc67d13.js" defer="defer"></script>
<script crossorigin="anonymous" type="application/javascript" src="https://github.githubassets.com/assets/app_assets_modules_github_behaviors_ajax-error_ts-app_assets_modules_github_behaviors_include-d0d0a6-a7da4270c5f4.js" defer="defer"></script>
<script crossorigin="anonymous" type="application/javascript" src="https://github.githubassets.com/assets/app_assets_modules_github_behaviors_commenting_edit_ts-app_assets_modules_github_behaviors_ht-83c235-567e0f340e27.js" defer="defer"></script>
<script crossorigin="anonymous" type="application/javascript" src="https://github.githubassets.com/assets/behaviors-0f23806a0696.js" defer="defer"></script>
<script crossorigin="anonymous" type="application/javascript" src="https://github.githubassets.com/assets/vendors-node_modules_delegated-events_dist_index_js-node_modules_github_catalyst_lib_index_js-ea8eaa-0416579acb39.js" defer="defer"></script>
<script crossorigin="anonymous" type="application/javascript" src="https://github.githubassets.com/assets/notifications-global-40e14cc64ab7.js" defer="defer"></script>
<script crossorigin="anonymous" type="application/javascript" src="https://github.githubassets.com/assets/vendors-node_modules_github_mini-throttle_dist_index_js-node_modules_github_catalyst_lib_inde-dbbea9-558c1f223d1d.js" defer="defer"></script>
<script crossorigin="anonymous" type="application/javascript" src="https://github.githubassets.com/assets/code-menu-954689af15d6.js" defer="defer"></script>
  
  <script crossorigin="anonymous" type="application/javascript" src="https://github.githubassets.com/assets/primer-react-a57080a0a6e8.js" defer="defer"></script>
<script crossorigin="anonymous" type="application/javascript" src="https://github.githubassets.com/assets/react-core-8408891aa1d3.js" defer="defer"></script>
<script crossorigin="anonymous" type="application/javascript" src="https://github.githubassets.com/assets/react-lib-8705026b409a.js" defer="defer"></script>
<script crossorigin="anonymous" type="application/javascript" src="https://github.githubassets.com/assets/octicons-react-8ed765fdb7a0.js" defer="defer"></script>
<script crossorigin="anonymous" type="application/javascript" src="https://github.githubassets.com/assets/vendors-node_modules_emotion_is-prop-valid_dist_emotion-is-prop-valid_esm_js-node_modules_emo-b1c483-b5947865157f.js" defer="defer"></script>
<script crossorigin="anonymous" type="application/javascript" src="https://github.githubassets.com/assets/vendors-node_modules_cookie_index_js-node_modules_primer_live-region-element_dist_esm_index_j-1ca8f6-89ab81577c38.js" defer="defer"></script>
<script crossorigin="anonymous" type="application/javascript" src="https://github.githubassets.com/assets/vendors-node_modules_dompurify_dist_purify_es_mjs-7457ebdd1a1f.js" defer="defer"></script>
<script crossorigin="anonymous" type="application/javascript" src="https://github.githubassets.com/assets/vendors-node_modules_lodash-es__Stack_js-node_modules_lodash-es__Uint8Array_js-node_modules_l-4faaa6-16c4e2c524de.js" defer="defer"></script>
<script crossorigin="anonymous" type="application/javascript" src="https://github.githubassets.com/assets/vendors-node_modules_lodash-es_isEqual_js-a0841ced23fc.js" defer="defer"></script>
<script crossorigin="anonymous" type="application/javascript" src="https://github.githubassets.com/assets/vendors-node_modules_tanstack_react-virtual_dist_esm_index_js-807aab04afeb.js" defer="defer"></script>
<script crossorigin="anonymous" type="application/javascript" src="https://github.githubassets.com/assets/vendors-node_modules_focus-visible_dist_focus-visible_js-node_modules_github_hydro-analytics--e21ffd-0b758af67e69.js" defer="defer"></script>
<script crossorigin="anonymous" type="application/javascript" src="https://github.githubassets.com/assets/vendors-node_modules_fzy_js_index_js-node_modules_react-reverse-portal_dist_web_index_js-node-452414-05865700b943.js" defer="defer"></script>
<script crossorigin="anonymous" type="application/javascript" src="https://github.githubassets.com/assets/ui_packages_paths_index_ts-57c0372aeba2.js" defer="defer"></script>
<script crossorigin="anonymous" type="application/javascript" src="https://github.githubassets.com/assets/ui_packages_document-metadata_document-metadata_ts-ui_packages_fetch-headers_fetch-headers_ts-57e0e0-bed68ec00644.js" defer="defer"></script>
<script crossorigin="anonymous" type="application/javascript" src="https://github.githubassets.com/assets/ui_packages_ref-selector_RefSelector_tsx-d5cdb50eb045.js" defer="defer"></script>
<script crossorigin="anonymous" type="application/javascript" src="https://github.githubassets.com/assets/ui_packages_commit-attribution_index_ts-ui_packages_commit-checks-status_index_ts-ui_packages-762eaa-7383c64c0bfd.js" defer="defer"></script>
<script crossorigin="anonymous" type="application/javascript" src="https://github.githubassets.com/assets/ui_packages_use-analytics_use-analytics_ts-ui_packages_use-client-value_use-client-value_ts-u-8be754-01f2e7116f9d.js" defer="defer"></script>
<script crossorigin="anonymous" type="application/javascript" src="https://github.githubassets.com/assets/ui_packages_code-view-shared_hooks_use-canonical-object_ts-ui_packages_code-view-shared_hooks-9104f7-0dae55ecd66e.js" defer="defer"></script>
<script crossorigin="anonymous" type="application/javascript" src="https://github.githubassets.com/assets/ui_packages_app-uuid_app-uuid_ts-ui_packages_repos-file-tree-view_repos-file-tree-view_ts-72a4b5b8380b.js" defer="defer"></script>
<script crossorigin="anonymous" type="application/javascript" src="https://github.githubassets.com/assets/app_assets_modules_github_blob-anchor_ts-ui_packages_code-nav_code-nav_ts-ui_packages_filter--8253c1-5fde020dbad1.js" defer="defer"></script>
<script crossorigin="anonymous" type="application/javascript" src="https://github.githubassets.com/assets/react-code-view-6dbb97059512.js" defer="defer"></script>
<link crossorigin="anonymous" media="all" rel="stylesheet" href="https://github.githubassets.com/assets/primer-react.5fdb25ed878a5138c363.module.css" />
<link crossorigin="anonymous" media="all" rel="stylesheet" href="https://github.githubassets.com/assets/react-code-view.ca83c136bc757c1d53e6.module.css" />

  <script crossorigin="anonymous" type="application/javascript" src="https://github.githubassets.com/assets/ui_packages_document-metadata_document-metadata_ts-ui_packages_notifications-subscriptions-me-a3b302-94b168204e0b.js" defer="defer"></script>
<script crossorigin="anonymous" type="application/javascript" src="https://github.githubassets.com/assets/notifications-subscriptions-menu-2b105c9584ae.js" defer="defer"></script>
<link crossorigin="anonymous" media="all" rel="stylesheet" href="https://github.githubassets.com/assets/primer-react.5fdb25ed878a5138c363.module.css" />
<link crossorigin="anonymous" media="all" rel="stylesheet" href="https://github.githubassets.com/assets/notifications-subscriptions-menu.6dfe832dc20c52593e5e.module.css" />


  <title>wine-quality-predictions-mlops/Training-models/Quality_predictions.ipynb at 9d23dcd6f7bf60755eaa33720df823c3bdf3799a · Nehaharish98/wine-quality-predictions-mlops · GitHub</title>



  <meta name="route-pattern" content="/:user_id/:repository/blob/*name(/*path)" data-turbo-transient>
  <meta name="route-controller" content="blob" data-turbo-transient>
  <meta name="route-action" content="show" data-turbo-transient>
  <meta name="fetch-nonce" content="v2:46531a00-8469-6b99-953e-9c8f4a1d3441">

    
  <meta name="current-catalog-service-hash" content="f3abb0cc802f3d7b95fc8762b94bdcb13bf39634c40c357301c4aa1d67a256fb">


  <meta name="request-id" content="7C29:28F715:206E093:216E3AA:6870DC47" data-pjax-transient="true"/><meta name="html-safe-nonce" content="83bdff0f40e94b6c7407f2a7e8c59da5cc3242cec9e0e630572861446e3ceffa" data-pjax-transient="true"/><meta name="visitor-payload" content="eyJyZWZlcnJlciI6IiIsInJlcXVlc3RfaWQiOiI3QzI5OjI4RjcxNToyMDZFMDkzOjIxNkUzQUE6Njg3MERDNDciLCJ2aXNpdG9yX2lkIjoiNDczOTA5NTQwMDM4MTczMzk1OSIsInJlZ2lvbl9lZGdlIjoiZnJhIiwicmVnaW9uX3JlbmRlciI6ImZyYSJ9" data-pjax-transient="true"/><meta name="visitor-hmac" content="3899d48757284378008e9ce648e4be165adcb49ac80f99ea71308b88451d62e6" data-pjax-transient="true"/>


    <meta name="hovercard-subject-tag" content="repository:1016833196" data-turbo-transient>


  <meta name="github-keyboard-shortcuts" content="repository,source-code,file-tree,copilot" data-turbo-transient="true" />
  

  <meta name="selected-link" value="repo_source" data-turbo-transient>
  <link rel="assets" href="https://github.githubassets.com/">

    <meta name="google-site-verification" content="Apib7-x98H0j5cPqHWwSMm6dNU4GmODRoqxLiDzdx9I">

<meta name="octolytics-url" content="https://collector.github.com/github/collect" />

  <meta name="analytics-location" content="/&lt;user-name&gt;/&lt;repo-name&gt;/blob/show" data-turbo-transient="true" />

  




    <meta name="user-login" content="">

  

    <meta name="viewport" content="width=device-width">

    

      <meta name="description" content="Contribute to Nehaharish98/wine-quality-predictions-mlops development by creating an account on GitHub.">

      <link rel="search" type="application/opensearchdescription+xml" href="/opensearch.xml" title="GitHub">

    <link rel="fluid-icon" href="https://github.com/fluidicon.png" title="GitHub">
    <meta property="fb:app_id" content="1401488693436528">
    <meta name="apple-itunes-app" content="app-id=1477376905, app-argument=https://github.com/Nehaharish98/wine-quality-predictions-mlops/blob/9d23dcd6f7bf60755eaa33720df823c3bdf3799a/Training-models/Quality_predictions.ipynb" />

      <meta name="twitter:image" content="https://opengraph.githubassets.com/aa4e5e33b455de6b911dd72beb86fb5eb6a90632fb8f154a1362efcbefd00216/Nehaharish98/wine-quality-predictions-mlops" /><meta name="twitter:site" content="@github" /><meta name="twitter:card" content="summary_large_image" /><meta name="twitter:title" content="wine-quality-predictions-mlops/Training-models/Quality_predictions.ipynb at 9d23dcd6f7bf60755eaa33720df823c3bdf3799a · Nehaharish98/wine-quality-predictions-mlops" /><meta name="twitter:description" content="Contribute to Nehaharish98/wine-quality-predictions-mlops development by creating an account on GitHub." />
  <meta property="og:image" content="https://opengraph.githubassets.com/aa4e5e33b455de6b911dd72beb86fb5eb6a90632fb8f154a1362efcbefd00216/Nehaharish98/wine-quality-predictions-mlops" /><meta property="og:image:alt" content="Contribute to Nehaharish98/wine-quality-predictions-mlops development by creating an account on GitHub." /><meta property="og:image:width" content="1200" /><meta property="og:image:height" content="600" /><meta property="og:site_name" content="GitHub" /><meta property="og:type" content="object" /><meta property="og:title" content="wine-quality-predictions-mlops/Training-models/Quality_predictions.ipynb at 9d23dcd6f7bf60755eaa33720df823c3bdf3799a · Nehaharish98/wine-quality-predictions-mlops" /><meta property="og:url" content="https://github.com/Nehaharish98/wine-quality-predictions-mlops/blob/9d23dcd6f7bf60755eaa33720df823c3bdf3799a/Training-models/Quality_predictions.ipynb" /><meta property="og:description" content="Contribute to Nehaharish98/wine-quality-predictions-mlops development by creating an account on GitHub." />
  




      <meta name="hostname" content="github.com">



        <meta name="expected-hostname" content="github.com">


  <meta http-equiv="x-pjax-version" content="197a6d68eb9eab58f94543eea559d53142a8dcb5232b33606841c7cbfa0b214b" data-turbo-track="reload">
  <meta http-equiv="x-pjax-csp-version" content="352e51c42d5f5727a7c545752bf34d1f83f40219e7036c6959817149a51651bc" data-turbo-track="reload">
  <meta http-equiv="x-pjax-css-version" content="b9edd0d14931d1e630f47c7b5cd3a7d1ae69dda6ce977e9ce75c44d051247ea8" data-turbo-track="reload">
  <meta http-equiv="x-pjax-js-version" content="28ffbe17026bd426f0b4d9429f1c7a1a6d1a131f92c1e0145f4089cd2b631eeb" data-turbo-track="reload">

  <meta name="turbo-cache-control" content="no-preview" data-turbo-transient="">

      <meta name="turbo-cache-control" content="no-cache" data-turbo-transient>

    <meta data-hydrostats="publish">

  <meta name="go-import" content="github.com/Nehaharish98/wine-quality-predictions-mlops git https://github.com/Nehaharish98/wine-quality-predictions-mlops.git">

  <meta name="octolytics-dimension-user_id" content="61086199" /><meta name="octolytics-dimension-user_login" content="Nehaharish98" /><meta name="octolytics-dimension-repository_id" content="1016833196" /><meta name="octolytics-dimension-repository_nwo" content="Nehaharish98/wine-quality-predictions-mlops" /><meta name="octolytics-dimension-repository_public" content="true" /><meta name="octolytics-dimension-repository_is_fork" content="false" /><meta name="octolytics-dimension-repository_network_root_id" content="1016833196" /><meta name="octolytics-dimension-repository_network_root_nwo" content="Nehaharish98/wine-quality-predictions-mlops" />



    

    <meta name="turbo-body-classes" content="logged-out env-production page-responsive">


  <meta name="browser-stats-url" content="https://api.github.com/_private/browser/stats">

  <meta name="browser-errors-url" content="https://api.github.com/_private/browser/errors">

  <meta name="release" content="dbbf9301b24188cadf5170c8db4d40491a1ed7b3">
  <meta name="ui-target" content="full">

  <link rel="mask-icon" href="https://github.githubassets.com/assets/pinned-octocat-093da3e6fa40.svg" color="#000000">
  <link rel="alternate icon" class="js-site-favicon" type="image/png" href="https://github.githubassets.com/favicons/favicon.png">
  <link rel="icon" class="js-site-favicon" type="image/svg+xml" href="https://github.githubassets.com/favicons/favicon.svg" data-base-href="https://github.githubassets.com/favicons/favicon">

<meta name="theme-color" content="#1e2327">
<meta name="color-scheme" content="light dark" />


  <link rel="manifest" href="/manifest.json" crossOrigin="use-credentials">

  </head>

  <body class="logged-out env-production page-responsive" style="word-wrap: break-word;">
    <div data-turbo-body class="logged-out env-production page-responsive" style="word-wrap: break-word;">
      



    <div class="position-relative header-wrapper js-header-wrapper ">
      <a href="#start-of-content" data-skip-target-assigned="false" class="px-2 py-4 color-bg-accent-emphasis color-fg-on-emphasis show-on-focus js-skip-to-content">Skip to content</a>

      <span data-view-component="true" class="progress-pjax-loader Progress position-fixed width-full">
    <span style="width: 0%;" data-view-component="true" class="Progress-item progress-pjax-loader-bar left-0 top-0 color-bg-accent-emphasis"></span>
</span>      
      
      <react-partial
  partial-name="keyboard-shortcuts-dialog"
  data-ssr="false"
  data-attempted-ssr="false"
  data-react-profiling="false"
>
  
  <script type="application/json" data-target="react-partial.embeddedData">{"props":{"docsUrl":"https://docs.github.com/get-started/accessibility/keyboard-shortcuts"}}</script>
  <div data-target="react-partial.reactRoot"></div>
</react-partial>




      

          

              
<script crossorigin="anonymous" type="application/javascript" src="https://github.githubassets.com/assets/vendors-node_modules_gsap_index_js-028cb2a18f5a.js" defer="defer"></script>
<script crossorigin="anonymous" type="application/javascript" src="https://github.githubassets.com/assets/vendors-node_modules_github_remote-form_dist_index_js-node_modules_delegated-events_dist_inde-94fd67-b0625c39513c.js" defer="defer"></script>
<script crossorigin="anonymous" type="application/javascript" src="https://github.githubassets.com/assets/sessions-43f4394ad9bc.js" defer="defer"></script>
<header class="HeaderMktg header-logged-out js-details-container js-header Details f4 py-3" role="banner" data-is-top="true" data-color-mode=light data-light-theme=light data-dark-theme=dark>
  <h2 class="sr-only">Navigation Menu</h2>

  <button type="button" class="HeaderMktg-backdrop d-lg-none border-0 position-fixed top-0 left-0 width-full height-full js-details-target" aria-label="Toggle navigation">
    <span class="d-none">Toggle navigation</span>
  </button>

  <div class="d-flex flex-column flex-lg-row flex-items-center px-3 px-md-4 px-lg-5 height-full position-relative z-1">
    <div class="d-flex flex-justify-between flex-items-center width-full width-lg-auto">
      <div class="flex-1">
        <button aria-label="Toggle navigation" aria-expanded="false" type="button" data-view-component="true" class="js-details-target js-nav-padding-recalculate js-header-menu-toggle Button--link Button--medium Button d-lg-none color-fg-inherit p-1">  <span class="Button-content">
    <span class="Button-label"><div class="HeaderMenu-toggle-bar rounded my-1"></div>
            <div class="HeaderMenu-toggle-bar rounded my-1"></div>
            <div class="HeaderMenu-toggle-bar rounded my-1"></div></span>
  </span>
</button>
      </div>

      <a class="mr-lg-3 color-fg-inherit flex-order-2 js-prevent-focus-on-mobile-nav"
        href="/"
        aria-label="Homepage"
        data-analytics-event="{&quot;category&quot;:&quot;Marketing nav&quot;,&quot;action&quot;:&quot;click to go to homepage&quot;,&quot;label&quot;:&quot;ref_page:Marketing;ref_cta:Logomark;ref_loc:Header&quot;}">
        <svg height="32" aria-hidden="true" viewBox="0 0 24 24" version="1.1" width="32" data-view-component="true" class="octicon octicon-mark-github">
    <path d="M12 1C5.923 1 1 5.923 1 12c0 4.867 3.149 8.979 7.521 10.436.55.096.756-.233.756-.522 0-.262-.013-1.128-.013-2.049-2.764.509-3.479-.674-3.699-1.292-.124-.317-.66-1.293-1.127-1.554-.385-.207-.936-.715-.014-.729.866-.014 1.485.797 1.691 1.128.99 1.663 2.571 1.196 3.204.907.096-.715.385-1.196.701-1.471-2.448-.275-5.005-1.224-5.005-5.432 0-1.196.426-2.186 1.128-2.956-.111-.275-.496-1.402.11-2.915 0 0 .921-.288 3.024 1.128a10.193 10.193 0 0 1 2.75-.371c.936 0 1.871.123 2.75.371 2.104-1.43 3.025-1.128 3.025-1.128.605 1.513.221 2.64.111 2.915.701.77 1.127 1.747 1.127 2.956 0 4.222-2.571 5.157-5.019 5.432.399.344.743 1.004.743 2.035 0 1.471-.014 2.654-.014 3.025 0 .289.206.632.756.522C19.851 20.979 23 16.854 23 12c0-6.077-4.922-11-11-11Z"></path>
</svg>
      </a>

      <div class="d-flex flex-1 flex-order-2 text-right d-lg-none gap-2 flex-justify-end">
          <a
            href="/login?return_to=https%3A%2F%2Fgithub.com%2FNehaharish98%2Fwine-quality-predictions-mlops%2Fblob%2F9d23dcd6f7bf60755eaa33720df823c3bdf3799a%2FTraining-models%2FQuality_predictions.ipynb"
            class="HeaderMenu-link HeaderMenu-button d-inline-flex f5 no-underline border color-border-default rounded-2 px-2 py-1 color-fg-inherit js-prevent-focus-on-mobile-nav"
            data-hydro-click="{&quot;event_type&quot;:&quot;authentication.click&quot;,&quot;payload&quot;:{&quot;location_in_page&quot;:&quot;site header menu&quot;,&quot;repository_id&quot;:null,&quot;auth_type&quot;:&quot;SIGN_UP&quot;,&quot;originating_url&quot;:&quot;https://github.com/Nehaharish98/wine-quality-predictions-mlops/blob/9d23dcd6f7bf60755eaa33720df823c3bdf3799a/Training-models/Quality_predictions.ipynb&quot;,&quot;user_id&quot;:null}}" data-hydro-click-hmac="167a70422079cbb69d53846d87b6320f21e77aecc73ab32753ac6807bd7e51b4"
            data-analytics-event="{&quot;category&quot;:&quot;Marketing nav&quot;,&quot;action&quot;:&quot;click to Sign in&quot;,&quot;label&quot;:&quot;ref_page:Marketing;ref_cta:Sign in;ref_loc:Header&quot;}"
          >
            Sign in
          </a>
              <div class="AppHeader-appearanceSettings">
    <react-partial-anchor>
      <button data-target="react-partial-anchor.anchor" id="icon-button-975a0828-d29f-4e97-8443-3683dc9be2f6" aria-labelledby="tooltip-51440357-3668-4894-a9fb-92daa6e3563f" type="button" disabled="disabled" data-view-component="true" class="Button Button--iconOnly Button--invisible Button--medium AppHeader-button HeaderMenu-link border cursor-wait">  <svg aria-hidden="true" height="16" viewBox="0 0 16 16" version="1.1" width="16" data-view-component="true" class="octicon octicon-sliders Button-visual">
    <path d="M15 2.75a.75.75 0 0 1-.75.75h-4a.75.75 0 0 1 0-1.5h4a.75.75 0 0 1 .75.75Zm-8.5.75v1.25a.75.75 0 0 0 1.5 0v-4a.75.75 0 0 0-1.5 0V2H1.75a.75.75 0 0 0 0 1.5H6.5Zm1.25 5.25a.75.75 0 0 0 0-1.5h-6a.75.75 0 0 0 0 1.5h6ZM15 8a.75.75 0 0 1-.75.75H11.5V10a.75.75 0 1 1-1.5 0V6a.75.75 0 0 1 1.5 0v1.25h2.75A.75.75 0 0 1 15 8Zm-9 5.25v-2a.75.75 0 0 0-1.5 0v1.25H1.75a.75.75 0 0 0 0 1.5H4.5v1.25a.75.75 0 0 0 1.5 0v-2Zm9 0a.75.75 0 0 1-.75.75h-6a.75.75 0 0 1 0-1.5h6a.75.75 0 0 1 .75.75Z"></path>
</svg>
</button><tool-tip id="tooltip-51440357-3668-4894-a9fb-92daa6e3563f" for="icon-button-975a0828-d29f-4e97-8443-3683dc9be2f6" popover="manual" data-direction="s" data-type="label" data-view-component="true" class="sr-only position-absolute">Appearance settings</tool-tip>

      <template data-target="react-partial-anchor.template">
        <react-partial
  partial-name="appearance-settings"
  data-ssr="false"
  data-attempted-ssr="false"
  data-react-profiling="false"
>
  
  <script type="application/json" data-target="react-partial.embeddedData">{"props":{}}</script>
  <div data-target="react-partial.reactRoot"></div>
</react-partial>

      </template>
    </react-partial-anchor>
  </div>

      </div>
    </div>


    <div class="HeaderMenu js-header-menu height-fit position-lg-relative d-lg-flex flex-column flex-auto top-0">
      <div class="HeaderMenu-wrapper d-flex flex-column flex-self-start flex-lg-row flex-auto rounded rounded-lg-0">
          <nav class="HeaderMenu-nav" aria-label="Global">
            <ul class="d-lg-flex list-style-none">


                <li class="HeaderMenu-item position-relative flex-wrap flex-justify-between flex-items-center d-block d-lg-flex flex-lg-nowrap flex-lg-items-center js-details-container js-header-menu-item">
      <button type="button" class="HeaderMenu-link border-0 width-full width-lg-auto px-0 px-lg-2 py-lg-2 no-wrap d-flex flex-items-center flex-justify-between js-details-target" aria-expanded="false">
        Product
        <svg opacity="0.5" aria-hidden="true" height="16" viewBox="0 0 16 16" version="1.1" width="16" data-view-component="true" class="octicon octicon-chevron-down HeaderMenu-icon ml-1">
    <path d="M12.78 5.22a.749.749 0 0 1 0 1.06l-4.25 4.25a.749.749 0 0 1-1.06 0L3.22 6.28a.749.749 0 1 1 1.06-1.06L8 8.939l3.72-3.719a.749.749 0 0 1 1.06 0Z"></path>
</svg>
      </button>

      <div class="HeaderMenu-dropdown dropdown-menu rounded m-0 p-0 pt-2 pt-lg-4 position-relative position-lg-absolute left-0 left-lg-n3 pb-2 pb-lg-4 d-lg-flex flex-wrap dropdown-menu-wide">
          <div class="HeaderMenu-column pl-lg-4 px-lg-4">
              <div class="">

                <ul class="list-style-none f5" >
                    <li>
  <a class="HeaderMenu-dropdown-link d-block no-underline position-relative py-2 Link--secondary d-flex flex-items-center Link--has-description pb-lg-3" data-analytics-event="{&quot;location&quot;:&quot;navbar&quot;,&quot;action&quot;:&quot;github_copilot&quot;,&quot;context&quot;:&quot;product&quot;,&quot;tag&quot;:&quot;link&quot;,&quot;label&quot;:&quot;github_copilot_link_product_navbar&quot;}" href="https://github.com/features/copilot">
      <svg aria-hidden="true" height="24" viewBox="0 0 24 24" version="1.1" width="24" data-view-component="true" class="octicon octicon-copilot color-fg-subtle mr-3">
    <path d="M23.922 16.992c-.861 1.495-5.859 5.023-11.922 5.023-6.063 0-11.061-3.528-11.922-5.023A.641.641 0 0 1 0 16.736v-2.869a.841.841 0 0 1 .053-.22c.372-.935 1.347-2.292 2.605-2.656.167-.429.414-1.055.644-1.517a10.195 10.195 0 0 1-.052-1.086c0-1.331.282-2.499 1.132-3.368.397-.406.89-.717 1.474-.952 1.399-1.136 3.392-2.093 6.122-2.093 2.731 0 4.767.957 6.166 2.093.584.235 1.077.546 1.474.952.85.869 1.132 2.037 1.132 3.368 0 .368-.014.733-.052 1.086.23.462.477 1.088.644 1.517 1.258.364 2.233 1.721 2.605 2.656a.832.832 0 0 1 .053.22v2.869a.641.641 0 0 1-.078.256ZM12.172 11h-.344a4.323 4.323 0 0 1-.355.508C10.703 12.455 9.555 13 7.965 13c-1.725 0-2.989-.359-3.782-1.259a2.005 2.005 0 0 1-.085-.104L4 11.741v6.585c1.435.779 4.514 2.179 8 2.179 3.486 0 6.565-1.4 8-2.179v-6.585l-.098-.104s-.033.045-.085.104c-.793.9-2.057 1.259-3.782 1.259-1.59 0-2.738-.545-3.508-1.492a4.323 4.323 0 0 1-.355-.508h-.016.016Zm.641-2.935c.136 1.057.403 1.913.878 2.497.442.544 1.134.938 2.344.938 1.573 0 2.292-.337 2.657-.751.384-.435.558-1.15.558-2.361 0-1.14-.243-1.847-.705-2.319-.477-.488-1.319-.862-2.824-1.025-1.487-.161-2.192.138-2.533.529-.269.307-.437.808-.438 1.578v.021c0 .265.021.562.063.893Zm-1.626 0c.042-.331.063-.628.063-.894v-.02c-.001-.77-.169-1.271-.438-1.578-.341-.391-1.046-.69-2.533-.529-1.505.163-2.347.537-2.824 1.025-.462.472-.705 1.179-.705 2.319 0 1.211.175 1.926.558 2.361.365.414 1.084.751 2.657.751 1.21 0 1.902-.394 2.344-.938.475-.584.742-1.44.878-2.497Z"></path><path d="M14.5 14.25a1 1 0 0 1 1 1v2a1 1 0 0 1-2 0v-2a1 1 0 0 1 1-1Zm-5 0a1 1 0 0 1 1 1v2a1 1 0 0 1-2 0v-2a1 1 0 0 1 1-1Z"></path>
</svg>
      <div>
          <div class="color-fg-default h4">
            GitHub Copilot
          </div>
        Write better code with AI
      </div>

    
</a></li>

                    
                    <li>
  <a class="HeaderMenu-dropdown-link d-block no-underline position-relative py-2 Link--secondary d-flex flex-items-center Link--has-description pb-lg-3" data-analytics-event="{&quot;location&quot;:&quot;navbar&quot;,&quot;action&quot;:&quot;github_models&quot;,&quot;context&quot;:&quot;product&quot;,&quot;tag&quot;:&quot;link&quot;,&quot;label&quot;:&quot;github_models_link_product_navbar&quot;}" href="https://github.com/features/models">
      <svg aria-hidden="true" height="24" viewBox="0 0 24 24" version="1.1" width="24" data-view-component="true" class="octicon octicon-ai-model color-fg-subtle mr-3">
    <path d="M19.375 8.5a3.25 3.25 0 1 1-3.163 4h-3a3.252 3.252 0 0 1-4.443 2.509L7.214 17.76a3.25 3.25 0 1 1-1.342-.674l1.672-2.957A3.238 3.238 0 0 1 6.75 12c0-.907.371-1.727.97-2.316L6.117 6.846A3.253 3.253 0 0 1 1.875 3.75a3.25 3.25 0 1 1 5.526 2.32l1.603 2.836A3.25 3.25 0 0 1 13.093 11h3.119a3.252 3.252 0 0 1 3.163-2.5ZM10 10.25a1.75 1.75 0 1 0-.001 3.499A1.75 1.75 0 0 0 10 10.25ZM5.125 2a1.75 1.75 0 1 0 0 3.5 1.75 1.75 0 0 0 0-3.5Zm12.5 9.75a1.75 1.75 0 1 0 3.5 0 1.75 1.75 0 0 0-3.5 0Zm-14.25 8.5a1.75 1.75 0 1 0 3.501-.001 1.75 1.75 0 0 0-3.501.001Z"></path>
</svg>
      <div>
          <div class="color-fg-default h4">
            GitHub Models
              <span class="HeaderMenu-label">
                New
              </span>
          </div>
        Manage and compare prompts
      </div>

    
</a></li>

                    <li>
  <a class="HeaderMenu-dropdown-link d-block no-underline position-relative py-2 Link--secondary d-flex flex-items-center Link--has-description pb-lg-3" data-analytics-event="{&quot;location&quot;:&quot;navbar&quot;,&quot;action&quot;:&quot;github_advanced_security&quot;,&quot;context&quot;:&quot;product&quot;,&quot;tag&quot;:&quot;link&quot;,&quot;label&quot;:&quot;github_advanced_security_link_product_navbar&quot;}" href="https://github.com/security/advanced-security">
      <svg aria-hidden="true" height="24" viewBox="0 0 24 24" version="1.1" width="24" data-view-component="true" class="octicon octicon-shield-check color-fg-subtle mr-3">
    <path d="M16.53 9.78a.75.75 0 0 0-1.06-1.06L11 13.19l-1.97-1.97a.75.75 0 0 0-1.06 1.06l2.5 2.5a.75.75 0 0 0 1.06 0l5-5Z"></path><path d="m12.54.637 8.25 2.675A1.75 1.75 0 0 1 22 4.976V10c0 6.19-3.771 10.704-9.401 12.83a1.704 1.704 0 0 1-1.198 0C5.77 20.705 2 16.19 2 10V4.976c0-.758.489-1.43 1.21-1.664L11.46.637a1.748 1.748 0 0 1 1.08 0Zm-.617 1.426-8.25 2.676a.249.249 0 0 0-.173.237V10c0 5.46 3.28 9.483 8.43 11.426a.199.199 0 0 0 .14 0C17.22 19.483 20.5 15.461 20.5 10V4.976a.25.25 0 0 0-.173-.237l-8.25-2.676a.253.253 0 0 0-.154 0Z"></path>
</svg>
      <div>
          <div class="color-fg-default h4">
            GitHub Advanced Security
          </div>
        Find and fix vulnerabilities
      </div>

    
</a></li>

                    <li>
  <a class="HeaderMenu-dropdown-link d-block no-underline position-relative py-2 Link--secondary d-flex flex-items-center Link--has-description pb-lg-3" data-analytics-event="{&quot;location&quot;:&quot;navbar&quot;,&quot;action&quot;:&quot;actions&quot;,&quot;context&quot;:&quot;product&quot;,&quot;tag&quot;:&quot;link&quot;,&quot;label&quot;:&quot;actions_link_product_navbar&quot;}" href="https://github.com/features/actions">
      <svg aria-hidden="true" height="24" viewBox="0 0 24 24" version="1.1" width="24" data-view-component="true" class="octicon octicon-workflow color-fg-subtle mr-3">
    <path d="M1 3a2 2 0 0 1 2-2h6.5a2 2 0 0 1 2 2v6.5a2 2 0 0 1-2 2H7v4.063C7 16.355 7.644 17 8.438 17H12.5v-2.5a2 2 0 0 1 2-2H21a2 2 0 0 1 2 2V21a2 2 0 0 1-2 2h-6.5a2 2 0 0 1-2-2v-2.5H8.437A2.939 2.939 0 0 1 5.5 15.562V11.5H3a2 2 0 0 1-2-2Zm2-.5a.5.5 0 0 0-.5.5v6.5a.5.5 0 0 0 .5.5h6.5a.5.5 0 0 0 .5-.5V3a.5.5 0 0 0-.5-.5ZM14.5 14a.5.5 0 0 0-.5.5V21a.5.5 0 0 0 .5.5H21a.5.5 0 0 0 .5-.5v-6.5a.5.5 0 0 0-.5-.5Z"></path>
</svg>
      <div>
          <div class="color-fg-default h4">
            Actions
          </div>
        Automate any workflow
      </div>

    
</a></li>

                    <li>
  <a class="HeaderMenu-dropdown-link d-block no-underline position-relative py-2 Link--secondary d-flex flex-items-center Link--has-description" data-analytics-event="{&quot;location&quot;:&quot;navbar&quot;,&quot;action&quot;:&quot;codespaces&quot;,&quot;context&quot;:&quot;product&quot;,&quot;tag&quot;:&quot;link&quot;,&quot;label&quot;:&quot;codespaces_link_product_navbar&quot;}" href="https://github.com/features/codespaces">
      <svg aria-hidden="true" height="24" viewBox="0 0 24 24" version="1.1" width="24" data-view-component="true" class="octicon octicon-codespaces color-fg-subtle mr-3">
    <path d="M3.5 3.75C3.5 2.784 4.284 2 5.25 2h13.5c.966 0 1.75.784 1.75 1.75v7.5A1.75 1.75 0 0 1 18.75 13H5.25a1.75 1.75 0 0 1-1.75-1.75Zm-2 12c0-.966.784-1.75 1.75-1.75h17.5c.966 0 1.75.784 1.75 1.75v4a1.75 1.75 0 0 1-1.75 1.75H3.25a1.75 1.75 0 0 1-1.75-1.75ZM5.25 3.5a.25.25 0 0 0-.25.25v7.5c0 .138.112.25.25.25h13.5a.25.25 0 0 0 .25-.25v-7.5a.25.25 0 0 0-.25-.25Zm-2 12a.25.25 0 0 0-.25.25v4c0 .138.112.25.25.25h17.5a.25.25 0 0 0 .25-.25v-4a.25.25 0 0 0-.25-.25Z"></path><path d="M10 17.75a.75.75 0 0 1 .75-.75h6.5a.75.75 0 0 1 0 1.5h-6.5a.75.75 0 0 1-.75-.75Zm-4 0a.75.75 0 0 1 .75-.75h.5a.75.75 0 0 1 0 1.5h-.5a.75.75 0 0 1-.75-.75Z"></path>
</svg>
      <div>
          <div class="color-fg-default h4">
            Codespaces
          </div>
        Instant dev environments
      </div>

    
</a></li>

                </ul>
              </div>
          </div>
          <div class="HeaderMenu-column pl-lg-4 px-lg-4 pb-3 pb-lg-0">
              <div class="border-bottom border-lg-bottom-0 pb-3">

                <ul class="list-style-none f5" >
                    
                    <li>
  <a class="HeaderMenu-dropdown-link d-block no-underline position-relative py-2 Link--secondary d-flex flex-items-center Link--has-description pb-lg-3" data-analytics-event="{&quot;location&quot;:&quot;navbar&quot;,&quot;action&quot;:&quot;issues&quot;,&quot;context&quot;:&quot;product&quot;,&quot;tag&quot;:&quot;link&quot;,&quot;label&quot;:&quot;issues_link_product_navbar&quot;}" href="https://github.com/features/issues">
      <svg aria-hidden="true" height="24" viewBox="0 0 24 24" version="1.1" width="24" data-view-component="true" class="octicon octicon-issue-opened color-fg-subtle mr-3">
    <path d="M12 1c6.075 0 11 4.925 11 11s-4.925 11-11 11S1 18.075 1 12 5.925 1 12 1ZM2.5 12a9.5 9.5 0 0 0 9.5 9.5 9.5 9.5 0 0 0 9.5-9.5A9.5 9.5 0 0 0 12 2.5 9.5 9.5 0 0 0 2.5 12Zm9.5 2a2 2 0 1 1-.001-3.999A2 2 0 0 1 12 14Z"></path>
</svg>
      <div>
          <div class="color-fg-default h4">
            Issues
          </div>
        Plan and track work
      </div>

    
</a></li>

                    <li>
  <a class="HeaderMenu-dropdown-link d-block no-underline position-relative py-2 Link--secondary d-flex flex-items-center Link--has-description pb-lg-3" data-analytics-event="{&quot;location&quot;:&quot;navbar&quot;,&quot;action&quot;:&quot;code_review&quot;,&quot;context&quot;:&quot;product&quot;,&quot;tag&quot;:&quot;link&quot;,&quot;label&quot;:&quot;code_review_link_product_navbar&quot;}" href="https://github.com/features/code-review">
      <svg aria-hidden="true" height="24" viewBox="0 0 24 24" version="1.1" width="24" data-view-component="true" class="octicon octicon-code-review color-fg-subtle mr-3">
    <path d="M10.3 6.74a.75.75 0 0 1-.04 1.06l-2.908 2.7 2.908 2.7a.75.75 0 1 1-1.02 1.1l-3.5-3.25a.75.75 0 0 1 0-1.1l3.5-3.25a.75.75 0 0 1 1.06.04Zm3.44 1.06a.75.75 0 1 1 1.02-1.1l3.5 3.25a.75.75 0 0 1 0 1.1l-3.5 3.25a.75.75 0 1 1-1.02-1.1l2.908-2.7-2.908-2.7Z"></path><path d="M1.5 4.25c0-.966.784-1.75 1.75-1.75h17.5c.966 0 1.75.784 1.75 1.75v12.5a1.75 1.75 0 0 1-1.75 1.75h-9.69l-3.573 3.573A1.458 1.458 0 0 1 5 21.043V18.5H3.25a1.75 1.75 0 0 1-1.75-1.75ZM3.25 4a.25.25 0 0 0-.25.25v12.5c0 .138.112.25.25.25h2.5a.75.75 0 0 1 .75.75v3.19l3.72-3.72a.749.749 0 0 1 .53-.22h10a.25.25 0 0 0 .25-.25V4.25a.25.25 0 0 0-.25-.25Z"></path>
</svg>
      <div>
          <div class="color-fg-default h4">
            Code Review
          </div>
        Manage code changes
      </div>

    
</a></li>

                    <li>
  <a class="HeaderMenu-dropdown-link d-block no-underline position-relative py-2 Link--secondary d-flex flex-items-center Link--has-description pb-lg-3" data-analytics-event="{&quot;location&quot;:&quot;navbar&quot;,&quot;action&quot;:&quot;discussions&quot;,&quot;context&quot;:&quot;product&quot;,&quot;tag&quot;:&quot;link&quot;,&quot;label&quot;:&quot;discussions_link_product_navbar&quot;}" href="https://github.com/features/discussions">
      <svg aria-hidden="true" height="24" viewBox="0 0 24 24" version="1.1" width="24" data-view-component="true" class="octicon octicon-comment-discussion color-fg-subtle mr-3">
    <path d="M1.75 1h12.5c.966 0 1.75.784 1.75 1.75v9.5A1.75 1.75 0 0 1 14.25 14H8.061l-2.574 2.573A1.458 1.458 0 0 1 3 15.543V14H1.75A1.75 1.75 0 0 1 0 12.25v-9.5C0 1.784.784 1 1.75 1ZM1.5 2.75v9.5c0 .138.112.25.25.25h2a.75.75 0 0 1 .75.75v2.19l2.72-2.72a.749.749 0 0 1 .53-.22h6.5a.25.25 0 0 0 .25-.25v-9.5a.25.25 0 0 0-.25-.25H1.75a.25.25 0 0 0-.25.25Z"></path><path d="M22.5 8.75a.25.25 0 0 0-.25-.25h-3.5a.75.75 0 0 1 0-1.5h3.5c.966 0 1.75.784 1.75 1.75v9.5A1.75 1.75 0 0 1 22.25 20H21v1.543a1.457 1.457 0 0 1-2.487 1.03L15.939 20H10.75A1.75 1.75 0 0 1 9 18.25v-1.465a.75.75 0 0 1 1.5 0v1.465c0 .138.112.25.25.25h5.5a.75.75 0 0 1 .53.22l2.72 2.72v-2.19a.75.75 0 0 1 .75-.75h2a.25.25 0 0 0 .25-.25v-9.5Z"></path>
</svg>
      <div>
          <div class="color-fg-default h4">
            Discussions
          </div>
        Collaborate outside of code
      </div>

    
</a></li>

                    <li>
  <a class="HeaderMenu-dropdown-link d-block no-underline position-relative py-2 Link--secondary d-flex flex-items-center Link--has-description" data-analytics-event="{&quot;location&quot;:&quot;navbar&quot;,&quot;action&quot;:&quot;code_search&quot;,&quot;context&quot;:&quot;product&quot;,&quot;tag&quot;:&quot;link&quot;,&quot;label&quot;:&quot;code_search_link_product_navbar&quot;}" href="https://github.com/features/code-search">
      <svg aria-hidden="true" height="24" viewBox="0 0 24 24" version="1.1" width="24" data-view-component="true" class="octicon octicon-code-square color-fg-subtle mr-3">
    <path d="M10.3 8.24a.75.75 0 0 1-.04 1.06L7.352 12l2.908 2.7a.75.75 0 1 1-1.02 1.1l-3.5-3.25a.75.75 0 0 1 0-1.1l3.5-3.25a.75.75 0 0 1 1.06.04Zm3.44 1.06a.75.75 0 1 1 1.02-1.1l3.5 3.25a.75.75 0 0 1 0 1.1l-3.5 3.25a.75.75 0 1 1-1.02-1.1l2.908-2.7-2.908-2.7Z"></path><path d="M2 3.75C2 2.784 2.784 2 3.75 2h16.5c.966 0 1.75.784 1.75 1.75v16.5A1.75 1.75 0 0 1 20.25 22H3.75A1.75 1.75 0 0 1 2 20.25Zm1.75-.25a.25.25 0 0 0-.25.25v16.5c0 .138.112.25.25.25h16.5a.25.25 0 0 0 .25-.25V3.75a.25.25 0 0 0-.25-.25Z"></path>
</svg>
      <div>
          <div class="color-fg-default h4">
            Code Search
          </div>
        Find more, search less
      </div>

    
</a></li>

                </ul>
              </div>
          </div>
          <div class="HeaderMenu-column pl-lg-4 border-lg-left pr-lg-7">
              <div class="border-bottom border-lg-bottom-0 border-bottom-0">
                    <span class="d-block h4 color-fg-default my-1" id="product-explore-heading">Explore</span>

                <ul class="list-style-none f5" aria-labelledby="product-explore-heading">
                    <li>
  <a class="HeaderMenu-dropdown-link d-block no-underline position-relative py-2 Link--secondary" data-analytics-event="{&quot;location&quot;:&quot;navbar&quot;,&quot;action&quot;:&quot;why_github&quot;,&quot;context&quot;:&quot;product&quot;,&quot;tag&quot;:&quot;link&quot;,&quot;label&quot;:&quot;why_github_link_product_navbar&quot;}" href="https://github.com/why-github">
      Why GitHub

    
</a></li>

                    <li>
  <a class="HeaderMenu-dropdown-link d-block no-underline position-relative py-2 Link--secondary" data-analytics-event="{&quot;location&quot;:&quot;navbar&quot;,&quot;action&quot;:&quot;all_features&quot;,&quot;context&quot;:&quot;product&quot;,&quot;tag&quot;:&quot;link&quot;,&quot;label&quot;:&quot;all_features_link_product_navbar&quot;}" href="https://github.com/features">
      All features

    
</a></li>

                    <li>
  <a class="HeaderMenu-dropdown-link d-block no-underline position-relative py-2 Link--secondary Link--external" target="_blank" data-analytics-event="{&quot;location&quot;:&quot;navbar&quot;,&quot;action&quot;:&quot;documentation&quot;,&quot;context&quot;:&quot;product&quot;,&quot;tag&quot;:&quot;link&quot;,&quot;label&quot;:&quot;documentation_link_product_navbar&quot;}" href="https://docs.github.com">
      Documentation

    <svg aria-hidden="true" height="16" viewBox="0 0 16 16" version="1.1" width="16" data-view-component="true" class="octicon octicon-link-external HeaderMenu-external-icon color-fg-subtle">
    <path d="M3.75 2h3.5a.75.75 0 0 1 0 1.5h-3.5a.25.25 0 0 0-.25.25v8.5c0 .138.112.25.25.25h8.5a.25.25 0 0 0 .25-.25v-3.5a.75.75 0 0 1 1.5 0v3.5A1.75 1.75 0 0 1 12.25 14h-8.5A1.75 1.75 0 0 1 2 12.25v-8.5C2 2.784 2.784 2 3.75 2Zm6.854-1h4.146a.25.25 0 0 1 .25.25v4.146a.25.25 0 0 1-.427.177L13.03 4.03 9.28 7.78a.751.751 0 0 1-1.042-.018.751.751 0 0 1-.018-1.042l3.75-3.75-1.543-1.543A.25.25 0 0 1 10.604 1Z"></path>
</svg>
</a></li>

                    <li>
  <a class="HeaderMenu-dropdown-link d-block no-underline position-relative py-2 Link--secondary Link--external" target="_blank" data-analytics-event="{&quot;location&quot;:&quot;navbar&quot;,&quot;action&quot;:&quot;github_skills&quot;,&quot;context&quot;:&quot;product&quot;,&quot;tag&quot;:&quot;link&quot;,&quot;label&quot;:&quot;github_skills_link_product_navbar&quot;}" href="https://skills.github.com">
      GitHub Skills

    <svg aria-hidden="true" height="16" viewBox="0 0 16 16" version="1.1" width="16" data-view-component="true" class="octicon octicon-link-external HeaderMenu-external-icon color-fg-subtle">
    <path d="M3.75 2h3.5a.75.75 0 0 1 0 1.5h-3.5a.25.25 0 0 0-.25.25v8.5c0 .138.112.25.25.25h8.5a.25.25 0 0 0 .25-.25v-3.5a.75.75 0 0 1 1.5 0v3.5A1.75 1.75 0 0 1 12.25 14h-8.5A1.75 1.75 0 0 1 2 12.25v-8.5C2 2.784 2.784 2 3.75 2Zm6.854-1h4.146a.25.25 0 0 1 .25.25v4.146a.25.25 0 0 1-.427.177L13.03 4.03 9.28 7.78a.751.751 0 0 1-1.042-.018.751.751 0 0 1-.018-1.042l3.75-3.75-1.543-1.543A.25.25 0 0 1 10.604 1Z"></path>
</svg>
</a></li>

                    <li>
  <a class="HeaderMenu-dropdown-link d-block no-underline position-relative py-2 Link--secondary Link--external" target="_blank" data-analytics-event="{&quot;location&quot;:&quot;navbar&quot;,&quot;action&quot;:&quot;blog&quot;,&quot;context&quot;:&quot;product&quot;,&quot;tag&quot;:&quot;link&quot;,&quot;label&quot;:&quot;blog_link_product_navbar&quot;}" href="https://github.blog">
      Blog

    <svg aria-hidden="true" height="16" viewBox="0 0 16 16" version="1.1" width="16" data-view-component="true" class="octicon octicon-link-external HeaderMenu-external-icon color-fg-subtle">
    <path d="M3.75 2h3.5a.75.75 0 0 1 0 1.5h-3.5a.25.25 0 0 0-.25.25v8.5c0 .138.112.25.25.25h8.5a.25.25 0 0 0 .25-.25v-3.5a.75.75 0 0 1 1.5 0v3.5A1.75 1.75 0 0 1 12.25 14h-8.5A1.75 1.75 0 0 1 2 12.25v-8.5C2 2.784 2.784 2 3.75 2Zm6.854-1h4.146a.25.25 0 0 1 .25.25v4.146a.25.25 0 0 1-.427.177L13.03 4.03 9.28 7.78a.751.751 0 0 1-1.042-.018.751.751 0 0 1-.018-1.042l3.75-3.75-1.543-1.543A.25.25 0 0 1 10.604 1Z"></path>
</svg>
</a></li>

                </ul>
              </div>
          </div>

      </div>
</li>


                <li class="HeaderMenu-item position-relative flex-wrap flex-justify-between flex-items-center d-block d-lg-flex flex-lg-nowrap flex-lg-items-center js-details-container js-header-menu-item">
      <button type="button" class="HeaderMenu-link border-0 width-full width-lg-auto px-0 px-lg-2 py-lg-2 no-wrap d-flex flex-items-center flex-justify-between js-details-target" aria-expanded="false">
        Solutions
        <svg opacity="0.5" aria-hidden="true" height="16" viewBox="0 0 16 16" version="1.1" width="16" data-view-component="true" class="octicon octicon-chevron-down HeaderMenu-icon ml-1">
    <path d="M12.78 5.22a.749.749 0 0 1 0 1.06l-4.25 4.25a.749.749 0 0 1-1.06 0L3.22 6.28a.749.749 0 1 1 1.06-1.06L8 8.939l3.72-3.719a.749.749 0 0 1 1.06 0Z"></path>
</svg>
      </button>

      <div class="HeaderMenu-dropdown dropdown-menu rounded m-0 p-0 pt-2 pt-lg-4 position-relative position-lg-absolute left-0 left-lg-n3 d-lg-flex flex-wrap dropdown-menu-wide">
          <div class="HeaderMenu-column pl-lg-4 px-lg-4 pb-3 pb-lg-0">
              <div class="border-bottom border-lg-bottom-0 mb-3 pb-3">
                    <span class="d-block h4 color-fg-default my-1" id="solutions-by-company-size-heading">By company size</span>

                <ul class="list-style-none f5" aria-labelledby="solutions-by-company-size-heading">
                    <li>
  <a class="HeaderMenu-dropdown-link d-block no-underline position-relative py-2 Link--secondary" data-analytics-event="{&quot;location&quot;:&quot;navbar&quot;,&quot;action&quot;:&quot;enterprises&quot;,&quot;context&quot;:&quot;solutions&quot;,&quot;tag&quot;:&quot;link&quot;,&quot;label&quot;:&quot;enterprises_link_solutions_navbar&quot;}" href="https://github.com/enterprise">
      Enterprises

    
</a></li>

                    <li>
  <a class="HeaderMenu-dropdown-link d-block no-underline position-relative py-2 Link--secondary" data-analytics-event="{&quot;location&quot;:&quot;navbar&quot;,&quot;action&quot;:&quot;small_and_medium_teams&quot;,&quot;context&quot;:&quot;solutions&quot;,&quot;tag&quot;:&quot;link&quot;,&quot;label&quot;:&quot;small_and_medium_teams_link_solutions_navbar&quot;}" href="https://github.com/team">
      Small and medium teams

    
</a></li>

                    <li>
  <a class="HeaderMenu-dropdown-link d-block no-underline position-relative py-2 Link--secondary" data-analytics-event="{&quot;location&quot;:&quot;navbar&quot;,&quot;action&quot;:&quot;startups&quot;,&quot;context&quot;:&quot;solutions&quot;,&quot;tag&quot;:&quot;link&quot;,&quot;label&quot;:&quot;startups_link_solutions_navbar&quot;}" href="https://github.com/enterprise/startups">
      Startups

    
</a></li>

                    <li>
  <a class="HeaderMenu-dropdown-link d-block no-underline position-relative py-2 Link--secondary" data-analytics-event="{&quot;location&quot;:&quot;navbar&quot;,&quot;action&quot;:&quot;nonprofits&quot;,&quot;context&quot;:&quot;solutions&quot;,&quot;tag&quot;:&quot;link&quot;,&quot;label&quot;:&quot;nonprofits_link_solutions_navbar&quot;}" href="/solutions/industry/nonprofits">
      Nonprofits

    
</a></li>

                </ul>
              </div>
              <div class="border-bottom border-lg-bottom-0 pb-3">
                    <span class="d-block h4 color-fg-default my-1" id="solutions-by-use-case-heading">By use case</span>

                <ul class="list-style-none f5" aria-labelledby="solutions-by-use-case-heading">
                    <li>
  <a class="HeaderMenu-dropdown-link d-block no-underline position-relative py-2 Link--secondary" data-analytics-event="{&quot;location&quot;:&quot;navbar&quot;,&quot;action&quot;:&quot;devsecops&quot;,&quot;context&quot;:&quot;solutions&quot;,&quot;tag&quot;:&quot;link&quot;,&quot;label&quot;:&quot;devsecops_link_solutions_navbar&quot;}" href="/solutions/use-case/devsecops">
      DevSecOps

    
</a></li>

                    <li>
  <a class="HeaderMenu-dropdown-link d-block no-underline position-relative py-2 Link--secondary" data-analytics-event="{&quot;location&quot;:&quot;navbar&quot;,&quot;action&quot;:&quot;devops&quot;,&quot;context&quot;:&quot;solutions&quot;,&quot;tag&quot;:&quot;link&quot;,&quot;label&quot;:&quot;devops_link_solutions_navbar&quot;}" href="/solutions/use-case/devops">
      DevOps

    
</a></li>

                    <li>
  <a class="HeaderMenu-dropdown-link d-block no-underline position-relative py-2 Link--secondary" data-analytics-event="{&quot;location&quot;:&quot;navbar&quot;,&quot;action&quot;:&quot;ci_cd&quot;,&quot;context&quot;:&quot;solutions&quot;,&quot;tag&quot;:&quot;link&quot;,&quot;label&quot;:&quot;ci_cd_link_solutions_navbar&quot;}" href="/solutions/use-case/ci-cd">
      CI/CD

    
</a></li>

                    <li>
  <a class="HeaderMenu-dropdown-link d-block no-underline position-relative py-2 Link--secondary" data-analytics-event="{&quot;location&quot;:&quot;navbar&quot;,&quot;action&quot;:&quot;view_all_use_cases&quot;,&quot;context&quot;:&quot;solutions&quot;,&quot;tag&quot;:&quot;link&quot;,&quot;label&quot;:&quot;view_all_use_cases_link_solutions_navbar&quot;}" href="/solutions/use-case">
      View all use cases

    
</a></li>

                </ul>
              </div>
          </div>
          <div class="HeaderMenu-column pl-lg-4 border-lg-left pr-lg-7">
              <div class="border-bottom border-lg-bottom-0 pb-3 pb-lg-0">
                    <span class="d-block h4 color-fg-default my-1" id="solutions-by-industry-heading">By industry</span>

                <ul class="list-style-none f5" aria-labelledby="solutions-by-industry-heading">
                    <li>
  <a class="HeaderMenu-dropdown-link d-block no-underline position-relative py-2 Link--secondary" data-analytics-event="{&quot;location&quot;:&quot;navbar&quot;,&quot;action&quot;:&quot;healthcare&quot;,&quot;context&quot;:&quot;solutions&quot;,&quot;tag&quot;:&quot;link&quot;,&quot;label&quot;:&quot;healthcare_link_solutions_navbar&quot;}" href="/solutions/industry/healthcare">
      Healthcare

    
</a></li>

                    <li>
  <a class="HeaderMenu-dropdown-link d-block no-underline position-relative py-2 Link--secondary" data-analytics-event="{&quot;location&quot;:&quot;navbar&quot;,&quot;action&quot;:&quot;financial_services&quot;,&quot;context&quot;:&quot;solutions&quot;,&quot;tag&quot;:&quot;link&quot;,&quot;label&quot;:&quot;financial_services_link_solutions_navbar&quot;}" href="/solutions/industry/financial-services">
      Financial services

    
</a></li>

                    <li>
  <a class="HeaderMenu-dropdown-link d-block no-underline position-relative py-2 Link--secondary" data-analytics-event="{&quot;location&quot;:&quot;navbar&quot;,&quot;action&quot;:&quot;manufacturing&quot;,&quot;context&quot;:&quot;solutions&quot;,&quot;tag&quot;:&quot;link&quot;,&quot;label&quot;:&quot;manufacturing_link_solutions_navbar&quot;}" href="/solutions/industry/manufacturing">
      Manufacturing

    
</a></li>

                    <li>
  <a class="HeaderMenu-dropdown-link d-block no-underline position-relative py-2 Link--secondary" data-analytics-event="{&quot;location&quot;:&quot;navbar&quot;,&quot;action&quot;:&quot;government&quot;,&quot;context&quot;:&quot;solutions&quot;,&quot;tag&quot;:&quot;link&quot;,&quot;label&quot;:&quot;government_link_solutions_navbar&quot;}" href="/solutions/industry/government">
      Government

    
</a></li>

                    <li>
  <a class="HeaderMenu-dropdown-link d-block no-underline position-relative py-2 Link--secondary" data-analytics-event="{&quot;location&quot;:&quot;navbar&quot;,&quot;action&quot;:&quot;view_all_industries&quot;,&quot;context&quot;:&quot;solutions&quot;,&quot;tag&quot;:&quot;link&quot;,&quot;label&quot;:&quot;view_all_industries_link_solutions_navbar&quot;}" href="/solutions/industry">
      View all industries

    
</a></li>

                </ul>
              </div>
          </div>

         <div class="HeaderMenu-trailing-link rounded-bottom-2 flex-shrink-0 mt-lg-4 px-lg-4 py-4 py-lg-3 f5 text-semibold">
            <a href="/solutions">
              View all solutions
              <svg aria-hidden="true" height="16" viewBox="0 0 16 16" version="1.1" width="16" data-view-component="true" class="octicon octicon-chevron-right HeaderMenu-trailing-link-icon">
    <path d="M6.22 3.22a.75.75 0 0 1 1.06 0l4.25 4.25a.75.75 0 0 1 0 1.06l-4.25 4.25a.751.751 0 0 1-1.042-.018.751.751 0 0 1-.018-1.042L9.94 8 6.22 4.28a.75.75 0 0 1 0-1.06Z"></path>
</svg>
</a>         </div>
      </div>
</li>


                <li class="HeaderMenu-item position-relative flex-wrap flex-justify-between flex-items-center d-block d-lg-flex flex-lg-nowrap flex-lg-items-center js-details-container js-header-menu-item">
      <button type="button" class="HeaderMenu-link border-0 width-full width-lg-auto px-0 px-lg-2 py-lg-2 no-wrap d-flex flex-items-center flex-justify-between js-details-target" aria-expanded="false">
        Resources
        <svg opacity="0.5" aria-hidden="true" height="16" viewBox="0 0 16 16" version="1.1" width="16" data-view-component="true" class="octicon octicon-chevron-down HeaderMenu-icon ml-1">
    <path d="M12.78 5.22a.749.749 0 0 1 0 1.06l-4.25 4.25a.749.749 0 0 1-1.06 0L3.22 6.28a.749.749 0 1 1 1.06-1.06L8 8.939l3.72-3.719a.749.749 0 0 1 1.06 0Z"></path>
</svg>
      </button>

      <div class="HeaderMenu-dropdown dropdown-menu rounded m-0 p-0 pt-2 pt-lg-4 position-relative position-lg-absolute left-0 left-lg-n3 pb-2 pb-lg-4 d-lg-flex flex-wrap dropdown-menu-wide">
          <div class="HeaderMenu-column pl-lg-4 px-lg-4 pb-3 pb-lg-0">
              <div class="border-bottom border-lg-bottom-0 pb-3">
                    <span class="d-block h4 color-fg-default my-1" id="resources-topics-heading">Topics</span>

                <ul class="list-style-none f5" aria-labelledby="resources-topics-heading">
                    <li>
  <a class="HeaderMenu-dropdown-link d-block no-underline position-relative py-2 Link--secondary" data-analytics-event="{&quot;location&quot;:&quot;navbar&quot;,&quot;action&quot;:&quot;ai&quot;,&quot;context&quot;:&quot;resources&quot;,&quot;tag&quot;:&quot;link&quot;,&quot;label&quot;:&quot;ai_link_resources_navbar&quot;}" href="/resources/articles/ai">
      AI

    
</a></li>

                    <li>
  <a class="HeaderMenu-dropdown-link d-block no-underline position-relative py-2 Link--secondary" data-analytics-event="{&quot;location&quot;:&quot;navbar&quot;,&quot;action&quot;:&quot;devops&quot;,&quot;context&quot;:&quot;resources&quot;,&quot;tag&quot;:&quot;link&quot;,&quot;label&quot;:&quot;devops_link_resources_navbar&quot;}" href="/resources/articles/devops">
      DevOps

    
</a></li>

                    <li>
  <a class="HeaderMenu-dropdown-link d-block no-underline position-relative py-2 Link--secondary" data-analytics-event="{&quot;location&quot;:&quot;navbar&quot;,&quot;action&quot;:&quot;security&quot;,&quot;context&quot;:&quot;resources&quot;,&quot;tag&quot;:&quot;link&quot;,&quot;label&quot;:&quot;security_link_resources_navbar&quot;}" href="/resources/articles/security">
      Security

    
</a></li>

                    <li>
  <a class="HeaderMenu-dropdown-link d-block no-underline position-relative py-2 Link--secondary" data-analytics-event="{&quot;location&quot;:&quot;navbar&quot;,&quot;action&quot;:&quot;software_development&quot;,&quot;context&quot;:&quot;resources&quot;,&quot;tag&quot;:&quot;link&quot;,&quot;label&quot;:&quot;software_development_link_resources_navbar&quot;}" href="/resources/articles/software-development">
      Software Development

    
</a></li>

                    <li>
  <a class="HeaderMenu-dropdown-link d-block no-underline position-relative py-2 Link--secondary" data-analytics-event="{&quot;location&quot;:&quot;navbar&quot;,&quot;action&quot;:&quot;view_all&quot;,&quot;context&quot;:&quot;resources&quot;,&quot;tag&quot;:&quot;link&quot;,&quot;label&quot;:&quot;view_all_link_resources_navbar&quot;}" href="/resources/articles">
      View all

    
</a></li>

                </ul>
              </div>
          </div>
          <div class="HeaderMenu-column pl-lg-4 border-lg-left pr-lg-7">
              <div class="border-bottom border-lg-bottom-0 border-bottom-0">
                    <span class="d-block h4 color-fg-default my-1" id="resources-explore-heading">Explore</span>

                <ul class="list-style-none f5" aria-labelledby="resources-explore-heading">
                    <li>
  <a class="HeaderMenu-dropdown-link d-block no-underline position-relative py-2 Link--secondary Link--external" target="_blank" data-analytics-event="{&quot;location&quot;:&quot;navbar&quot;,&quot;action&quot;:&quot;learning_pathways&quot;,&quot;context&quot;:&quot;resources&quot;,&quot;tag&quot;:&quot;link&quot;,&quot;label&quot;:&quot;learning_pathways_link_resources_navbar&quot;}" href="https://resources.github.com/learn/pathways">
      Learning Pathways

    <svg aria-hidden="true" height="16" viewBox="0 0 16 16" version="1.1" width="16" data-view-component="true" class="octicon octicon-link-external HeaderMenu-external-icon color-fg-subtle">
    <path d="M3.75 2h3.5a.75.75 0 0 1 0 1.5h-3.5a.25.25 0 0 0-.25.25v8.5c0 .138.112.25.25.25h8.5a.25.25 0 0 0 .25-.25v-3.5a.75.75 0 0 1 1.5 0v3.5A1.75 1.75 0 0 1 12.25 14h-8.5A1.75 1.75 0 0 1 2 12.25v-8.5C2 2.784 2.784 2 3.75 2Zm6.854-1h4.146a.25.25 0 0 1 .25.25v4.146a.25.25 0 0 1-.427.177L13.03 4.03 9.28 7.78a.751.751 0 0 1-1.042-.018.751.751 0 0 1-.018-1.042l3.75-3.75-1.543-1.543A.25.25 0 0 1 10.604 1Z"></path>
</svg>
</a></li>

                    <li>
  <a class="HeaderMenu-dropdown-link d-block no-underline position-relative py-2 Link--secondary Link--external" target="_blank" data-analytics-event="{&quot;location&quot;:&quot;navbar&quot;,&quot;action&quot;:&quot;events_amp_webinars&quot;,&quot;context&quot;:&quot;resources&quot;,&quot;tag&quot;:&quot;link&quot;,&quot;label&quot;:&quot;events_amp_webinars_link_resources_navbar&quot;}" href="https://resources.github.com">
      Events &amp; Webinars

    <svg aria-hidden="true" height="16" viewBox="0 0 16 16" version="1.1" width="16" data-view-component="true" class="octicon octicon-link-external HeaderMenu-external-icon color-fg-subtle">
    <path d="M3.75 2h3.5a.75.75 0 0 1 0 1.5h-3.5a.25.25 0 0 0-.25.25v8.5c0 .138.112.25.25.25h8.5a.25.25 0 0 0 .25-.25v-3.5a.75.75 0 0 1 1.5 0v3.5A1.75 1.75 0 0 1 12.25 14h-8.5A1.75 1.75 0 0 1 2 12.25v-8.5C2 2.784 2.784 2 3.75 2Zm6.854-1h4.146a.25.25 0 0 1 .25.25v4.146a.25.25 0 0 1-.427.177L13.03 4.03 9.28 7.78a.751.751 0 0 1-1.042-.018.751.751 0 0 1-.018-1.042l3.75-3.75-1.543-1.543A.25.25 0 0 1 10.604 1Z"></path>
</svg>
</a></li>

                    <li>
  <a class="HeaderMenu-dropdown-link d-block no-underline position-relative py-2 Link--secondary" data-analytics-event="{&quot;location&quot;:&quot;navbar&quot;,&quot;action&quot;:&quot;ebooks_amp_whitepapers&quot;,&quot;context&quot;:&quot;resources&quot;,&quot;tag&quot;:&quot;link&quot;,&quot;label&quot;:&quot;ebooks_amp_whitepapers_link_resources_navbar&quot;}" href="https://github.com/resources/whitepapers">
      Ebooks &amp; Whitepapers

    
</a></li>

                    <li>
  <a class="HeaderMenu-dropdown-link d-block no-underline position-relative py-2 Link--secondary" data-analytics-event="{&quot;location&quot;:&quot;navbar&quot;,&quot;action&quot;:&quot;customer_stories&quot;,&quot;context&quot;:&quot;resources&quot;,&quot;tag&quot;:&quot;link&quot;,&quot;label&quot;:&quot;customer_stories_link_resources_navbar&quot;}" href="https://github.com/customer-stories">
      Customer Stories

    
</a></li>

                    <li>
  <a class="HeaderMenu-dropdown-link d-block no-underline position-relative py-2 Link--secondary Link--external" target="_blank" data-analytics-event="{&quot;location&quot;:&quot;navbar&quot;,&quot;action&quot;:&quot;partners&quot;,&quot;context&quot;:&quot;resources&quot;,&quot;tag&quot;:&quot;link&quot;,&quot;label&quot;:&quot;partners_link_resources_navbar&quot;}" href="https://partner.github.com">
      Partners

    <svg aria-hidden="true" height="16" viewBox="0 0 16 16" version="1.1" width="16" data-view-component="true" class="octicon octicon-link-external HeaderMenu-external-icon color-fg-subtle">
    <path d="M3.75 2h3.5a.75.75 0 0 1 0 1.5h-3.5a.25.25 0 0 0-.25.25v8.5c0 .138.112.25.25.25h8.5a.25.25 0 0 0 .25-.25v-3.5a.75.75 0 0 1 1.5 0v3.5A1.75 1.75 0 0 1 12.25 14h-8.5A1.75 1.75 0 0 1 2 12.25v-8.5C2 2.784 2.784 2 3.75 2Zm6.854-1h4.146a.25.25 0 0 1 .25.25v4.146a.25.25 0 0 1-.427.177L13.03 4.03 9.28 7.78a.751.751 0 0 1-1.042-.018.751.751 0 0 1-.018-1.042l3.75-3.75-1.543-1.543A.25.25 0 0 1 10.604 1Z"></path>
</svg>
</a></li>

                    <li>
  <a class="HeaderMenu-dropdown-link d-block no-underline position-relative py-2 Link--secondary" data-analytics-event="{&quot;location&quot;:&quot;navbar&quot;,&quot;action&quot;:&quot;executive_insights&quot;,&quot;context&quot;:&quot;resources&quot;,&quot;tag&quot;:&quot;link&quot;,&quot;label&quot;:&quot;executive_insights_link_resources_navbar&quot;}" href="https://github.com/solutions/executive-insights">
      Executive Insights

    
</a></li>

                </ul>
              </div>
          </div>

      </div>
</li>


                <li class="HeaderMenu-item position-relative flex-wrap flex-justify-between flex-items-center d-block d-lg-flex flex-lg-nowrap flex-lg-items-center js-details-container js-header-menu-item">
      <button type="button" class="HeaderMenu-link border-0 width-full width-lg-auto px-0 px-lg-2 py-lg-2 no-wrap d-flex flex-items-center flex-justify-between js-details-target" aria-expanded="false">
        Open Source
        <svg opacity="0.5" aria-hidden="true" height="16" viewBox="0 0 16 16" version="1.1" width="16" data-view-component="true" class="octicon octicon-chevron-down HeaderMenu-icon ml-1">
    <path d="M12.78 5.22a.749.749 0 0 1 0 1.06l-4.25 4.25a.749.749 0 0 1-1.06 0L3.22 6.28a.749.749 0 1 1 1.06-1.06L8 8.939l3.72-3.719a.749.749 0 0 1 1.06 0Z"></path>
</svg>
      </button>

      <div class="HeaderMenu-dropdown dropdown-menu rounded m-0 p-0 pt-2 pt-lg-4 position-relative position-lg-absolute left-0 left-lg-n3 pb-2 pb-lg-4">
          <div class="HeaderMenu-column px-lg-4">
              <div class="border-bottom mb-3 mb-lg-3 pb-3">

                <ul class="list-style-none f5" >
                    <li>
  <a class="HeaderMenu-dropdown-link d-block no-underline position-relative py-2 Link--secondary d-flex flex-items-center Link--has-description" data-analytics-event="{&quot;location&quot;:&quot;navbar&quot;,&quot;action&quot;:&quot;github_sponsors&quot;,&quot;context&quot;:&quot;open_source&quot;,&quot;tag&quot;:&quot;link&quot;,&quot;label&quot;:&quot;github_sponsors_link_open_source_navbar&quot;}" href="/sponsors">
      
      <div>
          <div class="color-fg-default h4">
            GitHub Sponsors
          </div>
        Fund open source developers
      </div>

    
</a></li>

                </ul>
              </div>
              <div class="border-bottom mb-3 mb-lg-3 pb-3">

                <ul class="list-style-none f5" >
                    <li>
  <a class="HeaderMenu-dropdown-link d-block no-underline position-relative py-2 Link--secondary d-flex flex-items-center Link--has-description" data-analytics-event="{&quot;location&quot;:&quot;navbar&quot;,&quot;action&quot;:&quot;the_readme_project&quot;,&quot;context&quot;:&quot;open_source&quot;,&quot;tag&quot;:&quot;link&quot;,&quot;label&quot;:&quot;the_readme_project_link_open_source_navbar&quot;}" href="https://github.com/readme">
      
      <div>
          <div class="color-fg-default h4">
            The ReadME Project
          </div>
        GitHub community articles
      </div>

    
</a></li>

                </ul>
              </div>
              <div class="border-bottom border-bottom-0">
                    <span class="d-block h4 color-fg-default my-1" id="open-source-repositories-heading">Repositories</span>

                <ul class="list-style-none f5" aria-labelledby="open-source-repositories-heading">
                    <li>
  <a class="HeaderMenu-dropdown-link d-block no-underline position-relative py-2 Link--secondary" data-analytics-event="{&quot;location&quot;:&quot;navbar&quot;,&quot;action&quot;:&quot;topics&quot;,&quot;context&quot;:&quot;open_source&quot;,&quot;tag&quot;:&quot;link&quot;,&quot;label&quot;:&quot;topics_link_open_source_navbar&quot;}" href="https://github.com/topics">
      Topics

    
</a></li>

                    <li>
  <a class="HeaderMenu-dropdown-link d-block no-underline position-relative py-2 Link--secondary" data-analytics-event="{&quot;location&quot;:&quot;navbar&quot;,&quot;action&quot;:&quot;trending&quot;,&quot;context&quot;:&quot;open_source&quot;,&quot;tag&quot;:&quot;link&quot;,&quot;label&quot;:&quot;trending_link_open_source_navbar&quot;}" href="https://github.com/trending">
      Trending

    
</a></li>

                    <li>
  <a class="HeaderMenu-dropdown-link d-block no-underline position-relative py-2 Link--secondary" data-analytics-event="{&quot;location&quot;:&quot;navbar&quot;,&quot;action&quot;:&quot;collections&quot;,&quot;context&quot;:&quot;open_source&quot;,&quot;tag&quot;:&quot;link&quot;,&quot;label&quot;:&quot;collections_link_open_source_navbar&quot;}" href="https://github.com/collections">
      Collections

    
</a></li>

                </ul>
              </div>
          </div>

      </div>
</li>


                <li class="HeaderMenu-item position-relative flex-wrap flex-justify-between flex-items-center d-block d-lg-flex flex-lg-nowrap flex-lg-items-center js-details-container js-header-menu-item">
      <button type="button" class="HeaderMenu-link border-0 width-full width-lg-auto px-0 px-lg-2 py-lg-2 no-wrap d-flex flex-items-center flex-justify-between js-details-target" aria-expanded="false">
        Enterprise
        <svg opacity="0.5" aria-hidden="true" height="16" viewBox="0 0 16 16" version="1.1" width="16" data-view-component="true" class="octicon octicon-chevron-down HeaderMenu-icon ml-1">
    <path d="M12.78 5.22a.749.749 0 0 1 0 1.06l-4.25 4.25a.749.749 0 0 1-1.06 0L3.22 6.28a.749.749 0 1 1 1.06-1.06L8 8.939l3.72-3.719a.749.749 0 0 1 1.06 0Z"></path>
</svg>
      </button>

      <div class="HeaderMenu-dropdown dropdown-menu rounded m-0 p-0 pt-2 pt-lg-4 position-relative position-lg-absolute left-0 left-lg-n3 pb-2 pb-lg-4">
          <div class="HeaderMenu-column px-lg-4">
              <div class="border-bottom mb-3 mb-lg-3 pb-3">

                <ul class="list-style-none f5" >
                    <li>
  <a class="HeaderMenu-dropdown-link d-block no-underline position-relative py-2 Link--secondary d-flex flex-items-center Link--has-description" data-analytics-event="{&quot;location&quot;:&quot;navbar&quot;,&quot;action&quot;:&quot;enterprise_platform&quot;,&quot;context&quot;:&quot;enterprise&quot;,&quot;tag&quot;:&quot;link&quot;,&quot;label&quot;:&quot;enterprise_platform_link_enterprise_navbar&quot;}" href="/enterprise">
      <svg aria-hidden="true" height="24" viewBox="0 0 24 24" version="1.1" width="24" data-view-component="true" class="octicon octicon-stack color-fg-subtle mr-3">
    <path d="M11.063 1.456a1.749 1.749 0 0 1 1.874 0l8.383 5.316a1.751 1.751 0 0 1 0 2.956l-8.383 5.316a1.749 1.749 0 0 1-1.874 0L2.68 9.728a1.751 1.751 0 0 1 0-2.956Zm1.071 1.267a.25.25 0 0 0-.268 0L3.483 8.039a.25.25 0 0 0 0 .422l8.383 5.316a.25.25 0 0 0 .268 0l8.383-5.316a.25.25 0 0 0 0-.422Z"></path><path d="M1.867 12.324a.75.75 0 0 1 1.035-.232l8.964 5.685a.25.25 0 0 0 .268 0l8.964-5.685a.75.75 0 0 1 .804 1.267l-8.965 5.685a1.749 1.749 0 0 1-1.874 0l-8.965-5.685a.75.75 0 0 1-.231-1.035Z"></path><path d="M1.867 16.324a.75.75 0 0 1 1.035-.232l8.964 5.685a.25.25 0 0 0 .268 0l8.964-5.685a.75.75 0 0 1 .804 1.267l-8.965 5.685a1.749 1.749 0 0 1-1.874 0l-8.965-5.685a.75.75 0 0 1-.231-1.035Z"></path>
</svg>
      <div>
          <div class="color-fg-default h4">
            Enterprise platform
          </div>
        AI-powered developer platform
      </div>

    
</a></li>

                </ul>
              </div>
              <div class="border-bottom border-bottom-0">
                    <span class="d-block h4 color-fg-default my-1" id="enterprise-available-add-ons-heading">Available add-ons</span>

                <ul class="list-style-none f5" aria-labelledby="enterprise-available-add-ons-heading">
                    <li>
  <a class="HeaderMenu-dropdown-link d-block no-underline position-relative py-2 Link--secondary d-flex flex-items-center Link--has-description pb-lg-3" data-analytics-event="{&quot;location&quot;:&quot;navbar&quot;,&quot;action&quot;:&quot;github_advanced_security&quot;,&quot;context&quot;:&quot;enterprise&quot;,&quot;tag&quot;:&quot;link&quot;,&quot;label&quot;:&quot;github_advanced_security_link_enterprise_navbar&quot;}" href="https://github.com/security/advanced-security">
      <svg aria-hidden="true" height="24" viewBox="0 0 24 24" version="1.1" width="24" data-view-component="true" class="octicon octicon-shield-check color-fg-subtle mr-3">
    <path d="M16.53 9.78a.75.75 0 0 0-1.06-1.06L11 13.19l-1.97-1.97a.75.75 0 0 0-1.06 1.06l2.5 2.5a.75.75 0 0 0 1.06 0l5-5Z"></path><path d="m12.54.637 8.25 2.675A1.75 1.75 0 0 1 22 4.976V10c0 6.19-3.771 10.704-9.401 12.83a1.704 1.704 0 0 1-1.198 0C5.77 20.705 2 16.19 2 10V4.976c0-.758.489-1.43 1.21-1.664L11.46.637a1.748 1.748 0 0 1 1.08 0Zm-.617 1.426-8.25 2.676a.249.249 0 0 0-.173.237V10c0 5.46 3.28 9.483 8.43 11.426a.199.199 0 0 0 .14 0C17.22 19.483 20.5 15.461 20.5 10V4.976a.25.25 0 0 0-.173-.237l-8.25-2.676a.253.253 0 0 0-.154 0Z"></path>
</svg>
      <div>
          <div class="color-fg-default h4">
            GitHub Advanced Security
          </div>
        Enterprise-grade security features
      </div>

    
</a></li>

                    <li>
  <a class="HeaderMenu-dropdown-link d-block no-underline position-relative py-2 Link--secondary d-flex flex-items-center Link--has-description pb-lg-3" data-analytics-event="{&quot;location&quot;:&quot;navbar&quot;,&quot;action&quot;:&quot;copilot_for_business&quot;,&quot;context&quot;:&quot;enterprise&quot;,&quot;tag&quot;:&quot;link&quot;,&quot;label&quot;:&quot;copilot_for_business_link_enterprise_navbar&quot;}" href="/features/copilot/copilot-business">
      <svg aria-hidden="true" height="24" viewBox="0 0 24 24" version="1.1" width="24" data-view-component="true" class="octicon octicon-copilot color-fg-subtle mr-3">
    <path d="M23.922 16.992c-.861 1.495-5.859 5.023-11.922 5.023-6.063 0-11.061-3.528-11.922-5.023A.641.641 0 0 1 0 16.736v-2.869a.841.841 0 0 1 .053-.22c.372-.935 1.347-2.292 2.605-2.656.167-.429.414-1.055.644-1.517a10.195 10.195 0 0 1-.052-1.086c0-1.331.282-2.499 1.132-3.368.397-.406.89-.717 1.474-.952 1.399-1.136 3.392-2.093 6.122-2.093 2.731 0 4.767.957 6.166 2.093.584.235 1.077.546 1.474.952.85.869 1.132 2.037 1.132 3.368 0 .368-.014.733-.052 1.086.23.462.477 1.088.644 1.517 1.258.364 2.233 1.721 2.605 2.656a.832.832 0 0 1 .053.22v2.869a.641.641 0 0 1-.078.256ZM12.172 11h-.344a4.323 4.323 0 0 1-.355.508C10.703 12.455 9.555 13 7.965 13c-1.725 0-2.989-.359-3.782-1.259a2.005 2.005 0 0 1-.085-.104L4 11.741v6.585c1.435.779 4.514 2.179 8 2.179 3.486 0 6.565-1.4 8-2.179v-6.585l-.098-.104s-.033.045-.085.104c-.793.9-2.057 1.259-3.782 1.259-1.59 0-2.738-.545-3.508-1.492a4.323 4.323 0 0 1-.355-.508h-.016.016Zm.641-2.935c.136 1.057.403 1.913.878 2.497.442.544 1.134.938 2.344.938 1.573 0 2.292-.337 2.657-.751.384-.435.558-1.15.558-2.361 0-1.14-.243-1.847-.705-2.319-.477-.488-1.319-.862-2.824-1.025-1.487-.161-2.192.138-2.533.529-.269.307-.437.808-.438 1.578v.021c0 .265.021.562.063.893Zm-1.626 0c.042-.331.063-.628.063-.894v-.02c-.001-.77-.169-1.271-.438-1.578-.341-.391-1.046-.69-2.533-.529-1.505.163-2.347.537-2.824 1.025-.462.472-.705 1.179-.705 2.319 0 1.211.175 1.926.558 2.361.365.414 1.084.751 2.657.751 1.21 0 1.902-.394 2.344-.938.475-.584.742-1.44.878-2.497Z"></path><path d="M14.5 14.25a1 1 0 0 1 1 1v2a1 1 0 0 1-2 0v-2a1 1 0 0 1 1-1Zm-5 0a1 1 0 0 1 1 1v2a1 1 0 0 1-2 0v-2a1 1 0 0 1 1-1Z"></path>
</svg>
      <div>
          <div class="color-fg-default h4">
            Copilot for business
          </div>
        Enterprise-grade AI features
      </div>

    
</a></li>

                    <li>
  <a class="HeaderMenu-dropdown-link d-block no-underline position-relative py-2 Link--secondary d-flex flex-items-center Link--has-description" data-analytics-event="{&quot;location&quot;:&quot;navbar&quot;,&quot;action&quot;:&quot;premium_support&quot;,&quot;context&quot;:&quot;enterprise&quot;,&quot;tag&quot;:&quot;link&quot;,&quot;label&quot;:&quot;premium_support_link_enterprise_navbar&quot;}" href="/premium-support">
      <svg aria-hidden="true" height="24" viewBox="0 0 24 24" version="1.1" width="24" data-view-component="true" class="octicon octicon-comment-discussion color-fg-subtle mr-3">
    <path d="M1.75 1h12.5c.966 0 1.75.784 1.75 1.75v9.5A1.75 1.75 0 0 1 14.25 14H8.061l-2.574 2.573A1.458 1.458 0 0 1 3 15.543V14H1.75A1.75 1.75 0 0 1 0 12.25v-9.5C0 1.784.784 1 1.75 1ZM1.5 2.75v9.5c0 .138.112.25.25.25h2a.75.75 0 0 1 .75.75v2.19l2.72-2.72a.749.749 0 0 1 .53-.22h6.5a.25.25 0 0 0 .25-.25v-9.5a.25.25 0 0 0-.25-.25H1.75a.25.25 0 0 0-.25.25Z"></path><path d="M22.5 8.75a.25.25 0 0 0-.25-.25h-3.5a.75.75 0 0 1 0-1.5h3.5c.966 0 1.75.784 1.75 1.75v9.5A1.75 1.75 0 0 1 22.25 20H21v1.543a1.457 1.457 0 0 1-2.487 1.03L15.939 20H10.75A1.75 1.75 0 0 1 9 18.25v-1.465a.75.75 0 0 1 1.5 0v1.465c0 .138.112.25.25.25h5.5a.75.75 0 0 1 .53.22l2.72 2.72v-2.19a.75.75 0 0 1 .75-.75h2a.25.25 0 0 0 .25-.25v-9.5Z"></path>
</svg>
      <div>
          <div class="color-fg-default h4">
            Premium Support
          </div>
        Enterprise-grade 24/7 support
      </div>

    
</a></li>

                </ul>
              </div>
          </div>

      </div>
</li>


                <li class="HeaderMenu-item position-relative flex-wrap flex-justify-between flex-items-center d-block d-lg-flex flex-lg-nowrap flex-lg-items-center js-details-container js-header-menu-item">
    <a class="HeaderMenu-link no-underline px-0 px-lg-2 py-3 py-lg-2 d-block d-lg-inline-block" data-analytics-event="{&quot;location&quot;:&quot;navbar&quot;,&quot;action&quot;:&quot;pricing&quot;,&quot;context&quot;:&quot;global&quot;,&quot;tag&quot;:&quot;link&quot;,&quot;label&quot;:&quot;pricing_link_global_navbar&quot;}" href="https://github.com/pricing">Pricing</a>
</li>

            </ul>
          </nav>

        <div class="d-flex flex-column flex-lg-row width-full flex-justify-end flex-lg-items-center text-center mt-3 mt-lg-0 text-lg-left ml-lg-3">
                


<qbsearch-input class="search-input" data-scope="repo:Nehaharish98/wine-quality-predictions-mlops" data-custom-scopes-path="/search/custom_scopes" data-delete-custom-scopes-csrf="hTKoJSEcMQ_qd83HXN2wmiT-FCm6yO7ROChA_Va9kEh-l0a07LA1YucMIZ6m82PVWKDF8EZSdBTLFiCdDlq7mQ" data-max-custom-scopes="10" data-header-redesign-enabled="false" data-initial-value="" data-blackbird-suggestions-path="/search/suggestions" data-jump-to-suggestions-path="/_graphql/GetSuggestedNavigationDestinations" data-current-repository="Nehaharish98/wine-quality-predictions-mlops" data-current-org="" data-current-owner="Nehaharish98" data-logged-in="false" data-copilot-chat-enabled="false" data-nl-search-enabled="false" data-retain-scroll-position="true">
  <div
    class="search-input-container search-with-dialog position-relative d-flex flex-row flex-items-center mr-4 rounded"
    data-action="click:qbsearch-input#searchInputContainerClicked"
  >
      <button
        type="button"
        class="header-search-button placeholder  input-button form-control d-flex flex-1 flex-self-stretch flex-items-center no-wrap width-full py-0 pl-2 pr-0 text-left border-0 box-shadow-none"
        data-target="qbsearch-input.inputButton"
        aria-label="Search or jump to…"
        aria-haspopup="dialog"
        placeholder="Search or jump to..."
        data-hotkey=s,/
        autocapitalize="off"
        data-analytics-event="{&quot;location&quot;:&quot;navbar&quot;,&quot;action&quot;:&quot;searchbar&quot;,&quot;context&quot;:&quot;global&quot;,&quot;tag&quot;:&quot;input&quot;,&quot;label&quot;:&quot;searchbar_input_global_navbar&quot;}"
        data-action="click:qbsearch-input#handleExpand"
      >
        <div class="mr-2 color-fg-muted">
          <svg aria-hidden="true" height="16" viewBox="0 0 16 16" version="1.1" width="16" data-view-component="true" class="octicon octicon-search">
    <path d="M10.68 11.74a6 6 0 0 1-7.922-8.982 6 6 0 0 1 8.982 7.922l3.04 3.04a.749.749 0 0 1-.326 1.275.749.749 0 0 1-.734-.215ZM11.5 7a4.499 4.499 0 1 0-8.997 0A4.499 4.499 0 0 0 11.5 7Z"></path>
</svg>
        </div>
        <span class="flex-1" data-target="qbsearch-input.inputButtonText">Search or jump to...</span>
          <div class="d-flex" data-target="qbsearch-input.hotkeyIndicator">
            <svg xmlns="http://www.w3.org/2000/svg" width="22" height="20" aria-hidden="true" class="mr-1"><path fill="none" stroke="#979A9C" opacity=".4" d="M3.5.5h12c1.7 0 3 1.3 3 3v13c0 1.7-1.3 3-3 3h-12c-1.7 0-3-1.3-3-3v-13c0-1.7 1.3-3 3-3z"></path><path fill="#979A9C" d="M11.8 6L8 15.1h-.9L10.8 6h1z"></path></svg>
          </div>
      </button>

    <input type="hidden" name="type" class="js-site-search-type-field">

    
<div class="Overlay--hidden " data-modal-dialog-overlay>
  <modal-dialog data-action="close:qbsearch-input#handleClose cancel:qbsearch-input#handleClose" data-target="qbsearch-input.searchSuggestionsDialog" role="dialog" id="search-suggestions-dialog" aria-modal="true" aria-labelledby="search-suggestions-dialog-header" data-view-component="true" class="Overlay Overlay--width-large Overlay--height-auto">
      <h1 id="search-suggestions-dialog-header" class="sr-only">Search code, repositories, users, issues, pull requests...</h1>
    <div class="Overlay-body Overlay-body--paddingNone">
      
          <div data-view-component="true">        <div class="search-suggestions position-fixed width-full color-shadow-large border color-fg-default color-bg-default overflow-hidden d-flex flex-column query-builder-container"
          style="border-radius: 12px;"
          data-target="qbsearch-input.queryBuilderContainer"
          hidden
        >
          <!-- '"` --><!-- </textarea></xmp> --></option></form><form id="query-builder-test-form" action="" accept-charset="UTF-8" method="get">
  <query-builder data-target="qbsearch-input.queryBuilder" id="query-builder-query-builder-test" data-filter-key=":" data-view-component="true" class="QueryBuilder search-query-builder">
    <div class="FormControl FormControl--fullWidth">
      <label id="query-builder-test-label" for="query-builder-test" class="FormControl-label sr-only">
        Search
      </label>
      <div
        class="QueryBuilder-StyledInput width-fit "
        data-target="query-builder.styledInput"
      >
          <span id="query-builder-test-leadingvisual-wrap" class="FormControl-input-leadingVisualWrap QueryBuilder-leadingVisualWrap">
            <svg aria-hidden="true" height="16" viewBox="0 0 16 16" version="1.1" width="16" data-view-component="true" class="octicon octicon-search FormControl-input-leadingVisual">
    <path d="M10.68 11.74a6 6 0 0 1-7.922-8.982 6 6 0 0 1 8.982 7.922l3.04 3.04a.749.749 0 0 1-.326 1.275.749.749 0 0 1-.734-.215ZM11.5 7a4.499 4.499 0 1 0-8.997 0A4.499 4.499 0 0 0 11.5 7Z"></path>
</svg>
          </span>
        <div data-target="query-builder.styledInputContainer" class="QueryBuilder-StyledInputContainer">
          <div
            aria-hidden="true"
            class="QueryBuilder-StyledInputContent"
            data-target="query-builder.styledInputContent"
          ></div>
          <div class="QueryBuilder-InputWrapper">
            <div aria-hidden="true" class="QueryBuilder-Sizer" data-target="query-builder.sizer"></div>
            <input id="query-builder-test" name="query-builder-test" value="" autocomplete="off" type="text" role="combobox" spellcheck="false" aria-expanded="false" aria-describedby="validation-e4491a4a-c814-49c7-a590-8c097cbdf3e0" data-target="query-builder.input" data-action="
          input:query-builder#inputChange
          blur:query-builder#inputBlur
          keydown:query-builder#inputKeydown
          focus:query-builder#inputFocus
        " data-view-component="true" class="FormControl-input QueryBuilder-Input FormControl-medium" />
          </div>
        </div>
          <span class="sr-only" id="query-builder-test-clear">Clear</span>
          <button role="button" id="query-builder-test-clear-button" aria-labelledby="query-builder-test-clear query-builder-test-label" data-target="query-builder.clearButton" data-action="
                click:query-builder#clear
                focus:query-builder#clearButtonFocus
                blur:query-builder#clearButtonBlur
              " variant="small" hidden="hidden" type="button" data-view-component="true" class="Button Button--iconOnly Button--invisible Button--medium mr-1 px-2 py-0 d-flex flex-items-center rounded-1 color-fg-muted">  <svg aria-hidden="true" height="16" viewBox="0 0 16 16" version="1.1" width="16" data-view-component="true" class="octicon octicon-x-circle-fill Button-visual">
    <path d="M2.343 13.657A8 8 0 1 1 13.658 2.343 8 8 0 0 1 2.343 13.657ZM6.03 4.97a.751.751 0 0 0-1.042.018.751.751 0 0 0-.018 1.042L6.94 8 4.97 9.97a.749.749 0 0 0 .326 1.275.749.749 0 0 0 .734-.215L8 9.06l1.97 1.97a.749.749 0 0 0 1.275-.326.749.749 0 0 0-.215-.734L9.06 8l1.97-1.97a.749.749 0 0 0-.326-1.275.749.749 0 0 0-.734.215L8 6.94Z"></path>
</svg>
</button>

      </div>
      <template id="search-icon">
  <svg aria-hidden="true" height="16" viewBox="0 0 16 16" version="1.1" width="16" data-view-component="true" class="octicon octicon-search">
    <path d="M10.68 11.74a6 6 0 0 1-7.922-8.982 6 6 0 0 1 8.982 7.922l3.04 3.04a.749.749 0 0 1-.326 1.275.749.749 0 0 1-.734-.215ZM11.5 7a4.499 4.499 0 1 0-8.997 0A4.499 4.499 0 0 0 11.5 7Z"></path>
</svg>
</template>

<template id="code-icon">
  <svg aria-hidden="true" height="16" viewBox="0 0 16 16" version="1.1" width="16" data-view-component="true" class="octicon octicon-code">
    <path d="m11.28 3.22 4.25 4.25a.75.75 0 0 1 0 1.06l-4.25 4.25a.749.749 0 0 1-1.275-.326.749.749 0 0 1 .215-.734L13.94 8l-3.72-3.72a.749.749 0 0 1 .326-1.275.749.749 0 0 1 .734.215Zm-6.56 0a.751.751 0 0 1 1.042.018.751.751 0 0 1 .018 1.042L2.06 8l3.72 3.72a.749.749 0 0 1-.326 1.275.749.749 0 0 1-.734-.215L.47 8.53a.75.75 0 0 1 0-1.06Z"></path>
</svg>
</template>

<template id="file-code-icon">
  <svg aria-hidden="true" height="16" viewBox="0 0 16 16" version="1.1" width="16" data-view-component="true" class="octicon octicon-file-code">
    <path d="M4 1.75C4 .784 4.784 0 5.75 0h5.586c.464 0 .909.184 1.237.513l2.914 2.914c.329.328.513.773.513 1.237v8.586A1.75 1.75 0 0 1 14.25 15h-9a.75.75 0 0 1 0-1.5h9a.25.25 0 0 0 .25-.25V6h-2.75A1.75 1.75 0 0 1 10 4.25V1.5H5.75a.25.25 0 0 0-.25.25v2.5a.75.75 0 0 1-1.5 0Zm1.72 4.97a.75.75 0 0 1 1.06 0l2 2a.75.75 0 0 1 0 1.06l-2 2a.749.749 0 0 1-1.275-.326.749.749 0 0 1 .215-.734l1.47-1.47-1.47-1.47a.75.75 0 0 1 0-1.06ZM3.28 7.78 1.81 9.25l1.47 1.47a.751.751 0 0 1-.018 1.042.751.751 0 0 1-1.042.018l-2-2a.75.75 0 0 1 0-1.06l2-2a.751.751 0 0 1 1.042.018.751.751 0 0 1 .018 1.042Zm8.22-6.218V4.25c0 .138.112.25.25.25h2.688l-.011-.013-2.914-2.914-.013-.011Z"></path>
</svg>
</template>

<template id="history-icon">
  <svg aria-hidden="true" height="16" viewBox="0 0 16 16" version="1.1" width="16" data-view-component="true" class="octicon octicon-history">
    <path d="m.427 1.927 1.215 1.215a8.002 8.002 0 1 1-1.6 5.685.75.75 0 1 1 1.493-.154 6.5 6.5 0 1 0 1.18-4.458l1.358 1.358A.25.25 0 0 1 3.896 6H.25A.25.25 0 0 1 0 5.75V2.104a.25.25 0 0 1 .427-.177ZM7.75 4a.75.75 0 0 1 .75.75v2.992l2.028.812a.75.75 0 0 1-.557 1.392l-2.5-1A.751.751 0 0 1 7 8.25v-3.5A.75.75 0 0 1 7.75 4Z"></path>
</svg>
</template>

<template id="repo-icon">
  <svg aria-hidden="true" height="16" viewBox="0 0 16 16" version="1.1" width="16" data-view-component="true" class="octicon octicon-repo">
    <path d="M2 2.5A2.5 2.5 0 0 1 4.5 0h8.75a.75.75 0 0 1 .75.75v12.5a.75.75 0 0 1-.75.75h-2.5a.75.75 0 0 1 0-1.5h1.75v-2h-8a1 1 0 0 0-.714 1.7.75.75 0 1 1-1.072 1.05A2.495 2.495 0 0 1 2 11.5Zm10.5-1h-8a1 1 0 0 0-1 1v6.708A2.486 2.486 0 0 1 4.5 9h8ZM5 12.25a.25.25 0 0 1 .25-.25h3.5a.25.25 0 0 1 .25.25v3.25a.25.25 0 0 1-.4.2l-1.45-1.087a.249.249 0 0 0-.3 0L5.4 15.7a.25.25 0 0 1-.4-.2Z"></path>
</svg>
</template>

<template id="bookmark-icon">
  <svg aria-hidden="true" height="16" viewBox="0 0 16 16" version="1.1" width="16" data-view-component="true" class="octicon octicon-bookmark">
    <path d="M3 2.75C3 1.784 3.784 1 4.75 1h6.5c.966 0 1.75.784 1.75 1.75v11.5a.75.75 0 0 1-1.227.579L8 11.722l-3.773 3.107A.751.751 0 0 1 3 14.25Zm1.75-.25a.25.25 0 0 0-.25.25v9.91l3.023-2.489a.75.75 0 0 1 .954 0l3.023 2.49V2.75a.25.25 0 0 0-.25-.25Z"></path>
</svg>
</template>

<template id="plus-circle-icon">
  <svg aria-hidden="true" height="16" viewBox="0 0 16 16" version="1.1" width="16" data-view-component="true" class="octicon octicon-plus-circle">
    <path d="M8 0a8 8 0 1 1 0 16A8 8 0 0 1 8 0ZM1.5 8a6.5 6.5 0 1 0 13 0 6.5 6.5 0 0 0-13 0Zm7.25-3.25v2.5h2.5a.75.75 0 0 1 0 1.5h-2.5v2.5a.75.75 0 0 1-1.5 0v-2.5h-2.5a.75.75 0 0 1 0-1.5h2.5v-2.5a.75.75 0 0 1 1.5 0Z"></path>
</svg>
</template>

<template id="circle-icon">
  <svg aria-hidden="true" height="16" viewBox="0 0 16 16" version="1.1" width="16" data-view-component="true" class="octicon octicon-dot-fill">
    <path d="M8 4a4 4 0 1 1 0 8 4 4 0 0 1 0-8Z"></path>
</svg>
</template>

<template id="trash-icon">
  <svg aria-hidden="true" height="16" viewBox="0 0 16 16" version="1.1" width="16" data-view-component="true" class="octicon octicon-trash">
    <path d="M11 1.75V3h2.25a.75.75 0 0 1 0 1.5H2.75a.75.75 0 0 1 0-1.5H5V1.75C5 .784 5.784 0 6.75 0h2.5C10.216 0 11 .784 11 1.75ZM4.496 6.675l.66 6.6a.25.25 0 0 0 .249.225h5.19a.25.25 0 0 0 .249-.225l.66-6.6a.75.75 0 0 1 1.492.149l-.66 6.6A1.748 1.748 0 0 1 10.595 15h-5.19a1.75 1.75 0 0 1-1.741-1.575l-.66-6.6a.75.75 0 1 1 1.492-.15ZM6.5 1.75V3h3V1.75a.25.25 0 0 0-.25-.25h-2.5a.25.25 0 0 0-.25.25Z"></path>
</svg>
</template>

<template id="team-icon">
  <svg aria-hidden="true" height="16" viewBox="0 0 16 16" version="1.1" width="16" data-view-component="true" class="octicon octicon-people">
    <path d="M2 5.5a3.5 3.5 0 1 1 5.898 2.549 5.508 5.508 0 0 1 3.034 4.084.75.75 0 1 1-1.482.235 4 4 0 0 0-7.9 0 .75.75 0 0 1-1.482-.236A5.507 5.507 0 0 1 3.102 8.05 3.493 3.493 0 0 1 2 5.5ZM11 4a3.001 3.001 0 0 1 2.22 5.018 5.01 5.01 0 0 1 2.56 3.012.749.749 0 0 1-.885.954.752.752 0 0 1-.549-.514 3.507 3.507 0 0 0-2.522-2.372.75.75 0 0 1-.574-.73v-.352a.75.75 0 0 1 .416-.672A1.5 1.5 0 0 0 11 5.5.75.75 0 0 1 11 4Zm-5.5-.5a2 2 0 1 0-.001 3.999A2 2 0 0 0 5.5 3.5Z"></path>
</svg>
</template>

<template id="project-icon">
  <svg aria-hidden="true" height="16" viewBox="0 0 16 16" version="1.1" width="16" data-view-component="true" class="octicon octicon-project">
    <path d="M1.75 0h12.5C15.216 0 16 .784 16 1.75v12.5A1.75 1.75 0 0 1 14.25 16H1.75A1.75 1.75 0 0 1 0 14.25V1.75C0 .784.784 0 1.75 0ZM1.5 1.75v12.5c0 .138.112.25.25.25h12.5a.25.25 0 0 0 .25-.25V1.75a.25.25 0 0 0-.25-.25H1.75a.25.25 0 0 0-.25.25ZM11.75 3a.75.75 0 0 1 .75.75v7.5a.75.75 0 0 1-1.5 0v-7.5a.75.75 0 0 1 .75-.75Zm-8.25.75a.75.75 0 0 1 1.5 0v5.5a.75.75 0 0 1-1.5 0ZM8 3a.75.75 0 0 1 .75.75v3.5a.75.75 0 0 1-1.5 0v-3.5A.75.75 0 0 1 8 3Z"></path>
</svg>
</template>

<template id="pencil-icon">
  <svg aria-hidden="true" height="16" viewBox="0 0 16 16" version="1.1" width="16" data-view-component="true" class="octicon octicon-pencil">
    <path d="M11.013 1.427a1.75 1.75 0 0 1 2.474 0l1.086 1.086a1.75 1.75 0 0 1 0 2.474l-8.61 8.61c-.21.21-.47.364-.756.445l-3.251.93a.75.75 0 0 1-.927-.928l.929-3.25c.081-.286.235-.547.445-.758l8.61-8.61Zm.176 4.823L9.75 4.81l-6.286 6.287a.253.253 0 0 0-.064.108l-.558 1.953 1.953-.558a.253.253 0 0 0 .108-.064Zm1.238-3.763a.25.25 0 0 0-.354 0L10.811 3.75l1.439 1.44 1.263-1.263a.25.25 0 0 0 0-.354Z"></path>
</svg>
</template>

<template id="copilot-icon">
  <svg aria-hidden="true" height="16" viewBox="0 0 16 16" version="1.1" width="16" data-view-component="true" class="octicon octicon-copilot">
    <path d="M7.998 15.035c-4.562 0-7.873-2.914-7.998-3.749V9.338c.085-.628.677-1.686 1.588-2.065.013-.07.024-.143.036-.218.029-.183.06-.384.126-.612-.201-.508-.254-1.084-.254-1.656 0-.87.128-1.769.693-2.484.579-.733 1.494-1.124 2.724-1.261 1.206-.134 2.262.034 2.944.765.05.053.096.108.139.165.044-.057.094-.112.143-.165.682-.731 1.738-.899 2.944-.765 1.23.137 2.145.528 2.724 1.261.566.715.693 1.614.693 2.484 0 .572-.053 1.148-.254 1.656.066.228.098.429.126.612.012.076.024.148.037.218.924.385 1.522 1.471 1.591 2.095v1.872c0 .766-3.351 3.795-8.002 3.795Zm0-1.485c2.28 0 4.584-1.11 5.002-1.433V7.862l-.023-.116c-.49.21-1.075.291-1.727.291-1.146 0-2.059-.327-2.71-.991A3.222 3.222 0 0 1 8 6.303a3.24 3.24 0 0 1-.544.743c-.65.664-1.563.991-2.71.991-.652 0-1.236-.081-1.727-.291l-.023.116v4.255c.419.323 2.722 1.433 5.002 1.433ZM6.762 2.83c-.193-.206-.637-.413-1.682-.297-1.019.113-1.479.404-1.713.7-.247.312-.369.789-.369 1.554 0 .793.129 1.171.308 1.371.162.181.519.379 1.442.379.853 0 1.339-.235 1.638-.54.315-.322.527-.827.617-1.553.117-.935-.037-1.395-.241-1.614Zm4.155-.297c-1.044-.116-1.488.091-1.681.297-.204.219-.359.679-.242 1.614.091.726.303 1.231.618 1.553.299.305.784.54 1.638.54.922 0 1.28-.198 1.442-.379.179-.2.308-.578.308-1.371 0-.765-.123-1.242-.37-1.554-.233-.296-.693-.587-1.713-.7Z"></path><path d="M6.25 9.037a.75.75 0 0 1 .75.75v1.501a.75.75 0 0 1-1.5 0V9.787a.75.75 0 0 1 .75-.75Zm4.25.75v1.501a.75.75 0 0 1-1.5 0V9.787a.75.75 0 0 1 1.5 0Z"></path>
</svg>
</template>

<template id="copilot-error-icon">
  <svg aria-hidden="true" height="16" viewBox="0 0 16 16" version="1.1" width="16" data-view-component="true" class="octicon octicon-copilot-error">
    <path d="M16 11.24c0 .112-.072.274-.21.467L13 9.688V7.862l-.023-.116c-.49.21-1.075.291-1.727.291-.198 0-.388-.009-.571-.029L6.833 5.226a4.01 4.01 0 0 0 .17-.782c.117-.935-.037-1.395-.241-1.614-.193-.206-.637-.413-1.682-.297-.683.076-1.115.231-1.395.415l-1.257-.91c.579-.564 1.413-.877 2.485-.996 1.206-.134 2.262.034 2.944.765.05.053.096.108.139.165.044-.057.094-.112.143-.165.682-.731 1.738-.899 2.944-.765 1.23.137 2.145.528 2.724 1.261.566.715.693 1.614.693 2.484 0 .572-.053 1.148-.254 1.656.066.228.098.429.126.612.012.076.024.148.037.218.924.385 1.522 1.471 1.591 2.095Zm-5.083-8.707c-1.044-.116-1.488.091-1.681.297-.204.219-.359.679-.242 1.614.091.726.303 1.231.618 1.553.299.305.784.54 1.638.54.922 0 1.28-.198 1.442-.379.179-.2.308-.578.308-1.371 0-.765-.123-1.242-.37-1.554-.233-.296-.693-.587-1.713-.7Zm2.511 11.074c-1.393.776-3.272 1.428-5.43 1.428-4.562 0-7.873-2.914-7.998-3.749V9.338c.085-.628.677-1.686 1.588-2.065.013-.07.024-.143.036-.218.029-.183.06-.384.126-.612-.18-.455-.241-.963-.252-1.475L.31 4.107A.747.747 0 0 1 0 3.509V3.49a.748.748 0 0 1 .625-.73c.156-.026.306.047.435.139l14.667 10.578a.592.592 0 0 1 .227.264.752.752 0 0 1 .046.249v.022a.75.75 0 0 1-1.19.596Zm-1.367-.991L5.635 7.964a5.128 5.128 0 0 1-.889.073c-.652 0-1.236-.081-1.727-.291l-.023.116v4.255c.419.323 2.722 1.433 5.002 1.433 1.539 0 3.089-.505 4.063-.934Z"></path>
</svg>
</template>

<template id="workflow-icon">
  <svg aria-hidden="true" height="16" viewBox="0 0 16 16" version="1.1" width="16" data-view-component="true" class="octicon octicon-workflow">
    <path d="M0 1.75C0 .784.784 0 1.75 0h3.5C6.216 0 7 .784 7 1.75v3.5A1.75 1.75 0 0 1 5.25 7H4v4a1 1 0 0 0 1 1h4v-1.25C9 9.784 9.784 9 10.75 9h3.5c.966 0 1.75.784 1.75 1.75v3.5A1.75 1.75 0 0 1 14.25 16h-3.5A1.75 1.75 0 0 1 9 14.25v-.75H5A2.5 2.5 0 0 1 2.5 11V7h-.75A1.75 1.75 0 0 1 0 5.25Zm1.75-.25a.25.25 0 0 0-.25.25v3.5c0 .138.112.25.25.25h3.5a.25.25 0 0 0 .25-.25v-3.5a.25.25 0 0 0-.25-.25Zm9 9a.25.25 0 0 0-.25.25v3.5c0 .138.112.25.25.25h3.5a.25.25 0 0 0 .25-.25v-3.5a.25.25 0 0 0-.25-.25Z"></path>
</svg>
</template>

<template id="book-icon">
  <svg aria-hidden="true" height="16" viewBox="0 0 16 16" version="1.1" width="16" data-view-component="true" class="octicon octicon-book">
    <path d="M0 1.75A.75.75 0 0 1 .75 1h4.253c1.227 0 2.317.59 3 1.501A3.743 3.743 0 0 1 11.006 1h4.245a.75.75 0 0 1 .75.75v10.5a.75.75 0 0 1-.75.75h-4.507a2.25 2.25 0 0 0-1.591.659l-.622.621a.75.75 0 0 1-1.06 0l-.622-.621A2.25 2.25 0 0 0 5.258 13H.75a.75.75 0 0 1-.75-.75Zm7.251 10.324.004-5.073-.002-2.253A2.25 2.25 0 0 0 5.003 2.5H1.5v9h3.757a3.75 3.75 0 0 1 1.994.574ZM8.755 4.75l-.004 7.322a3.752 3.752 0 0 1 1.992-.572H14.5v-9h-3.495a2.25 2.25 0 0 0-2.25 2.25Z"></path>
</svg>
</template>

<template id="code-review-icon">
  <svg aria-hidden="true" height="16" viewBox="0 0 16 16" version="1.1" width="16" data-view-component="true" class="octicon octicon-code-review">
    <path d="M1.75 1h12.5c.966 0 1.75.784 1.75 1.75v8.5A1.75 1.75 0 0 1 14.25 13H8.061l-2.574 2.573A1.458 1.458 0 0 1 3 14.543V13H1.75A1.75 1.75 0 0 1 0 11.25v-8.5C0 1.784.784 1 1.75 1ZM1.5 2.75v8.5c0 .138.112.25.25.25h2a.75.75 0 0 1 .75.75v2.19l2.72-2.72a.749.749 0 0 1 .53-.22h6.5a.25.25 0 0 0 .25-.25v-8.5a.25.25 0 0 0-.25-.25H1.75a.25.25 0 0 0-.25.25Zm5.28 1.72a.75.75 0 0 1 0 1.06L5.31 7l1.47 1.47a.751.751 0 0 1-.018 1.042.751.751 0 0 1-1.042.018l-2-2a.75.75 0 0 1 0-1.06l2-2a.75.75 0 0 1 1.06 0Zm2.44 0a.75.75 0 0 1 1.06 0l2 2a.75.75 0 0 1 0 1.06l-2 2a.751.751 0 0 1-1.042-.018.751.751 0 0 1-.018-1.042L10.69 7 9.22 5.53a.75.75 0 0 1 0-1.06Z"></path>
</svg>
</template>

<template id="codespaces-icon">
  <svg aria-hidden="true" height="16" viewBox="0 0 16 16" version="1.1" width="16" data-view-component="true" class="octicon octicon-codespaces">
    <path d="M0 11.25c0-.966.784-1.75 1.75-1.75h12.5c.966 0 1.75.784 1.75 1.75v3A1.75 1.75 0 0 1 14.25 16H1.75A1.75 1.75 0 0 1 0 14.25Zm2-9.5C2 .784 2.784 0 3.75 0h8.5C13.216 0 14 .784 14 1.75v5a1.75 1.75 0 0 1-1.75 1.75h-8.5A1.75 1.75 0 0 1 2 6.75Zm1.75-.25a.25.25 0 0 0-.25.25v5c0 .138.112.25.25.25h8.5a.25.25 0 0 0 .25-.25v-5a.25.25 0 0 0-.25-.25Zm-2 9.5a.25.25 0 0 0-.25.25v3c0 .138.112.25.25.25h12.5a.25.25 0 0 0 .25-.25v-3a.25.25 0 0 0-.25-.25Z"></path><path d="M7 12.75a.75.75 0 0 1 .75-.75h4.5a.75.75 0 0 1 0 1.5h-4.5a.75.75 0 0 1-.75-.75Zm-4 0a.75.75 0 0 1 .75-.75h.5a.75.75 0 0 1 0 1.5h-.5a.75.75 0 0 1-.75-.75Z"></path>
</svg>
</template>

<template id="comment-icon">
  <svg aria-hidden="true" height="16" viewBox="0 0 16 16" version="1.1" width="16" data-view-component="true" class="octicon octicon-comment">
    <path d="M1 2.75C1 1.784 1.784 1 2.75 1h10.5c.966 0 1.75.784 1.75 1.75v7.5A1.75 1.75 0 0 1 13.25 12H9.06l-2.573 2.573A1.458 1.458 0 0 1 4 13.543V12H2.75A1.75 1.75 0 0 1 1 10.25Zm1.75-.25a.25.25 0 0 0-.25.25v7.5c0 .138.112.25.25.25h2a.75.75 0 0 1 .75.75v2.19l2.72-2.72a.749.749 0 0 1 .53-.22h4.5a.25.25 0 0 0 .25-.25v-7.5a.25.25 0 0 0-.25-.25Z"></path>
</svg>
</template>

<template id="comment-discussion-icon">
  <svg aria-hidden="true" height="16" viewBox="0 0 16 16" version="1.1" width="16" data-view-component="true" class="octicon octicon-comment-discussion">
    <path d="M1.75 1h8.5c.966 0 1.75.784 1.75 1.75v5.5A1.75 1.75 0 0 1 10.25 10H7.061l-2.574 2.573A1.458 1.458 0 0 1 2 11.543V10h-.25A1.75 1.75 0 0 1 0 8.25v-5.5C0 1.784.784 1 1.75 1ZM1.5 2.75v5.5c0 .138.112.25.25.25h1a.75.75 0 0 1 .75.75v2.19l2.72-2.72a.749.749 0 0 1 .53-.22h3.5a.25.25 0 0 0 .25-.25v-5.5a.25.25 0 0 0-.25-.25h-8.5a.25.25 0 0 0-.25.25Zm13 2a.25.25 0 0 0-.25-.25h-.5a.75.75 0 0 1 0-1.5h.5c.966 0 1.75.784 1.75 1.75v5.5A1.75 1.75 0 0 1 14.25 12H14v1.543a1.458 1.458 0 0 1-2.487 1.03L9.22 12.28a.749.749 0 0 1 .326-1.275.749.749 0 0 1 .734.215l2.22 2.22v-2.19a.75.75 0 0 1 .75-.75h1a.25.25 0 0 0 .25-.25Z"></path>
</svg>
</template>

<template id="organization-icon">
  <svg aria-hidden="true" height="16" viewBox="0 0 16 16" version="1.1" width="16" data-view-component="true" class="octicon octicon-organization">
    <path d="M1.75 16A1.75 1.75 0 0 1 0 14.25V1.75C0 .784.784 0 1.75 0h8.5C11.216 0 12 .784 12 1.75v12.5c0 .085-.006.168-.018.25h2.268a.25.25 0 0 0 .25-.25V8.285a.25.25 0 0 0-.111-.208l-1.055-.703a.749.749 0 1 1 .832-1.248l1.055.703c.487.325.779.871.779 1.456v5.965A1.75 1.75 0 0 1 14.25 16h-3.5a.766.766 0 0 1-.197-.026c-.099.017-.2.026-.303.026h-3a.75.75 0 0 1-.75-.75V14h-1v1.25a.75.75 0 0 1-.75.75Zm-.25-1.75c0 .138.112.25.25.25H4v-1.25a.75.75 0 0 1 .75-.75h2.5a.75.75 0 0 1 .75.75v1.25h2.25a.25.25 0 0 0 .25-.25V1.75a.25.25 0 0 0-.25-.25h-8.5a.25.25 0 0 0-.25.25ZM3.75 6h.5a.75.75 0 0 1 0 1.5h-.5a.75.75 0 0 1 0-1.5ZM3 3.75A.75.75 0 0 1 3.75 3h.5a.75.75 0 0 1 0 1.5h-.5A.75.75 0 0 1 3 3.75Zm4 3A.75.75 0 0 1 7.75 6h.5a.75.75 0 0 1 0 1.5h-.5A.75.75 0 0 1 7 6.75ZM7.75 3h.5a.75.75 0 0 1 0 1.5h-.5a.75.75 0 0 1 0-1.5ZM3 9.75A.75.75 0 0 1 3.75 9h.5a.75.75 0 0 1 0 1.5h-.5A.75.75 0 0 1 3 9.75ZM7.75 9h.5a.75.75 0 0 1 0 1.5h-.5a.75.75 0 0 1 0-1.5Z"></path>
</svg>
</template>

<template id="rocket-icon">
  <svg aria-hidden="true" height="16" viewBox="0 0 16 16" version="1.1" width="16" data-view-component="true" class="octicon octicon-rocket">
    <path d="M14.064 0h.186C15.216 0 16 .784 16 1.75v.186a8.752 8.752 0 0 1-2.564 6.186l-.458.459c-.314.314-.641.616-.979.904v3.207c0 .608-.315 1.172-.833 1.49l-2.774 1.707a.749.749 0 0 1-1.11-.418l-.954-3.102a1.214 1.214 0 0 1-.145-.125L3.754 9.816a1.218 1.218 0 0 1-.124-.145L.528 8.717a.749.749 0 0 1-.418-1.11l1.71-2.774A1.748 1.748 0 0 1 3.31 4h3.204c.288-.338.59-.665.904-.979l.459-.458A8.749 8.749 0 0 1 14.064 0ZM8.938 3.623h-.002l-.458.458c-.76.76-1.437 1.598-2.02 2.5l-1.5 2.317 2.143 2.143 2.317-1.5c.902-.583 1.74-1.26 2.499-2.02l.459-.458a7.25 7.25 0 0 0 2.123-5.127V1.75a.25.25 0 0 0-.25-.25h-.186a7.249 7.249 0 0 0-5.125 2.123ZM3.56 14.56c-.732.732-2.334 1.045-3.005 1.148a.234.234 0 0 1-.201-.064.234.234 0 0 1-.064-.201c.103-.671.416-2.273 1.15-3.003a1.502 1.502 0 1 1 2.12 2.12Zm6.94-3.935c-.088.06-.177.118-.266.175l-2.35 1.521.548 1.783 1.949-1.2a.25.25 0 0 0 .119-.213ZM3.678 8.116 5.2 5.766c.058-.09.117-.178.176-.266H3.309a.25.25 0 0 0-.213.119l-1.2 1.95ZM12 5a1 1 0 1 1-2 0 1 1 0 0 1 2 0Z"></path>
</svg>
</template>

<template id="shield-check-icon">
  <svg aria-hidden="true" height="16" viewBox="0 0 16 16" version="1.1" width="16" data-view-component="true" class="octicon octicon-shield-check">
    <path d="m8.533.133 5.25 1.68A1.75 1.75 0 0 1 15 3.48V7c0 1.566-.32 3.182-1.303 4.682-.983 1.498-2.585 2.813-5.032 3.855a1.697 1.697 0 0 1-1.33 0c-2.447-1.042-4.049-2.357-5.032-3.855C1.32 10.182 1 8.566 1 7V3.48a1.75 1.75 0 0 1 1.217-1.667l5.25-1.68a1.748 1.748 0 0 1 1.066 0Zm-.61 1.429.001.001-5.25 1.68a.251.251 0 0 0-.174.237V7c0 1.36.275 2.666 1.057 3.859.784 1.194 2.121 2.342 4.366 3.298a.196.196 0 0 0 .154 0c2.245-.957 3.582-2.103 4.366-3.297C13.225 9.666 13.5 8.358 13.5 7V3.48a.25.25 0 0 0-.174-.238l-5.25-1.68a.25.25 0 0 0-.153 0ZM11.28 6.28l-3.5 3.5a.75.75 0 0 1-1.06 0l-1.5-1.5a.749.749 0 0 1 .326-1.275.749.749 0 0 1 .734.215l.97.97 2.97-2.97a.751.751 0 0 1 1.042.018.751.751 0 0 1 .018 1.042Z"></path>
</svg>
</template>

<template id="heart-icon">
  <svg aria-hidden="true" height="16" viewBox="0 0 16 16" version="1.1" width="16" data-view-component="true" class="octicon octicon-heart">
    <path d="m8 14.25.345.666a.75.75 0 0 1-.69 0l-.008-.004-.018-.01a7.152 7.152 0 0 1-.31-.17 22.055 22.055 0 0 1-3.434-2.414C2.045 10.731 0 8.35 0 5.5 0 2.836 2.086 1 4.25 1 5.797 1 7.153 1.802 8 3.02 8.847 1.802 10.203 1 11.75 1 13.914 1 16 2.836 16 5.5c0 2.85-2.045 5.231-3.885 6.818a22.066 22.066 0 0 1-3.744 2.584l-.018.01-.006.003h-.002ZM4.25 2.5c-1.336 0-2.75 1.164-2.75 3 0 2.15 1.58 4.144 3.365 5.682A20.58 20.58 0 0 0 8 13.393a20.58 20.58 0 0 0 3.135-2.211C12.92 9.644 14.5 7.65 14.5 5.5c0-1.836-1.414-3-2.75-3-1.373 0-2.609.986-3.029 2.456a.749.749 0 0 1-1.442 0C6.859 3.486 5.623 2.5 4.25 2.5Z"></path>
</svg>
</template>

<template id="server-icon">
  <svg aria-hidden="true" height="16" viewBox="0 0 16 16" version="1.1" width="16" data-view-component="true" class="octicon octicon-server">
    <path d="M1.75 1h12.5c.966 0 1.75.784 1.75 1.75v4c0 .372-.116.717-.314 1 .198.283.314.628.314 1v4a1.75 1.75 0 0 1-1.75 1.75H1.75A1.75 1.75 0 0 1 0 12.75v-4c0-.358.109-.707.314-1a1.739 1.739 0 0 1-.314-1v-4C0 1.784.784 1 1.75 1ZM1.5 2.75v4c0 .138.112.25.25.25h12.5a.25.25 0 0 0 .25-.25v-4a.25.25 0 0 0-.25-.25H1.75a.25.25 0 0 0-.25.25Zm.25 5.75a.25.25 0 0 0-.25.25v4c0 .138.112.25.25.25h12.5a.25.25 0 0 0 .25-.25v-4a.25.25 0 0 0-.25-.25ZM7 4.75A.75.75 0 0 1 7.75 4h4.5a.75.75 0 0 1 0 1.5h-4.5A.75.75 0 0 1 7 4.75ZM7.75 10h4.5a.75.75 0 0 1 0 1.5h-4.5a.75.75 0 0 1 0-1.5ZM3 4.75A.75.75 0 0 1 3.75 4h.5a.75.75 0 0 1 0 1.5h-.5A.75.75 0 0 1 3 4.75ZM3.75 10h.5a.75.75 0 0 1 0 1.5h-.5a.75.75 0 0 1 0-1.5Z"></path>
</svg>
</template>

<template id="globe-icon">
  <svg aria-hidden="true" height="16" viewBox="0 0 16 16" version="1.1" width="16" data-view-component="true" class="octicon octicon-globe">
    <path d="M8 0a8 8 0 1 1 0 16A8 8 0 0 1 8 0ZM5.78 8.75a9.64 9.64 0 0 0 1.363 4.177c.255.426.542.832.857 1.215.245-.296.551-.705.857-1.215A9.64 9.64 0 0 0 10.22 8.75Zm4.44-1.5a9.64 9.64 0 0 0-1.363-4.177c-.307-.51-.612-.919-.857-1.215a9.927 9.927 0 0 0-.857 1.215A9.64 9.64 0 0 0 5.78 7.25Zm-5.944 1.5H1.543a6.507 6.507 0 0 0 4.666 5.5c-.123-.181-.24-.365-.352-.552-.715-1.192-1.437-2.874-1.581-4.948Zm-2.733-1.5h2.733c.144-2.074.866-3.756 1.58-4.948.12-.197.237-.381.353-.552a6.507 6.507 0 0 0-4.666 5.5Zm10.181 1.5c-.144 2.074-.866 3.756-1.58 4.948-.12.197-.237.381-.353.552a6.507 6.507 0 0 0 4.666-5.5Zm2.733-1.5a6.507 6.507 0 0 0-4.666-5.5c.123.181.24.365.353.552.714 1.192 1.436 2.874 1.58 4.948Z"></path>
</svg>
</template>

<template id="issue-opened-icon">
  <svg aria-hidden="true" height="16" viewBox="0 0 16 16" version="1.1" width="16" data-view-component="true" class="octicon octicon-issue-opened">
    <path d="M8 9.5a1.5 1.5 0 1 0 0-3 1.5 1.5 0 0 0 0 3Z"></path><path d="M8 0a8 8 0 1 1 0 16A8 8 0 0 1 8 0ZM1.5 8a6.5 6.5 0 1 0 13 0 6.5 6.5 0 0 0-13 0Z"></path>
</svg>
</template>

<template id="device-mobile-icon">
  <svg aria-hidden="true" height="16" viewBox="0 0 16 16" version="1.1" width="16" data-view-component="true" class="octicon octicon-device-mobile">
    <path d="M3.75 0h8.5C13.216 0 14 .784 14 1.75v12.5A1.75 1.75 0 0 1 12.25 16h-8.5A1.75 1.75 0 0 1 2 14.25V1.75C2 .784 2.784 0 3.75 0ZM3.5 1.75v12.5c0 .138.112.25.25.25h8.5a.25.25 0 0 0 .25-.25V1.75a.25.25 0 0 0-.25-.25h-8.5a.25.25 0 0 0-.25.25ZM8 13a1 1 0 1 1 0-2 1 1 0 0 1 0 2Z"></path>
</svg>
</template>

<template id="package-icon">
  <svg aria-hidden="true" height="16" viewBox="0 0 16 16" version="1.1" width="16" data-view-component="true" class="octicon octicon-package">
    <path d="m8.878.392 5.25 3.045c.54.314.872.89.872 1.514v6.098a1.75 1.75 0 0 1-.872 1.514l-5.25 3.045a1.75 1.75 0 0 1-1.756 0l-5.25-3.045A1.75 1.75 0 0 1 1 11.049V4.951c0-.624.332-1.201.872-1.514L7.122.392a1.75 1.75 0 0 1 1.756 0ZM7.875 1.69l-4.63 2.685L8 7.133l4.755-2.758-4.63-2.685a.248.248 0 0 0-.25 0ZM2.5 5.677v5.372c0 .09.047.171.125.216l4.625 2.683V8.432Zm6.25 8.271 4.625-2.683a.25.25 0 0 0 .125-.216V5.677L8.75 8.432Z"></path>
</svg>
</template>

<template id="credit-card-icon">
  <svg aria-hidden="true" height="16" viewBox="0 0 16 16" version="1.1" width="16" data-view-component="true" class="octicon octicon-credit-card">
    <path d="M10.75 9a.75.75 0 0 0 0 1.5h1.5a.75.75 0 0 0 0-1.5h-1.5Z"></path><path d="M0 3.75C0 2.784.784 2 1.75 2h12.5c.966 0 1.75.784 1.75 1.75v8.5A1.75 1.75 0 0 1 14.25 14H1.75A1.75 1.75 0 0 1 0 12.25ZM14.5 6.5h-13v5.75c0 .138.112.25.25.25h12.5a.25.25 0 0 0 .25-.25Zm0-2.75a.25.25 0 0 0-.25-.25H1.75a.25.25 0 0 0-.25.25V5h13Z"></path>
</svg>
</template>

<template id="play-icon">
  <svg aria-hidden="true" height="16" viewBox="0 0 16 16" version="1.1" width="16" data-view-component="true" class="octicon octicon-play">
    <path d="M8 0a8 8 0 1 1 0 16A8 8 0 0 1 8 0ZM1.5 8a6.5 6.5 0 1 0 13 0 6.5 6.5 0 0 0-13 0Zm4.879-2.773 4.264 2.559a.25.25 0 0 1 0 .428l-4.264 2.559A.25.25 0 0 1 6 10.559V5.442a.25.25 0 0 1 .379-.215Z"></path>
</svg>
</template>

<template id="gift-icon">
  <svg aria-hidden="true" height="16" viewBox="0 0 16 16" version="1.1" width="16" data-view-component="true" class="octicon octicon-gift">
    <path d="M2 2.75A2.75 2.75 0 0 1 4.75 0c.983 0 1.873.42 2.57 1.232.268.318.497.668.68 1.042.183-.375.411-.725.68-1.044C9.376.42 10.266 0 11.25 0a2.75 2.75 0 0 1 2.45 4h.55c.966 0 1.75.784 1.75 1.75v2c0 .698-.409 1.301-1 1.582v4.918A1.75 1.75 0 0 1 13.25 16H2.75A1.75 1.75 0 0 1 1 14.25V9.332C.409 9.05 0 8.448 0 7.75v-2C0 4.784.784 4 1.75 4h.55c-.192-.375-.3-.8-.3-1.25ZM7.25 9.5H2.5v4.75c0 .138.112.25.25.25h4.5Zm1.5 0v5h4.5a.25.25 0 0 0 .25-.25V9.5Zm0-4V8h5.5a.25.25 0 0 0 .25-.25v-2a.25.25 0 0 0-.25-.25Zm-7 0a.25.25 0 0 0-.25.25v2c0 .138.112.25.25.25h5.5V5.5h-5.5Zm3-4a1.25 1.25 0 0 0 0 2.5h2.309c-.233-.818-.542-1.401-.878-1.793-.43-.502-.915-.707-1.431-.707ZM8.941 4h2.309a1.25 1.25 0 0 0 0-2.5c-.516 0-1 .205-1.43.707-.337.392-.646.975-.879 1.793Z"></path>
</svg>
</template>

<template id="code-square-icon">
  <svg aria-hidden="true" height="16" viewBox="0 0 16 16" version="1.1" width="16" data-view-component="true" class="octicon octicon-code-square">
    <path d="M0 1.75C0 .784.784 0 1.75 0h12.5C15.216 0 16 .784 16 1.75v12.5A1.75 1.75 0 0 1 14.25 16H1.75A1.75 1.75 0 0 1 0 14.25Zm1.75-.25a.25.25 0 0 0-.25.25v12.5c0 .138.112.25.25.25h12.5a.25.25 0 0 0 .25-.25V1.75a.25.25 0 0 0-.25-.25Zm7.47 3.97a.75.75 0 0 1 1.06 0l2 2a.75.75 0 0 1 0 1.06l-2 2a.749.749 0 0 1-1.275-.326.749.749 0 0 1 .215-.734L10.69 8 9.22 6.53a.75.75 0 0 1 0-1.06ZM6.78 6.53 5.31 8l1.47 1.47a.749.749 0 0 1-.326 1.275.749.749 0 0 1-.734-.215l-2-2a.75.75 0 0 1 0-1.06l2-2a.751.751 0 0 1 1.042.018.751.751 0 0 1 .018 1.042Z"></path>
</svg>
</template>

<template id="device-desktop-icon">
  <svg aria-hidden="true" height="16" viewBox="0 0 16 16" version="1.1" width="16" data-view-component="true" class="octicon octicon-device-desktop">
    <path d="M14.25 1c.966 0 1.75.784 1.75 1.75v7.5A1.75 1.75 0 0 1 14.25 12h-3.727c.099 1.041.52 1.872 1.292 2.757A.752.752 0 0 1 11.25 16h-6.5a.75.75 0 0 1-.565-1.243c.772-.885 1.192-1.716 1.292-2.757H1.75A1.75 1.75 0 0 1 0 10.25v-7.5C0 1.784.784 1 1.75 1ZM1.75 2.5a.25.25 0 0 0-.25.25v7.5c0 .138.112.25.25.25h12.5a.25.25 0 0 0 .25-.25v-7.5a.25.25 0 0 0-.25-.25ZM9.018 12H6.982a5.72 5.72 0 0 1-.765 2.5h3.566a5.72 5.72 0 0 1-.765-2.5Z"></path>
</svg>
</template>

        <div class="position-relative">
                <ul
                  role="listbox"
                  class="ActionListWrap QueryBuilder-ListWrap"
                  aria-label="Suggestions"
                  data-action="
                    combobox-commit:query-builder#comboboxCommit
                    mousedown:query-builder#resultsMousedown
                  "
                  data-target="query-builder.resultsList"
                  data-persist-list=false
                  id="query-builder-test-results"
                ></ul>
        </div>
      <div class="FormControl-inlineValidation" id="validation-e4491a4a-c814-49c7-a590-8c097cbdf3e0" hidden="hidden">
        <span class="FormControl-inlineValidation--visual">
          <svg aria-hidden="true" height="12" viewBox="0 0 12 12" version="1.1" width="12" data-view-component="true" class="octicon octicon-alert-fill">
    <path d="M4.855.708c.5-.896 1.79-.896 2.29 0l4.675 8.351a1.312 1.312 0 0 1-1.146 1.954H1.33A1.313 1.313 0 0 1 .183 9.058ZM7 7V3H5v4Zm-1 3a1 1 0 1 0 0-2 1 1 0 0 0 0 2Z"></path>
</svg>
        </span>
        <span></span>
</div>    </div>
    <div data-target="query-builder.screenReaderFeedback" aria-live="polite" aria-atomic="true" class="sr-only"></div>
</query-builder></form>
          <div class="d-flex flex-row color-fg-muted px-3 text-small color-bg-default search-feedback-prompt">
            <a target="_blank" href="https://docs.github.com/search-github/github-code-search/understanding-github-code-search-syntax" data-view-component="true" class="Link color-fg-accent text-normal ml-2">Search syntax tips</a>            <div class="d-flex flex-1"></div>
          </div>
        </div>
</div>

    </div>
</modal-dialog></div>
  </div>
  <div data-action="click:qbsearch-input#retract" class="dark-backdrop position-fixed" hidden data-target="qbsearch-input.darkBackdrop"></div>
  <div class="color-fg-default">
    
<dialog-helper>
  <dialog data-target="qbsearch-input.feedbackDialog" data-action="close:qbsearch-input#handleDialogClose cancel:qbsearch-input#handleDialogClose" id="feedback-dialog" aria-modal="true" aria-labelledby="feedback-dialog-title" aria-describedby="feedback-dialog-description" data-view-component="true" class="Overlay Overlay-whenNarrow Overlay--size-medium Overlay--motion-scaleFade Overlay--disableScroll">
    <div data-view-component="true" class="Overlay-header">
  <div class="Overlay-headerContentWrap">
    <div class="Overlay-titleWrap">
      <h1 class="Overlay-title " id="feedback-dialog-title">
        Provide feedback
      </h1>
        
    </div>
    <div class="Overlay-actionWrap">
      <button data-close-dialog-id="feedback-dialog" aria-label="Close" aria-label="Close" type="button" data-view-component="true" class="close-button Overlay-closeButton"><svg aria-hidden="true" height="16" viewBox="0 0 16 16" version="1.1" width="16" data-view-component="true" class="octicon octicon-x">
    <path d="M3.72 3.72a.75.75 0 0 1 1.06 0L8 6.94l3.22-3.22a.749.749 0 0 1 1.275.326.749.749 0 0 1-.215.734L9.06 8l3.22 3.22a.749.749 0 0 1-.326 1.275.749.749 0 0 1-.734-.215L8 9.06l-3.22 3.22a.751.751 0 0 1-1.042-.018.751.751 0 0 1-.018-1.042L6.94 8 3.72 4.78a.75.75 0 0 1 0-1.06Z"></path>
</svg></button>
    </div>
  </div>
  
</div>
      <scrollable-region data-labelled-by="feedback-dialog-title">
        <div data-view-component="true" class="Overlay-body">        <!-- '"` --><!-- </textarea></xmp> --></option></form><form id="code-search-feedback-form" data-turbo="false" action="/search/feedback" accept-charset="UTF-8" method="post"><input type="hidden" data-csrf="true" name="authenticity_token" value="cGIhm7LjRaWo8i9fmeqXlob5foKztvO6EDxZNE1RDpdDNWOSUFyru7fD6yCpw0Q9JIPu8o/SwstOo4wnanBbqA==" />
          <p>We read every piece of feedback, and take your input very seriously.</p>
          <textarea name="feedback" class="form-control width-full mb-2" style="height: 120px" id="feedback"></textarea>
          <input name="include_email" id="include_email" aria-label="Include my email address so I can be contacted" class="form-control mr-2" type="checkbox">
          <label for="include_email" style="font-weight: normal">Include my email address so I can be contacted</label>
</form></div>
      </scrollable-region>
      <div data-view-component="true" class="Overlay-footer Overlay-footer--alignEnd">          <button data-close-dialog-id="feedback-dialog" type="button" data-view-component="true" class="btn">    Cancel
</button>
          <button form="code-search-feedback-form" data-action="click:qbsearch-input#submitFeedback" type="submit" data-view-component="true" class="btn-primary btn">    Submit feedback
</button>
</div>
</dialog></dialog-helper>

    <custom-scopes data-target="qbsearch-input.customScopesManager">
    
<dialog-helper>
  <dialog data-target="custom-scopes.customScopesModalDialog" data-action="close:qbsearch-input#handleDialogClose cancel:qbsearch-input#handleDialogClose" id="custom-scopes-dialog" aria-modal="true" aria-labelledby="custom-scopes-dialog-title" aria-describedby="custom-scopes-dialog-description" data-view-component="true" class="Overlay Overlay-whenNarrow Overlay--size-medium Overlay--motion-scaleFade Overlay--disableScroll">
    <div data-view-component="true" class="Overlay-header Overlay-header--divided">
  <div class="Overlay-headerContentWrap">
    <div class="Overlay-titleWrap">
      <h1 class="Overlay-title " id="custom-scopes-dialog-title">
        Saved searches
      </h1>
        <h2 id="custom-scopes-dialog-description" class="Overlay-description">Use saved searches to filter your results more quickly</h2>
    </div>
    <div class="Overlay-actionWrap">
      <button data-close-dialog-id="custom-scopes-dialog" aria-label="Close" aria-label="Close" type="button" data-view-component="true" class="close-button Overlay-closeButton"><svg aria-hidden="true" height="16" viewBox="0 0 16 16" version="1.1" width="16" data-view-component="true" class="octicon octicon-x">
    <path d="M3.72 3.72a.75.75 0 0 1 1.06 0L8 6.94l3.22-3.22a.749.749 0 0 1 1.275.326.749.749 0 0 1-.215.734L9.06 8l3.22 3.22a.749.749 0 0 1-.326 1.275.749.749 0 0 1-.734-.215L8 9.06l-3.22 3.22a.751.751 0 0 1-1.042-.018.751.751 0 0 1-.018-1.042L6.94 8 3.72 4.78a.75.75 0 0 1 0-1.06Z"></path>
</svg></button>
    </div>
  </div>
  
</div>
      <scrollable-region data-labelled-by="custom-scopes-dialog-title">
        <div data-view-component="true" class="Overlay-body">        <div data-target="custom-scopes.customScopesModalDialogFlash"></div>

        <div hidden class="create-custom-scope-form" data-target="custom-scopes.createCustomScopeForm">
        <!-- '"` --><!-- </textarea></xmp> --></option></form><form id="custom-scopes-dialog-form" data-turbo="false" action="/search/custom_scopes" accept-charset="UTF-8" method="post"><input type="hidden" data-csrf="true" name="authenticity_token" value="cycH4e7vH0J1Ch/SHI4ief4DwTEc7/zDrwV5/ZMX/lz2+vx1h3yOVyjNYQfEDLFqObAf85TXP3/QD7ppMMqdMg==" />
          <div data-target="custom-scopes.customScopesModalDialogFlash"></div>

          <input type="hidden" id="custom_scope_id" name="custom_scope_id" data-target="custom-scopes.customScopesIdField">

          <div class="form-group">
            <label for="custom_scope_name">Name</label>
            <auto-check src="/search/custom_scopes/check_name" required>
              <input
                type="text"
                name="custom_scope_name"
                id="custom_scope_name"
                data-target="custom-scopes.customScopesNameField"
                class="form-control"
                autocomplete="off"
                placeholder="github-ruby"
                required
                maxlength="50">
              <input type="hidden" data-csrf="true" value="QHjeoS8P7Eb7Uh6UTNMj3QVRVdlEQgh+QxqG4HE4rodevuXJ9oaXahg2DckC/Jwxb3PKfa9P4xXu7Qom2HGBBg==" />
            </auto-check>
          </div>

          <div class="form-group">
            <label for="custom_scope_query">Query</label>
            <input
              type="text"
              name="custom_scope_query"
              id="custom_scope_query"
              data-target="custom-scopes.customScopesQueryField"
              class="form-control"
              autocomplete="off"
              placeholder="(repo:mona/a OR repo:mona/b) AND lang:python"
              required
              maxlength="500">
          </div>

          <p class="text-small color-fg-muted">
            To see all available qualifiers, see our <a class="Link--inTextBlock" href="https://docs.github.com/search-github/github-code-search/understanding-github-code-search-syntax">documentation</a>.
          </p>
</form>        </div>

        <div data-target="custom-scopes.manageCustomScopesForm">
          <div data-target="custom-scopes.list"></div>
        </div>

</div>
      </scrollable-region>
      <div data-view-component="true" class="Overlay-footer Overlay-footer--alignEnd Overlay-footer--divided">          <button data-action="click:custom-scopes#customScopesCancel" type="button" data-view-component="true" class="btn">    Cancel
</button>
          <button form="custom-scopes-dialog-form" data-action="click:custom-scopes#customScopesSubmit" data-target="custom-scopes.customScopesSubmitButton" type="submit" data-view-component="true" class="btn-primary btn">    Create saved search
</button>
</div>
</dialog></dialog-helper>
    </custom-scopes>
  </div>
</qbsearch-input>


            <div class="position-relative HeaderMenu-link-wrap d-lg-inline-block">
              <a
                href="/login?return_to=https%3A%2F%2Fgithub.com%2FNehaharish98%2Fwine-quality-predictions-mlops%2Fblob%2F9d23dcd6f7bf60755eaa33720df823c3bdf3799a%2FTraining-models%2FQuality_predictions.ipynb"
                class="HeaderMenu-link HeaderMenu-link--sign-in HeaderMenu-button flex-shrink-0 no-underline d-none d-lg-inline-flex border border-lg-0 rounded px-2 py-1"
                style="margin-left: 12px;"
                data-hydro-click="{&quot;event_type&quot;:&quot;authentication.click&quot;,&quot;payload&quot;:{&quot;location_in_page&quot;:&quot;site header menu&quot;,&quot;repository_id&quot;:null,&quot;auth_type&quot;:&quot;SIGN_UP&quot;,&quot;originating_url&quot;:&quot;https://github.com/Nehaharish98/wine-quality-predictions-mlops/blob/9d23dcd6f7bf60755eaa33720df823c3bdf3799a/Training-models/Quality_predictions.ipynb&quot;,&quot;user_id&quot;:null}}" data-hydro-click-hmac="167a70422079cbb69d53846d87b6320f21e77aecc73ab32753ac6807bd7e51b4"
                data-analytics-event="{&quot;category&quot;:&quot;Marketing nav&quot;,&quot;action&quot;:&quot;click to go to homepage&quot;,&quot;label&quot;:&quot;ref_page:Marketing;ref_cta:Sign in;ref_loc:Header&quot;}"
              >
                Sign in
              </a>
            </div>

              <a href="/signup?ref_cta=Sign+up&amp;ref_loc=header+logged+out&amp;ref_page=%2F%3Cuser-name%3E%2F%3Crepo-name%3E%2Fblob%2Fshow&amp;source=header-repo&amp;source_repo=Nehaharish98%2Fwine-quality-predictions-mlops"
                class="HeaderMenu-link HeaderMenu-link--sign-up HeaderMenu-button flex-shrink-0 d-flex d-lg-inline-flex no-underline border color-border-default rounded px-2 py-1"
                data-hydro-click="{&quot;event_type&quot;:&quot;authentication.click&quot;,&quot;payload&quot;:{&quot;location_in_page&quot;:&quot;site header menu&quot;,&quot;repository_id&quot;:null,&quot;auth_type&quot;:&quot;SIGN_UP&quot;,&quot;originating_url&quot;:&quot;https://github.com/Nehaharish98/wine-quality-predictions-mlops/blob/9d23dcd6f7bf60755eaa33720df823c3bdf3799a/Training-models/Quality_predictions.ipynb&quot;,&quot;user_id&quot;:null}}" data-hydro-click-hmac="167a70422079cbb69d53846d87b6320f21e77aecc73ab32753ac6807bd7e51b4"
                data-analytics-event="{&quot;category&quot;:&quot;Sign up&quot;,&quot;action&quot;:&quot;click to sign up for account&quot;,&quot;label&quot;:&quot;ref_page:/&lt;user-name&gt;/&lt;repo-name&gt;/blob/show;ref_cta:Sign up;ref_loc:header logged out&quot;}"
              >
                Sign up
              </a>

                <div class="AppHeader-appearanceSettings">
    <react-partial-anchor>
      <button data-target="react-partial-anchor.anchor" id="icon-button-10aeb272-2b32-4eba-8ce2-b23235671ea7" aria-labelledby="tooltip-8195e086-fd49-4281-a9b5-97715287c1a0" type="button" disabled="disabled" data-view-component="true" class="Button Button--iconOnly Button--invisible Button--medium AppHeader-button HeaderMenu-link border cursor-wait">  <svg aria-hidden="true" height="16" viewBox="0 0 16 16" version="1.1" width="16" data-view-component="true" class="octicon octicon-sliders Button-visual">
    <path d="M15 2.75a.75.75 0 0 1-.75.75h-4a.75.75 0 0 1 0-1.5h4a.75.75 0 0 1 .75.75Zm-8.5.75v1.25a.75.75 0 0 0 1.5 0v-4a.75.75 0 0 0-1.5 0V2H1.75a.75.75 0 0 0 0 1.5H6.5Zm1.25 5.25a.75.75 0 0 0 0-1.5h-6a.75.75 0 0 0 0 1.5h6ZM15 8a.75.75 0 0 1-.75.75H11.5V10a.75.75 0 1 1-1.5 0V6a.75.75 0 0 1 1.5 0v1.25h2.75A.75.75 0 0 1 15 8Zm-9 5.25v-2a.75.75 0 0 0-1.5 0v1.25H1.75a.75.75 0 0 0 0 1.5H4.5v1.25a.75.75 0 0 0 1.5 0v-2Zm9 0a.75.75 0 0 1-.75.75h-6a.75.75 0 0 1 0-1.5h6a.75.75 0 0 1 .75.75Z"></path>
</svg>
</button><tool-tip id="tooltip-8195e086-fd49-4281-a9b5-97715287c1a0" for="icon-button-10aeb272-2b32-4eba-8ce2-b23235671ea7" popover="manual" data-direction="s" data-type="label" data-view-component="true" class="sr-only position-absolute">Appearance settings</tool-tip>

      <template data-target="react-partial-anchor.template">
        <react-partial
  partial-name="appearance-settings"
  data-ssr="false"
  data-attempted-ssr="false"
  data-react-profiling="false"
>
  
  <script type="application/json" data-target="react-partial.embeddedData">{"props":{}}</script>
  <div data-target="react-partial.reactRoot"></div>
</react-partial>

      </template>
    </react-partial-anchor>
  </div>

          <button type="button" class="sr-only js-header-menu-focus-trap d-block d-lg-none">Resetting focus</button>
        </div>
      </div>
    </div>
  </div>
</header>

      <div hidden="hidden" data-view-component="true" class="js-stale-session-flash stale-session-flash flash flash-warn flash-full">
  
        <svg aria-hidden="true" height="16" viewBox="0 0 16 16" version="1.1" width="16" data-view-component="true" class="octicon octicon-alert">
    <path d="M6.457 1.047c.659-1.234 2.427-1.234 3.086 0l6.082 11.378A1.75 1.75 0 0 1 14.082 15H1.918a1.75 1.75 0 0 1-1.543-2.575Zm1.763.707a.25.25 0 0 0-.44 0L1.698 13.132a.25.25 0 0 0 .22.368h12.164a.25.25 0 0 0 .22-.368Zm.53 3.996v2.5a.75.75 0 0 1-1.5 0v-2.5a.75.75 0 0 1 1.5 0ZM9 11a1 1 0 1 1-2 0 1 1 0 0 1 2 0Z"></path>
</svg>
        <span class="js-stale-session-flash-signed-in" hidden>You signed in with another tab or window. <a class="Link--inTextBlock" href="">Reload</a> to refresh your session.</span>
        <span class="js-stale-session-flash-signed-out" hidden>You signed out in another tab or window. <a class="Link--inTextBlock" href="">Reload</a> to refresh your session.</span>
        <span class="js-stale-session-flash-switched" hidden>You switched accounts on another tab or window. <a class="Link--inTextBlock" href="">Reload</a> to refresh your session.</span>

    <button id="icon-button-7f6c2e69-8403-4f7d-ba41-1f5cb3afa5d7" aria-labelledby="tooltip-49beb8d9-e996-42c7-ade5-dd20a7694cbd" type="button" data-view-component="true" class="Button Button--iconOnly Button--invisible Button--medium flash-close js-flash-close">  <svg aria-hidden="true" height="16" viewBox="0 0 16 16" version="1.1" width="16" data-view-component="true" class="octicon octicon-x Button-visual">
    <path d="M3.72 3.72a.75.75 0 0 1 1.06 0L8 6.94l3.22-3.22a.749.749 0 0 1 1.275.326.749.749 0 0 1-.215.734L9.06 8l3.22 3.22a.749.749 0 0 1-.326 1.275.749.749 0 0 1-.734-.215L8 9.06l-3.22 3.22a.751.751 0 0 1-1.042-.018.751.751 0 0 1-.018-1.042L6.94 8 3.72 4.78a.75.75 0 0 1 0-1.06Z"></path>
</svg>
</button><tool-tip id="tooltip-49beb8d9-e996-42c7-ade5-dd20a7694cbd" for="icon-button-7f6c2e69-8403-4f7d-ba41-1f5cb3afa5d7" popover="manual" data-direction="s" data-type="label" data-view-component="true" class="sr-only position-absolute">Dismiss alert</tool-tip>


  
</div>
    </div>

  <div id="start-of-content" class="show-on-focus"></div>








    <div id="js-flash-container" class="flash-container" data-turbo-replace>




  <template class="js-flash-template">
    
<div class="flash flash-full   {{ className }}">
  <div >
    <button autofocus class="flash-close js-flash-close" type="button" aria-label="Dismiss this message">
      <svg aria-hidden="true" height="16" viewBox="0 0 16 16" version="1.1" width="16" data-view-component="true" class="octicon octicon-x">
    <path d="M3.72 3.72a.75.75 0 0 1 1.06 0L8 6.94l3.22-3.22a.749.749 0 0 1 1.275.326.749.749 0 0 1-.215.734L9.06 8l3.22 3.22a.749.749 0 0 1-.326 1.275.749.749 0 0 1-.734-.215L8 9.06l-3.22 3.22a.751.751 0 0 1-1.042-.018.751.751 0 0 1-.018-1.042L6.94 8 3.72 4.78a.75.75 0 0 1 0-1.06Z"></path>
</svg>
    </button>
    <div aria-atomic="true" role="alert" class="js-flash-alert">
      
      <div>{{ message }}</div>

    </div>
  </div>
</div>
  </template>
</div>


    






  <div
    class="application-main "
    data-commit-hovercards-enabled
    data-discussion-hovercards-enabled
    data-issue-and-pr-hovercards-enabled
    data-project-hovercards-enabled
  >
        <div itemscope itemtype="http://schema.org/SoftwareSourceCode" class="">
    <main id="js-repo-pjax-container" >
      
      






  
  <div id="repository-container-header"  class="pt-3 hide-full-screen" style="background-color: var(--page-header-bgColor, var(--color-page-header-bg));" data-turbo-replace>

      <div class="d-flex flex-nowrap flex-justify-end mb-3  px-3 px-lg-5" style="gap: 1rem;">

        <div class="flex-auto min-width-0 width-fit">
            
  <div class=" d-flex flex-wrap flex-items-center wb-break-word f3 text-normal">
      <svg aria-hidden="true" height="16" viewBox="0 0 16 16" version="1.1" width="16" data-view-component="true" class="octicon octicon-repo color-fg-muted mr-2">
    <path d="M2 2.5A2.5 2.5 0 0 1 4.5 0h8.75a.75.75 0 0 1 .75.75v12.5a.75.75 0 0 1-.75.75h-2.5a.75.75 0 0 1 0-1.5h1.75v-2h-8a1 1 0 0 0-.714 1.7.75.75 0 1 1-1.072 1.05A2.495 2.495 0 0 1 2 11.5Zm10.5-1h-8a1 1 0 0 0-1 1v6.708A2.486 2.486 0 0 1 4.5 9h8ZM5 12.25a.25.25 0 0 1 .25-.25h3.5a.25.25 0 0 1 .25.25v3.25a.25.25 0 0 1-.4.2l-1.45-1.087a.249.249 0 0 0-.3 0L5.4 15.7a.25.25 0 0 1-.4-.2Z"></path>
</svg>
    
    <span class="author flex-self-stretch" itemprop="author">
      <a class="url fn" rel="author" data-hovercard-type="user" data-hovercard-url="/users/Nehaharish98/hovercard" data-octo-click="hovercard-link-click" data-octo-dimensions="link_type:self" href="/Nehaharish98">
        Nehaharish98
</a>    </span>
    <span class="mx-1 flex-self-stretch color-fg-muted">/</span>
    <strong itemprop="name" class="mr-2 flex-self-stretch">
      <a data-pjax="#repo-content-pjax-container" data-turbo-frame="repo-content-turbo-frame" href="/Nehaharish98/wine-quality-predictions-mlops">wine-quality-predictions-mlops</a>
    </strong>

    <span></span><span class="Label Label--secondary v-align-middle mr-1">Public</span>
  </div>


        </div>

        <div id="repository-details-container" class="flex-shrink-0" data-turbo-replace style="max-width: 70%;">
            <ul class="pagehead-actions flex-shrink-0 d-none d-md-inline" style="padding: 2px 0;">
    
      

  <li>
            <a href="/login?return_to=%2FNehaharish98%2Fwine-quality-predictions-mlops" rel="nofollow" id="repository-details-watch-button" data-hydro-click="{&quot;event_type&quot;:&quot;authentication.click&quot;,&quot;payload&quot;:{&quot;location_in_page&quot;:&quot;notification subscription menu watch&quot;,&quot;repository_id&quot;:null,&quot;auth_type&quot;:&quot;LOG_IN&quot;,&quot;originating_url&quot;:&quot;https://github.com/Nehaharish98/wine-quality-predictions-mlops/blob/9d23dcd6f7bf60755eaa33720df823c3bdf3799a/Training-models/Quality_predictions.ipynb&quot;,&quot;user_id&quot;:null}}" data-hydro-click-hmac="1d0a9a7ecf9c9f0824ff908a1787abae82e733a5e890bbdd6f7a13c76c2af2ec" aria-label="You must be signed in to change notification settings" data-view-component="true" class="btn-sm btn">    <svg aria-hidden="true" height="16" viewBox="0 0 16 16" version="1.1" width="16" data-view-component="true" class="octicon octicon-bell mr-2">
    <path d="M8 16a2 2 0 0 0 1.985-1.75c.017-.137-.097-.25-.235-.25h-3.5c-.138 0-.252.113-.235.25A2 2 0 0 0 8 16ZM3 5a5 5 0 0 1 10 0v2.947c0 .05.015.098.042.139l1.703 2.555A1.519 1.519 0 0 1 13.482 13H2.518a1.516 1.516 0 0 1-1.263-2.36l1.703-2.554A.255.255 0 0 0 3 7.947Zm5-3.5A3.5 3.5 0 0 0 4.5 5v2.947c0 .346-.102.683-.294.97l-1.703 2.556a.017.017 0 0 0-.003.01l.001.006c0 .002.002.004.004.006l.006.004.007.001h10.964l.007-.001.006-.004.004-.006.001-.007a.017.017 0 0 0-.003-.01l-1.703-2.554a1.745 1.745 0 0 1-.294-.97V5A3.5 3.5 0 0 0 8 1.5Z"></path>
</svg>Notifications
</a>    <tool-tip id="tooltip-f01b3f24-e407-4f1f-ac1e-d676c8543038" for="repository-details-watch-button" popover="manual" data-direction="s" data-type="description" data-view-component="true" class="sr-only position-absolute">You must be signed in to change notification settings</tool-tip>

  </li>

  <li>
          <a icon="repo-forked" id="fork-button" href="/login?return_to=%2FNehaharish98%2Fwine-quality-predictions-mlops" rel="nofollow" data-hydro-click="{&quot;event_type&quot;:&quot;authentication.click&quot;,&quot;payload&quot;:{&quot;location_in_page&quot;:&quot;repo details fork button&quot;,&quot;repository_id&quot;:1016833196,&quot;auth_type&quot;:&quot;LOG_IN&quot;,&quot;originating_url&quot;:&quot;https://github.com/Nehaharish98/wine-quality-predictions-mlops/blob/9d23dcd6f7bf60755eaa33720df823c3bdf3799a/Training-models/Quality_predictions.ipynb&quot;,&quot;user_id&quot;:null}}" data-hydro-click-hmac="5a5e2796150b9b0ffc52acaeb73e0bedb97fa143abdf309a899ef85c501a8f8a" data-view-component="true" class="btn-sm btn">    <svg aria-hidden="true" height="16" viewBox="0 0 16 16" version="1.1" width="16" data-view-component="true" class="octicon octicon-repo-forked mr-2">
    <path d="M5 5.372v.878c0 .414.336.75.75.75h4.5a.75.75 0 0 0 .75-.75v-.878a2.25 2.25 0 1 1 1.5 0v.878a2.25 2.25 0 0 1-2.25 2.25h-1.5v2.128a2.251 2.251 0 1 1-1.5 0V8.5h-1.5A2.25 2.25 0 0 1 3.5 6.25v-.878a2.25 2.25 0 1 1 1.5 0ZM5 3.25a.75.75 0 1 0-1.5 0 .75.75 0 0 0 1.5 0Zm6.75.75a.75.75 0 1 0 0-1.5.75.75 0 0 0 0 1.5Zm-3 8.75a.75.75 0 1 0-1.5 0 .75.75 0 0 0 1.5 0Z"></path>
</svg>Fork
    <span id="repo-network-counter" data-pjax-replace="true" data-turbo-replace="true" title="0" data-view-component="true" class="Counter">0</span>
</a>
  </li>

  <li>
        <div data-view-component="true" class="BtnGroup d-flex">
        <a href="/login?return_to=%2FNehaharish98%2Fwine-quality-predictions-mlops" rel="nofollow" data-hydro-click="{&quot;event_type&quot;:&quot;authentication.click&quot;,&quot;payload&quot;:{&quot;location_in_page&quot;:&quot;star button&quot;,&quot;repository_id&quot;:1016833196,&quot;auth_type&quot;:&quot;LOG_IN&quot;,&quot;originating_url&quot;:&quot;https://github.com/Nehaharish98/wine-quality-predictions-mlops/blob/9d23dcd6f7bf60755eaa33720df823c3bdf3799a/Training-models/Quality_predictions.ipynb&quot;,&quot;user_id&quot;:null}}" data-hydro-click-hmac="208ff39bfd642c3c8c5289cb38c1062497c6db6be73314b7e409e82db231c57e" aria-label="You must be signed in to star a repository" data-view-component="true" class="tooltipped tooltipped-sw btn-sm btn">    <svg aria-hidden="true" height="16" viewBox="0 0 16 16" version="1.1" width="16" data-view-component="true" class="octicon octicon-star v-align-text-bottom d-inline-block mr-2">
    <path d="M8 .25a.75.75 0 0 1 .673.418l1.882 3.815 4.21.612a.75.75 0 0 1 .416 1.279l-3.046 2.97.719 4.192a.751.751 0 0 1-1.088.791L8 12.347l-3.766 1.98a.75.75 0 0 1-1.088-.79l.72-4.194L.818 6.374a.75.75 0 0 1 .416-1.28l4.21-.611L7.327.668A.75.75 0 0 1 8 .25Zm0 2.445L6.615 5.5a.75.75 0 0 1-.564.41l-3.097.45 2.24 2.184a.75.75 0 0 1 .216.664l-.528 3.084 2.769-1.456a.75.75 0 0 1 .698 0l2.77 1.456-.53-3.084a.75.75 0 0 1 .216-.664l2.24-2.183-3.096-.45a.75.75 0 0 1-.564-.41L8 2.694Z"></path>
</svg><span data-view-component="true" class="d-inline">
          Star
</span>          <span id="repo-stars-counter-star" aria-label="0 users starred this repository" data-singular-suffix="user starred this repository" data-plural-suffix="users starred this repository" data-turbo-replace="true" title="0" data-view-component="true" class="Counter js-social-count">0</span>
</a></div>
  </li>

</ul>

        </div>
      </div>

        <div id="responsive-meta-container" data-turbo-replace>
</div>


          <nav data-pjax="#js-repo-pjax-container" aria-label="Repository" data-view-component="true" class="js-repo-nav js-sidenav-container-pjax js-responsive-underlinenav overflow-hidden UnderlineNav px-3 px-md-4 px-lg-5">

  <ul data-view-component="true" class="UnderlineNav-body list-style-none">
      <li data-view-component="true" class="d-inline-flex">
  <a id="code-tab" href="/Nehaharish98/wine-quality-predictions-mlops" data-tab-item="i0code-tab" data-selected-links="repo_source repo_downloads repo_commits repo_releases repo_tags repo_branches repo_packages repo_deployments repo_attestations /Nehaharish98/wine-quality-predictions-mlops" data-pjax="#repo-content-pjax-container" data-turbo-frame="repo-content-turbo-frame" data-hotkey="g c" data-analytics-event="{&quot;category&quot;:&quot;Underline navbar&quot;,&quot;action&quot;:&quot;Click tab&quot;,&quot;label&quot;:&quot;Code&quot;,&quot;target&quot;:&quot;UNDERLINE_NAV.TAB&quot;}" aria-current="page" data-view-component="true" class="UnderlineNav-item no-wrap js-responsive-underlinenav-item js-selected-navigation-item selected">
    
              <svg aria-hidden="true" height="16" viewBox="0 0 16 16" version="1.1" width="16" data-view-component="true" class="octicon octicon-code UnderlineNav-octicon d-none d-sm-inline">
    <path d="m11.28 3.22 4.25 4.25a.75.75 0 0 1 0 1.06l-4.25 4.25a.749.749 0 0 1-1.275-.326.749.749 0 0 1 .215-.734L13.94 8l-3.72-3.72a.749.749 0 0 1 .326-1.275.749.749 0 0 1 .734.215Zm-6.56 0a.751.751 0 0 1 1.042.018.751.751 0 0 1 .018 1.042L2.06 8l3.72 3.72a.749.749 0 0 1-.326 1.275.749.749 0 0 1-.734-.215L.47 8.53a.75.75 0 0 1 0-1.06Z"></path>
</svg>
        <span data-content="Code">Code</span>
          <span id="code-repo-tab-count" data-pjax-replace="" data-turbo-replace="" title="Not available" data-view-component="true" class="Counter"></span>


    
</a></li>
      <li data-view-component="true" class="d-inline-flex">
  <a id="issues-tab" href="/Nehaharish98/wine-quality-predictions-mlops/issues" data-tab-item="i1issues-tab" data-selected-links="repo_issues repo_labels repo_milestones /Nehaharish98/wine-quality-predictions-mlops/issues" data-pjax="#repo-content-pjax-container" data-turbo-frame="repo-content-turbo-frame" data-hotkey="g i" data-analytics-event="{&quot;category&quot;:&quot;Underline navbar&quot;,&quot;action&quot;:&quot;Click tab&quot;,&quot;label&quot;:&quot;Issues&quot;,&quot;target&quot;:&quot;UNDERLINE_NAV.TAB&quot;}" data-view-component="true" class="UnderlineNav-item no-wrap js-responsive-underlinenav-item js-selected-navigation-item">
    
              <svg aria-hidden="true" height="16" viewBox="0 0 16 16" version="1.1" width="16" data-view-component="true" class="octicon octicon-issue-opened UnderlineNav-octicon d-none d-sm-inline">
    <path d="M8 9.5a1.5 1.5 0 1 0 0-3 1.5 1.5 0 0 0 0 3Z"></path><path d="M8 0a8 8 0 1 1 0 16A8 8 0 0 1 8 0ZM1.5 8a6.5 6.5 0 1 0 13 0 6.5 6.5 0 0 0-13 0Z"></path>
</svg>
        <span data-content="Issues">Issues</span>
          <span id="issues-repo-tab-count" data-pjax-replace="" data-turbo-replace="" title="0" hidden="hidden" data-view-component="true" class="Counter">0</span>


    
</a></li>
      <li data-view-component="true" class="d-inline-flex">
  <a id="pull-requests-tab" href="/Nehaharish98/wine-quality-predictions-mlops/pulls" data-tab-item="i2pull-requests-tab" data-selected-links="repo_pulls checks /Nehaharish98/wine-quality-predictions-mlops/pulls" data-pjax="#repo-content-pjax-container" data-turbo-frame="repo-content-turbo-frame" data-hotkey="g p" data-analytics-event="{&quot;category&quot;:&quot;Underline navbar&quot;,&quot;action&quot;:&quot;Click tab&quot;,&quot;label&quot;:&quot;Pull requests&quot;,&quot;target&quot;:&quot;UNDERLINE_NAV.TAB&quot;}" data-view-component="true" class="UnderlineNav-item no-wrap js-responsive-underlinenav-item js-selected-navigation-item">
    
              <svg aria-hidden="true" height="16" viewBox="0 0 16 16" version="1.1" width="16" data-view-component="true" class="octicon octicon-git-pull-request UnderlineNav-octicon d-none d-sm-inline">
    <path d="M1.5 3.25a2.25 2.25 0 1 1 3 2.122v5.256a2.251 2.251 0 1 1-1.5 0V5.372A2.25 2.25 0 0 1 1.5 3.25Zm5.677-.177L9.573.677A.25.25 0 0 1 10 .854V2.5h1A2.5 2.5 0 0 1 13.5 5v5.628a2.251 2.251 0 1 1-1.5 0V5a1 1 0 0 0-1-1h-1v1.646a.25.25 0 0 1-.427.177L7.177 3.427a.25.25 0 0 1 0-.354ZM3.75 2.5a.75.75 0 1 0 0 1.5.75.75 0 0 0 0-1.5Zm0 9.5a.75.75 0 1 0 0 1.5.75.75 0 0 0 0-1.5Zm8.25.75a.75.75 0 1 0 1.5 0 .75.75 0 0 0-1.5 0Z"></path>
</svg>
        <span data-content="Pull requests">Pull requests</span>
          <span id="pull-requests-repo-tab-count" data-pjax-replace="" data-turbo-replace="" title="0" hidden="hidden" data-view-component="true" class="Counter">0</span>


    
</a></li>
      <li data-view-component="true" class="d-inline-flex">
  <a id="actions-tab" href="/Nehaharish98/wine-quality-predictions-mlops/actions" data-tab-item="i3actions-tab" data-selected-links="repo_actions /Nehaharish98/wine-quality-predictions-mlops/actions" data-pjax="#repo-content-pjax-container" data-turbo-frame="repo-content-turbo-frame" data-hotkey="g a" data-analytics-event="{&quot;category&quot;:&quot;Underline navbar&quot;,&quot;action&quot;:&quot;Click tab&quot;,&quot;label&quot;:&quot;Actions&quot;,&quot;target&quot;:&quot;UNDERLINE_NAV.TAB&quot;}" data-view-component="true" class="UnderlineNav-item no-wrap js-responsive-underlinenav-item js-selected-navigation-item">
    
              <svg aria-hidden="true" height="16" viewBox="0 0 16 16" version="1.1" width="16" data-view-component="true" class="octicon octicon-play UnderlineNav-octicon d-none d-sm-inline">
    <path d="M8 0a8 8 0 1 1 0 16A8 8 0 0 1 8 0ZM1.5 8a6.5 6.5 0 1 0 13 0 6.5 6.5 0 0 0-13 0Zm4.879-2.773 4.264 2.559a.25.25 0 0 1 0 .428l-4.264 2.559A.25.25 0 0 1 6 10.559V5.442a.25.25 0 0 1 .379-.215Z"></path>
</svg>
        <span data-content="Actions">Actions</span>
          <span id="actions-repo-tab-count" data-pjax-replace="" data-turbo-replace="" title="Not available" data-view-component="true" class="Counter"></span>


    
</a></li>
      <li data-view-component="true" class="d-inline-flex">
  <a id="projects-tab" href="/Nehaharish98/wine-quality-predictions-mlops/projects" data-tab-item="i4projects-tab" data-selected-links="repo_projects new_repo_project repo_project /Nehaharish98/wine-quality-predictions-mlops/projects" data-pjax="#repo-content-pjax-container" data-turbo-frame="repo-content-turbo-frame" data-hotkey="g b" data-analytics-event="{&quot;category&quot;:&quot;Underline navbar&quot;,&quot;action&quot;:&quot;Click tab&quot;,&quot;label&quot;:&quot;Projects&quot;,&quot;target&quot;:&quot;UNDERLINE_NAV.TAB&quot;}" data-view-component="true" class="UnderlineNav-item no-wrap js-responsive-underlinenav-item js-selected-navigation-item">
    
              <svg aria-hidden="true" height="16" viewBox="0 0 16 16" version="1.1" width="16" data-view-component="true" class="octicon octicon-table UnderlineNav-octicon d-none d-sm-inline">
    <path d="M0 1.75C0 .784.784 0 1.75 0h12.5C15.216 0 16 .784 16 1.75v12.5A1.75 1.75 0 0 1 14.25 16H1.75A1.75 1.75 0 0 1 0 14.25ZM6.5 6.5v8h7.75a.25.25 0 0 0 .25-.25V6.5Zm8-1.5V1.75a.25.25 0 0 0-.25-.25H6.5V5Zm-13 1.5v7.75c0 .138.112.25.25.25H5v-8ZM5 5V1.5H1.75a.25.25 0 0 0-.25.25V5Z"></path>
</svg>
        <span data-content="Projects">Projects</span>
          <span id="projects-repo-tab-count" data-pjax-replace="" data-turbo-replace="" title="0" hidden="hidden" data-view-component="true" class="Counter">0</span>


    
</a></li>
      <li data-view-component="true" class="d-inline-flex">
  <a id="security-tab" href="/Nehaharish98/wine-quality-predictions-mlops/security" data-tab-item="i5security-tab" data-selected-links="security overview alerts policy token_scanning code_scanning /Nehaharish98/wine-quality-predictions-mlops/security" data-pjax="#repo-content-pjax-container" data-turbo-frame="repo-content-turbo-frame" data-hotkey="g s" data-analytics-event="{&quot;category&quot;:&quot;Underline navbar&quot;,&quot;action&quot;:&quot;Click tab&quot;,&quot;label&quot;:&quot;Security&quot;,&quot;target&quot;:&quot;UNDERLINE_NAV.TAB&quot;}" data-view-component="true" class="UnderlineNav-item no-wrap js-responsive-underlinenav-item js-selected-navigation-item">
    
              <svg aria-hidden="true" height="16" viewBox="0 0 16 16" version="1.1" width="16" data-view-component="true" class="octicon octicon-shield UnderlineNav-octicon d-none d-sm-inline">
    <path d="M7.467.133a1.748 1.748 0 0 1 1.066 0l5.25 1.68A1.75 1.75 0 0 1 15 3.48V7c0 1.566-.32 3.182-1.303 4.682-.983 1.498-2.585 2.813-5.032 3.855a1.697 1.697 0 0 1-1.33 0c-2.447-1.042-4.049-2.357-5.032-3.855C1.32 10.182 1 8.566 1 7V3.48a1.75 1.75 0 0 1 1.217-1.667Zm.61 1.429a.25.25 0 0 0-.153 0l-5.25 1.68a.25.25 0 0 0-.174.238V7c0 1.358.275 2.666 1.057 3.86.784 1.194 2.121 2.34 4.366 3.297a.196.196 0 0 0 .154 0c2.245-.956 3.582-2.104 4.366-3.298C13.225 9.666 13.5 8.36 13.5 7V3.48a.251.251 0 0 0-.174-.237l-5.25-1.68ZM8.75 4.75v3a.75.75 0 0 1-1.5 0v-3a.75.75 0 0 1 1.5 0ZM9 10.5a1 1 0 1 1-2 0 1 1 0 0 1 2 0Z"></path>
</svg>
        <span data-content="Security">Security</span>
          <include-fragment src="/Nehaharish98/wine-quality-predictions-mlops/security/overall-count" accept="text/fragment+html" data-nonce="v2:46531a00-8469-6b99-953e-9c8f4a1d3441" data-view-component="true">
  
  <div data-show-on-forbidden-error hidden>
    <div class="Box">
  <div class="blankslate-container">
    <div data-view-component="true" class="blankslate blankslate-spacious color-bg-default rounded-2">
      

      <h3 data-view-component="true" class="blankslate-heading">        Uh oh!
</h3>
      <p data-view-component="true">        <p class="color-fg-muted my-2 mb-2 ws-normal">There was an error while loading. <a class="Link--inTextBlock" data-turbo="false" href="" aria-label="Please reload this page">Please reload this page</a>.</p>
</p>

</div>  </div>
</div>  </div>
</include-fragment>

    
</a></li>
      <li data-view-component="true" class="d-inline-flex">
  <a id="insights-tab" href="/Nehaharish98/wine-quality-predictions-mlops/pulse" data-tab-item="i6insights-tab" data-selected-links="repo_graphs repo_contributors dependency_graph dependabot_updates pulse people community /Nehaharish98/wine-quality-predictions-mlops/pulse" data-pjax="#repo-content-pjax-container" data-turbo-frame="repo-content-turbo-frame" data-analytics-event="{&quot;category&quot;:&quot;Underline navbar&quot;,&quot;action&quot;:&quot;Click tab&quot;,&quot;label&quot;:&quot;Insights&quot;,&quot;target&quot;:&quot;UNDERLINE_NAV.TAB&quot;}" data-view-component="true" class="UnderlineNav-item no-wrap js-responsive-underlinenav-item js-selected-navigation-item">
    
              <svg aria-hidden="true" height="16" viewBox="0 0 16 16" version="1.1" width="16" data-view-component="true" class="octicon octicon-graph UnderlineNav-octicon d-none d-sm-inline">
    <path d="M1.5 1.75V13.5h13.75a.75.75 0 0 1 0 1.5H.75a.75.75 0 0 1-.75-.75V1.75a.75.75 0 0 1 1.5 0Zm14.28 2.53-5.25 5.25a.75.75 0 0 1-1.06 0L7 7.06 4.28 9.78a.751.751 0 0 1-1.042-.018.751.751 0 0 1-.018-1.042l3.25-3.25a.75.75 0 0 1 1.06 0L10 7.94l4.72-4.72a.751.751 0 0 1 1.042.018.751.751 0 0 1 .018 1.042Z"></path>
</svg>
        <span data-content="Insights">Insights</span>
          <span id="insights-repo-tab-count" data-pjax-replace="" data-turbo-replace="" title="Not available" data-view-component="true" class="Counter"></span>


    
</a></li>
</ul>
    <div style="visibility:hidden;" data-view-component="true" class="UnderlineNav-actions js-responsive-underlinenav-overflow position-absolute pr-3 pr-md-4 pr-lg-5 right-0">      <action-menu data-select-variant="none" data-view-component="true">
  <focus-group direction="vertical" mnemonics retain>
    <button id="action-menu-df0b8231-4128-4c93-a22c-f9ee1049f917-button" popovertarget="action-menu-df0b8231-4128-4c93-a22c-f9ee1049f917-overlay" aria-controls="action-menu-df0b8231-4128-4c93-a22c-f9ee1049f917-list" aria-haspopup="true" aria-labelledby="tooltip-a842d031-1192-4974-8fb8-aa1792605333" type="button" data-view-component="true" class="Button Button--iconOnly Button--secondary Button--medium UnderlineNav-item">  <svg aria-hidden="true" height="16" viewBox="0 0 16 16" version="1.1" width="16" data-view-component="true" class="octicon octicon-kebab-horizontal Button-visual">
    <path d="M8 9a1.5 1.5 0 1 0 0-3 1.5 1.5 0 0 0 0 3ZM1.5 9a1.5 1.5 0 1 0 0-3 1.5 1.5 0 0 0 0 3Zm13 0a1.5 1.5 0 1 0 0-3 1.5 1.5 0 0 0 0 3Z"></path>
</svg>
</button><tool-tip id="tooltip-a842d031-1192-4974-8fb8-aa1792605333" for="action-menu-df0b8231-4128-4c93-a22c-f9ee1049f917-button" popover="manual" data-direction="s" data-type="label" data-view-component="true" class="sr-only position-absolute">Additional navigation options</tool-tip>


<anchored-position data-target="action-menu.overlay" id="action-menu-df0b8231-4128-4c93-a22c-f9ee1049f917-overlay" anchor="action-menu-df0b8231-4128-4c93-a22c-f9ee1049f917-button" align="start" side="outside-bottom" anchor-offset="normal" popover="auto" data-view-component="true">
  <div data-view-component="true" class="Overlay Overlay--size-auto">
    
      <div data-view-component="true" class="Overlay-body Overlay-body--paddingNone">          <action-list>
  <div data-view-component="true">
    <ul aria-labelledby="action-menu-df0b8231-4128-4c93-a22c-f9ee1049f917-button" id="action-menu-df0b8231-4128-4c93-a22c-f9ee1049f917-list" role="menu" data-view-component="true" class="ActionListWrap--inset ActionListWrap">
        <li hidden="hidden" data-menu-item="i0code-tab" data-targets="action-list.items" role="none" data-view-component="true" class="ActionListItem">
    
    
    <a tabindex="-1" id="item-79fbc3b0-c783-4754-9173-e2994b3303ba" href="/Nehaharish98/wine-quality-predictions-mlops" role="menuitem" data-view-component="true" class="ActionListContent ActionListContent--visual16">
        <span class="ActionListItem-visual ActionListItem-visual--leading">
          <svg aria-hidden="true" height="16" viewBox="0 0 16 16" version="1.1" width="16" data-view-component="true" class="octicon octicon-code">
    <path d="m11.28 3.22 4.25 4.25a.75.75 0 0 1 0 1.06l-4.25 4.25a.749.749 0 0 1-1.275-.326.749.749 0 0 1 .215-.734L13.94 8l-3.72-3.72a.749.749 0 0 1 .326-1.275.749.749 0 0 1 .734.215Zm-6.56 0a.751.751 0 0 1 1.042.018.751.751 0 0 1 .018 1.042L2.06 8l3.72 3.72a.749.749 0 0 1-.326 1.275.749.749 0 0 1-.734-.215L.47 8.53a.75.75 0 0 1 0-1.06Z"></path>
</svg>
        </span>
      
        <span data-view-component="true" class="ActionListItem-label">
          Code
</span>      
</a>
  
</li>
        <li hidden="hidden" data-menu-item="i1issues-tab" data-targets="action-list.items" role="none" data-view-component="true" class="ActionListItem">
    
    
    <a tabindex="-1" id="item-940ee8cd-503b-4bad-b634-1fa1cfb37b8a" href="/Nehaharish98/wine-quality-predictions-mlops/issues" role="menuitem" data-view-component="true" class="ActionListContent ActionListContent--visual16">
        <span class="ActionListItem-visual ActionListItem-visual--leading">
          <svg aria-hidden="true" height="16" viewBox="0 0 16 16" version="1.1" width="16" data-view-component="true" class="octicon octicon-issue-opened">
    <path d="M8 9.5a1.5 1.5 0 1 0 0-3 1.5 1.5 0 0 0 0 3Z"></path><path d="M8 0a8 8 0 1 1 0 16A8 8 0 0 1 8 0ZM1.5 8a6.5 6.5 0 1 0 13 0 6.5 6.5 0 0 0-13 0Z"></path>
</svg>
        </span>
      
        <span data-view-component="true" class="ActionListItem-label">
          Issues
</span>      
</a>
  
</li>
        <li hidden="hidden" data-menu-item="i2pull-requests-tab" data-targets="action-list.items" role="none" data-view-component="true" class="ActionListItem">
    
    
    <a tabindex="-1" id="item-6fb02d60-5277-446a-858e-4cabdc9e6bdd" href="/Nehaharish98/wine-quality-predictions-mlops/pulls" role="menuitem" data-view-component="true" class="ActionListContent ActionListContent--visual16">
        <span class="ActionListItem-visual ActionListItem-visual--leading">
          <svg aria-hidden="true" height="16" viewBox="0 0 16 16" version="1.1" width="16" data-view-component="true" class="octicon octicon-git-pull-request">
    <path d="M1.5 3.25a2.25 2.25 0 1 1 3 2.122v5.256a2.251 2.251 0 1 1-1.5 0V5.372A2.25 2.25 0 0 1 1.5 3.25Zm5.677-.177L9.573.677A.25.25 0 0 1 10 .854V2.5h1A2.5 2.5 0 0 1 13.5 5v5.628a2.251 2.251 0 1 1-1.5 0V5a1 1 0 0 0-1-1h-1v1.646a.25.25 0 0 1-.427.177L7.177 3.427a.25.25 0 0 1 0-.354ZM3.75 2.5a.75.75 0 1 0 0 1.5.75.75 0 0 0 0-1.5Zm0 9.5a.75.75 0 1 0 0 1.5.75.75 0 0 0 0-1.5Zm8.25.75a.75.75 0 1 0 1.5 0 .75.75 0 0 0-1.5 0Z"></path>
</svg>
        </span>
      
        <span data-view-component="true" class="ActionListItem-label">
          Pull requests
</span>      
</a>
  
</li>
        <li hidden="hidden" data-menu-item="i3actions-tab" data-targets="action-list.items" role="none" data-view-component="true" class="ActionListItem">
    
    
    <a tabindex="-1" id="item-a905b3ef-5da5-4abf-a9b3-ff499d2b1495" href="/Nehaharish98/wine-quality-predictions-mlops/actions" role="menuitem" data-view-component="true" class="ActionListContent ActionListContent--visual16">
        <span class="ActionListItem-visual ActionListItem-visual--leading">
          <svg aria-hidden="true" height="16" viewBox="0 0 16 16" version="1.1" width="16" data-view-component="true" class="octicon octicon-play">
    <path d="M8 0a8 8 0 1 1 0 16A8 8 0 0 1 8 0ZM1.5 8a6.5 6.5 0 1 0 13 0 6.5 6.5 0 0 0-13 0Zm4.879-2.773 4.264 2.559a.25.25 0 0 1 0 .428l-4.264 2.559A.25.25 0 0 1 6 10.559V5.442a.25.25 0 0 1 .379-.215Z"></path>
</svg>
        </span>
      
        <span data-view-component="true" class="ActionListItem-label">
          Actions
</span>      
</a>
  
</li>
        <li hidden="hidden" data-menu-item="i4projects-tab" data-targets="action-list.items" role="none" data-view-component="true" class="ActionListItem">
    
    
    <a tabindex="-1" id="item-8e4e7383-c34d-4880-aa03-b22d82965fa0" href="/Nehaharish98/wine-quality-predictions-mlops/projects" role="menuitem" data-view-component="true" class="ActionListContent ActionListContent--visual16">
        <span class="ActionListItem-visual ActionListItem-visual--leading">
          <svg aria-hidden="true" height="16" viewBox="0 0 16 16" version="1.1" width="16" data-view-component="true" class="octicon octicon-table">
    <path d="M0 1.75C0 .784.784 0 1.75 0h12.5C15.216 0 16 .784 16 1.75v12.5A1.75 1.75 0 0 1 14.25 16H1.75A1.75 1.75 0 0 1 0 14.25ZM6.5 6.5v8h7.75a.25.25 0 0 0 .25-.25V6.5Zm8-1.5V1.75a.25.25 0 0 0-.25-.25H6.5V5Zm-13 1.5v7.75c0 .138.112.25.25.25H5v-8ZM5 5V1.5H1.75a.25.25 0 0 0-.25.25V5Z"></path>
</svg>
        </span>
      
        <span data-view-component="true" class="ActionListItem-label">
          Projects
</span>      
</a>
  
</li>
        <li hidden="hidden" data-menu-item="i5security-tab" data-targets="action-list.items" role="none" data-view-component="true" class="ActionListItem">
    
    
    <a tabindex="-1" id="item-a8b10ce1-069e-4f0b-8e06-900791f8012f" href="/Nehaharish98/wine-quality-predictions-mlops/security" role="menuitem" data-view-component="true" class="ActionListContent ActionListContent--visual16">
        <span class="ActionListItem-visual ActionListItem-visual--leading">
          <svg aria-hidden="true" height="16" viewBox="0 0 16 16" version="1.1" width="16" data-view-component="true" class="octicon octicon-shield">
    <path d="M7.467.133a1.748 1.748 0 0 1 1.066 0l5.25 1.68A1.75 1.75 0 0 1 15 3.48V7c0 1.566-.32 3.182-1.303 4.682-.983 1.498-2.585 2.813-5.032 3.855a1.697 1.697 0 0 1-1.33 0c-2.447-1.042-4.049-2.357-5.032-3.855C1.32 10.182 1 8.566 1 7V3.48a1.75 1.75 0 0 1 1.217-1.667Zm.61 1.429a.25.25 0 0 0-.153 0l-5.25 1.68a.25.25 0 0 0-.174.238V7c0 1.358.275 2.666 1.057 3.86.784 1.194 2.121 2.34 4.366 3.297a.196.196 0 0 0 .154 0c2.245-.956 3.582-2.104 4.366-3.298C13.225 9.666 13.5 8.36 13.5 7V3.48a.251.251 0 0 0-.174-.237l-5.25-1.68ZM8.75 4.75v3a.75.75 0 0 1-1.5 0v-3a.75.75 0 0 1 1.5 0ZM9 10.5a1 1 0 1 1-2 0 1 1 0 0 1 2 0Z"></path>
</svg>
        </span>
      
        <span data-view-component="true" class="ActionListItem-label">
          Security
</span>      
</a>
  
</li>
        <li hidden="hidden" data-menu-item="i6insights-tab" data-targets="action-list.items" role="none" data-view-component="true" class="ActionListItem">
    
    
    <a tabindex="-1" id="item-becad420-093a-410d-bb9e-1ef9c921770b" href="/Nehaharish98/wine-quality-predictions-mlops/pulse" role="menuitem" data-view-component="true" class="ActionListContent ActionListContent--visual16">
        <span class="ActionListItem-visual ActionListItem-visual--leading">
          <svg aria-hidden="true" height="16" viewBox="0 0 16 16" version="1.1" width="16" data-view-component="true" class="octicon octicon-graph">
    <path d="M1.5 1.75V13.5h13.75a.75.75 0 0 1 0 1.5H.75a.75.75 0 0 1-.75-.75V1.75a.75.75 0 0 1 1.5 0Zm14.28 2.53-5.25 5.25a.75.75 0 0 1-1.06 0L7 7.06 4.28 9.78a.751.751 0 0 1-1.042-.018.751.751 0 0 1-.018-1.042l3.25-3.25a.75.75 0 0 1 1.06 0L10 7.94l4.72-4.72a.751.751 0 0 1 1.042.018.751.751 0 0 1 .018 1.042Z"></path>
</svg>
        </span>
      
        <span data-view-component="true" class="ActionListItem-label">
          Insights
</span>      
</a>
  
</li>
</ul>    
</div></action-list>


</div>
      
</div></anchored-position>  </focus-group>
</action-menu></div>
</nav>

  </div>

  



<turbo-frame id="repo-content-turbo-frame" target="_top" data-turbo-action="advance" class="">
    <div id="repo-content-pjax-container" class="repository-content " >
    



    
      
    








<react-app
  app-name="react-code-view"
  initial-path="/Nehaharish98/wine-quality-predictions-mlops/blob/9d23dcd6f7bf60755eaa33720df823c3bdf3799a/Training-models/Quality_predictions.ipynb"
    style="display: block; min-height: calc(100vh - 64px);"
  data-attempted-ssr="false"
  data-ssr="false"
  data-lazy="false"
  data-alternate="false"
  data-data-router-enabled="false"
  data-react-profiling="false"
>
  
  <script type="application/json" data-target="react-app.embeddedData">{"payload":{"allShortcutsEnabled":false,"fileTree":{"Training-models":{"items":[{"name":"Data","path":"Training-models/Data","contentType":"directory"},{"name":"Model","path":"Training-models/Model","contentType":"directory"},{"name":"mlruns","path":"Training-models/mlruns","contentType":"directory"},{"name":"Quality_predictions.ipynb","path":"Training-models/Quality_predictions.ipynb","contentType":"file"},{"name":"classification_report.txt","path":"Training-models/classification_report.txt","contentType":"file"},{"name":"mlflow.db","path":"Training-models/mlflow.db","contentType":"file"},{"name":"requirements.txt","path":"Training-models/requirements.txt","contentType":"file"}],"totalCount":7},"":{"items":[{"name":"EDA","path":"EDA","contentType":"directory"},{"name":"Training-models","path":"Training-models","contentType":"directory"},{"name":".gitignore","path":".gitignore","contentType":"file"},{"name":"README.md","path":"README.md","contentType":"file"}],"totalCount":4}},"fileTreeProcessingTime":3.2230269999999996,"foldersToFetch":[],"incompleteFileTree":false,"repo":{"id":1016833196,"defaultBranch":"main","name":"wine-quality-predictions-mlops","ownerLogin":"Nehaharish98","currentUserCanPush":false,"isFork":false,"isEmpty":false,"createdAt":"2025-07-09T15:38:55.000Z","ownerAvatar":"https://avatars.githubusercontent.com/u/61086199?v=4","public":true,"private":false,"isOrgOwned":false},"codeLineWrapEnabled":false,"symbolsExpanded":false,"treeExpanded":true,"refInfo":{"name":"9d23dcd6f7bf60755eaa33720df823c3bdf3799a","listCacheKey":"v0:1752075536.0","canEdit":false,"refType":"tree","currentOid":"9d23dcd6f7bf60755eaa33720df823c3bdf3799a"},"path":"Training-models/Quality_predictions.ipynb","currentUser":null,"blob":{"rawLines":["{"," \"cells\": [","  {","   \"cell_type\": \"code\",","   \"execution_count\": 24,","   \"id\": \"19dcd529\",","   \"metadata\": {},","   \"outputs\": [","    {","     \"name\": \"stdout\",","     \"output_type\": \"stream\",","     \"text\": [","      \"Python 3.10.18\\n\"","     ]","    }","   ],","   \"source\": [","    \"!python -V\"","   ]","  },","  {","   \"cell_type\": \"code\",","   \"execution_count\": 25,","   \"id\": \"c5021b5c\",","   \"metadata\": {},","   \"outputs\": [],","   \"source\": [","    \"import pandas as pd\\n\",","    \"import pickle\\n\",","    \"import seaborn as sns\\n\",","    \"import matplotlib.pyplot as plt\\n\",","    \"\\n\",","    \"from sklearn.feature_extraction import DictVectorizer\\n\",","    \"from sklearn.linear_model import LogisticRegression, RidgeClassifier, Lasso\\n\",","    \"from sklearn.metrics import accuracy_score, roc_auc_score, classification_report, confusion_matrix\"","   ]","  },","  {","   \"cell_type\": \"code\",","   \"execution_count\": 26,","   \"id\": \"1cf151a3\",","   \"metadata\": {},","   \"outputs\": [","    {","     \"data\": {","      \"text/plain\": [","       \"\u003cExperiment: artifact_location='/workspaces/wine-quality-predictions-mlops/Training-models/mlruns/1', creation_time=1752085605392, experiment_id='1', last_update_time=1752085605392, lifecycle_stage='active', name='quality-predictions', tags={}\u003e\"","      ]","     },","     \"execution_count\": 26,","     \"metadata\": {},","     \"output_type\": \"execute_result\"","    }","   ],","   \"source\": [","    \"import mlflow\\n\",","    \"\\n\",","    \"mlflow.set_tracking_uri(\\\"sqlite:///mlflow.db\\\")\\n\",","    \"mlflow.set_experiment(\\\"quality-predictions\\\")\"","   ]","  },","  {","   \"cell_type\": \"code\",","   \"execution_count\": 27,","   \"id\": \"6af8d4ae\",","   \"metadata\": {},","   \"outputs\": [],","   \"source\": [","    \"df = pd.read_csv('../Training-models/Data/winequality-red.csv', sep=';')\\n\",","    \"df = pd.read_csv('../Training-models/Data/winequality-white.csv', sep=';')\"","   ]","  },","  {","   \"cell_type\": \"code\",","   \"execution_count\": 28,","   \"id\": \"32dc6e5b\",","   \"metadata\": {},","   \"outputs\": [","    {","     \"name\": \"stdout\",","     \"output_type\": \"stream\",","     \"text\": [","      \"Shape of dataset: (4898, 12)\\n\",","      \"   fixed acidity  volatile acidity  citric acid  residual sugar  chlorides  \\\\\\n\",","      \"0            7.0              0.27         0.36            20.7      0.045   \\n\",","      \"1            6.3              0.30         0.34             1.6      0.049   \\n\",","      \"2            8.1              0.28         0.40             6.9      0.050   \\n\",","      \"3            7.2              0.23         0.32             8.5      0.058   \\n\",","      \"4            7.2              0.23         0.32             8.5      0.058   \\n\",","      \"\\n\",","      \"   free sulfur dioxide  total sulfur dioxide  density    pH  sulphates  \\\\\\n\",","      \"0                 45.0                 170.0   1.0010  3.00       0.45   \\n\",","      \"1                 14.0                 132.0   0.9940  3.30       0.49   \\n\",","      \"2                 30.0                  97.0   0.9951  3.26       0.44   \\n\",","      \"3                 47.0                 186.0   0.9956  3.19       0.40   \\n\",","      \"4                 47.0                 186.0   0.9956  3.19       0.40   \\n\",","      \"\\n\",","      \"   alcohol  quality  \\n\",","      \"0      8.8        6  \\n\",","      \"1      9.5        6  \\n\",","      \"2     10.1        6  \\n\",","      \"3      9.9        6  \\n\",","      \"4      9.9        6  \\n\"","     ]","    }","   ],","   \"source\": [","    \"print(\\\"Shape of dataset:\\\", df.shape)\\n\",","    \"print(df.head())\"","   ]","  },","  {","   \"cell_type\": \"code\",","   \"execution_count\": 29,","   \"id\": \"29623bb6\",","   \"metadata\": {},","   \"outputs\": [],","   \"source\": [","    \"df['good_quality'] = df['quality'].apply(lambda x: 1 if x \u003e= 7 else 0)\"","   ]","  },","  {","   \"cell_type\": \"code\",","   \"execution_count\": 30,","   \"id\": \"799dfc2e\",","   \"metadata\": {},","   \"outputs\": [","    {","     \"name\": \"stdout\",","     \"output_type\": \"stream\",","     \"text\": [","      \"Value counts for target:\\n\",","      \"good_quality\\n\",","      \"0    3838\\n\",","      \"1    1060\\n\",","      \"Name: count, dtype: int64\\n\"","     ]","    }","   ],","   \"source\": [","    \"print(\\\"Value counts for target:\\\")\\n\",","    \"print(df['good_quality'].value_counts())\"","   ]","  },","  {","   \"cell_type\": \"code\",","   \"execution_count\": 31,","   \"id\": \"b54b7a90\",","   \"metadata\": {},","   \"outputs\": [","    {","     \"name\": \"stdout\",","     \"output_type\": \"stream\",","     \"text\": [","      \"Train data: 3918\\n\",","      \"Validation data: 980\\n\"","     ]","    }","   ],","   \"source\": [","    \"from sklearn.model_selection import train_test_split\\n\",","    \"\\n\",","    \"df_train, df_val = train_test_split(\\n\",","    \"    df,\\n\",","    \"    test_size=0.2,\\n\",","    \"    random_state=42,\\n\",","    \"    stratify=df['good_quality']\\n\",","    \")\\n\",","    \"\\n\",","    \"print(\\\"Train data:\\\", len(df_train))\\n\",","    \"print(\\\"Validation data:\\\", len(df_val))\"","   ]","  },","  {","   \"cell_type\": \"code\",","   \"execution_count\": 32,","   \"id\": \"f5a089e6\",","   \"metadata\": {},","   \"outputs\": [],","   \"source\": [","    \"numerical = df.columns.drop(['quality', 'good_quality']).tolist()\\n\",","    \"categorical = []\"","   ]","  },","  {","   \"cell_type\": \"code\",","   \"execution_count\": 33,","   \"id\": \"c6a015f2\",","   \"metadata\": {},","   \"outputs\": [],","   \"source\": [","    \"train_dicts = df_train[numerical].to_dict(orient='records')\\n\",","    \"val_dicts = df_val[numerical].to_dict(orient='records')\"","   ]","  },","  {","   \"cell_type\": \"code\",","   \"execution_count\": 34,","   \"id\": \"4909bfad\",","   \"metadata\": {},","   \"outputs\": [],","   \"source\": [","    \"dv = DictVectorizer(sparse=False)\"","   ]","  },","  {","   \"cell_type\": \"code\",","   \"execution_count\": 35,","   \"id\": \"2ac79133\",","   \"metadata\": {},","   \"outputs\": [],","   \"source\": [","    \"X_train = dv.fit_transform(train_dicts)\\n\",","    \"X_val = dv.transform(val_dicts)\"","   ]","  },","  {","   \"cell_type\": \"code\",","   \"execution_count\": 36,","   \"id\": \"79367a84\",","   \"metadata\": {},","   \"outputs\": [],","   \"source\": [","    \"y_train = df_train['good_quality'].values\\n\",","    \"y_val = df_val['good_quality'].values\"","   ]","  },","  {","   \"cell_type\": \"code\",","   \"execution_count\": 37,","   \"id\": \"37c68ca7\",","   \"metadata\": {},","   \"outputs\": [","    {","     \"name\": \"stdout\",","     \"output_type\": \"stream\",","     \"text\": [","      \"Feature matrix shape: (3918, 11)\\n\"","     ]","    }","   ],","   \"source\": [","    \"print(\\\"Feature matrix shape:\\\", X_train.shape)\"","   ]","  },","  {","   \"cell_type\": \"code\",","   \"execution_count\": 38,","   \"id\": \"be1fc1e9\",","   \"metadata\": {},","   \"outputs\": [","    {","     \"name\": \"stdout\",","     \"output_type\": \"stream\",","     \"text\": [","      \"\\n\",","      \"Logistic Regression Performance:\\n\",","      \"Accuracy: 0.8081632653061225\\n\",","      \"ROC AUC: 0.7620258451257863\\n\",","      \"\\n\",","      \"Classification Report:\\n\",","      \"               precision    recall  f1-score   support\\n\",","      \"\\n\",","      \"           0       0.83      0.95      0.89       768\\n\",","      \"           1       0.62      0.29      0.39       212\\n\",","      \"\\n\",","      \"    accuracy                           0.81       980\\n\",","      \"   macro avg       0.73      0.62      0.64       980\\n\",","      \"weighted avg       0.78      0.81      0.78       980\\n\",","      \"\\n\"","     ]","    }","   ],","   \"source\": [","    \"lr = LogisticRegression(max_iter=1000)\\n\",","    \"lr.fit(X_train, y_train)\\n\",","    \"\\n\",","    \"y_pred = lr.predict(X_val)\\n\",","    \"y_pred_proba = lr.predict_proba(X_val)[:, 1]\\n\",","    \"\\n\",","    \"acc = accuracy_score(y_val, y_pred)\\n\",","    \"auc = roc_auc_score(y_val, y_pred_proba)\\n\",","    \"\\n\",","    \"print(\\\"\\\\nLogistic Regression Performance:\\\")\\n\",","    \"print(\\\"Accuracy:\\\", acc)\\n\",","    \"print(\\\"ROC AUC:\\\", auc)\\n\",","    \"print(\\\"\\\\nClassification Report:\\\\n\\\", classification_report(y_val, y_pred))\"","   ]","  },","  {","   \"cell_type\": \"code\",","   \"execution_count\": 39,","   \"id\": \"e3f0eae5\",","   \"metadata\": {},","   \"outputs\": [","    {","     \"data\": {","      \"image/png\": \"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\",","      \"text/plain\": [","       \"\u003cFigure size 640x480 with 1 Axes\u003e\"","      ]","     },","     \"metadata\": {},","     \"output_type\": \"display_data\"","    }","   ],","   \"source\": [","    \"sns.histplot(y_pred_proba, bins=30, kde=True, color='red', label='Predicted probabilities')\\n\",","    \"plt.title(\\\"Predicted probabilities from Logistic Regression\\\")\\n\",","    \"plt.legend()\\n\",","    \"plt.show()\"","   ]","  },","  {","   \"cell_type\": \"code\",","   \"execution_count\": 40,","   \"id\": \"1a09c6a4\",","   \"metadata\": {},","   \"outputs\": [","    {","     \"data\": {","      \"image/png\": \"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\",","      \"text/plain\": [","       \"\u003cFigure size 640x480 with 2 Axes\u003e\"","      ]","     },","     \"metadata\": {},","     \"output_type\": \"display_data\"","    }","   ],","   \"source\": [","    \"sns.heatmap(confusion_matrix(y_val, y_pred), annot=True, fmt='d', cmap='Blues')\\n\",","    \"plt.xlabel(\\\"Predicted\\\")\\n\",","    \"plt.ylabel(\\\"Actual\\\")\\n\",","    \"plt.title(\\\"Confusion Matrix\\\")\\n\",","    \"plt.show()\"","   ]","  },","  {","   \"cell_type\": \"code\",","   \"execution_count\": 41,","   \"id\": \"43b3c2ab\",","   \"metadata\": {","    \"scrolled\": true","   },","   \"outputs\": [],","   \"source\": [","    \"with open('../Training-models/Model/log_reg.bin', 'wb') as f_out:\\n\",","    \"    pickle.dump((dv, lr), f_out)\"","   ]","  },","  {","   \"cell_type\": \"code\",","   \"execution_count\": 45,","   \"id\": \"60901704\",","   \"metadata\": {},","   \"outputs\": [","    {","     \"name\": \"stdout\",","     \"output_type\": \"stream\",","     \"text\": [","      \"\\n\",","      \"Ridge Classifier Accuracy: 0.8040816326530612\\n\"","     ]","    }","   ],","   \"source\": [","    \"with mlflow.start_run():\\n\",","    \"\\n\",","    \"    mlflow.set_tag(\\\"developer\\\", \\\"Neha\\\")\\n\",","    \"\\n\",","    \"    mlflow.log_param(\\\"train_val_data_path\\\", \\\"../Training-models/Data/winequality-red.csv\\\")\\n\",","    \"    mlflow.log_param(\\\"train_val_data_path2\\\", \\\"../Training-models/Data/winequality-white.csv\\\")\\n\",","    \"\\n\",","    \"    alpha = 1.0\\n\",","    \"    mlflow.log_param(\\\"alpha\\\", alpha)\\n\",","    \"\\n\",","    \"    ridge = RidgeClassifier(alpha)\\n\",","    \"    ridge.fit(X_train, y_train)\\n\",","    \"\\n\",","    \"    y_pred_ridge = ridge.predict(X_val)\\n\",","    \"\\n\",","    \"    acc_ridge = accuracy_score(y_val, y_pred_ridge)\\n\",","    \"    mlflow.log_metric(\\\"acc\\\", acc)\\n\",","    \"    print(\\\"\\\\nRidge Classifier Accuracy:\\\", acc_ridge)\"","   ]","  },","  {","   \"cell_type\": \"code\",","   \"execution_count\": 43,","   \"id\": \"a9b7bd36\",","   \"metadata\": {},","   \"outputs\": [","    {","     \"name\": \"stdout\",","     \"output_type\": \"stream\",","     \"text\": [","      \"\\n\",","      \"Lasso RMSE: 0.39241787461614885\\n\"","     ]","    },","    {","     \"data\": {","      \"image/png\": \"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\",","      \"text/plain\": [","       \"\u003cFigure size 640x480 with 1 Axes\u003e\"","      ]","     },","     \"metadata\": {},","     \"output_type\": \"display_data\"","    }","   ],","   \"source\": [","    \"from sklearn.linear_model import Lasso\\n\",","    \"from sklearn.metrics import root_mean_squared_error\\n\",","    \"\\n\",","    \"lasso = Lasso(alpha=0.1)\\n\",","    \"lasso.fit(X_train, y_train)\\n\",","    \"\\n\",","    \"y_pred_lasso = lasso.predict(X_val)\\n\",","    \"rmse = root_mean_squared_error(y_val, y_pred_lasso)\\n\",","    \"\\n\",","    \"print(\\\"\\\\nLasso RMSE:\\\", rmse)\\n\",","    \"\\n\",","    \"sns.histplot(y_pred_lasso, color='green', label='Predicted')\\n\",","    \"sns.histplot(y_val, color='red', label='Actual')\\n\",","    \"plt.legend()\\n\",","    \"plt.title(\\\"Lasso Regression Predictions vs Actual\\\")\\n\",","    \"plt.show()\"","   ]","  },","  {","   \"cell_type\": \"code\",","   \"execution_count\": 47,","   \"id\": \"ad05c51c\",","   \"metadata\": {},","   \"outputs\": [],","   \"source\": [","    \"import mlflow\\n\",","    \"import mlflow.sklearn\\n\",","    \"import mlflow.xgboost\\n\",","    \"\\n\",","    \"import xgboost as xgb\\n\",","    \"from hyperopt import fmin, tpe, hp, STATUS_OK, Trials\\n\",","    \"from hyperopt.pyll import scope\\n\",","    \"\\n\",","    \"from sklearn.metrics import (\\n\",","    \"    accuracy_score,\\n\",","    \"    roc_auc_score,\\n\",","    \"    f1_score,\\n\",","    \"    classification_report,\\n\",","    \"    log_loss\\n\",","    \")\\n\"","   ]","  },","  {","   \"cell_type\": \"code\",","   \"execution_count\": null,","   \"id\": \"9212d8d8\",","   \"metadata\": {},","   \"outputs\": [],","   \"source\": [","    \"train = xgb.DMatrix(X_train, label=y_train)\\n\",","    \"valid = xgb.DMatrix(X_val, label=y_val)\"","   ]","  },","  {","   \"cell_type\": \"code\",","   \"execution_count\": null,","   \"id\": \"ae3817b5\",","   \"metadata\": {},","   \"outputs\": [],","   \"source\": [","    \"search_space = {\\n\",","    \"    'max_depth': scope.int(hp.quniform('max_depth', 3, 12, 1)),\\n\",","    \"    'learning_rate': hp.loguniform('learning_rate', -3, 0),  \\n\",","    \"    'reg_alpha': hp.loguniform('reg_alpha', -5, -1),\\n\",","    \"    'reg_lambda': hp.loguniform('reg_lambda', -6, -1),\\n\",","    \"    'min_child_weight': hp.loguniform('min_child_weight', -1, 3),\\n\",","    \"    'objective': 'binary:logistic',\\n\",","    \"    'eval_metric': 'logloss',\\n\",","    \"    'seed': 42\\n\",","    \"}\"","   ]","  },","  {","   \"cell_type\": \"code\",","   \"execution_count\": 50,","   \"id\": \"be3e2ade\",","   \"metadata\": {},","   \"outputs\": [],","   \"source\": [","    \"def objective(params):\\n\",","    \"    with mlflow.start_run():\\n\",","    \"        mlflow.set_tag(\\\"model\\\", \\\"xgboost\\\")\\n\",","    \"\\n\",","    \"        mlflow.log_params(params)\\n\",","    \"\\n\",","    \"        booster = xgb.train(\\n\",","    \"            params=params,\\n\",","    \"            dtrain=train,\\n\",","    \"            num_boost_round=1000,\\n\",","    \"            evals=[(valid, 'validation')],\\n\",","    \"            early_stopping_rounds=50,\\n\",","    \"            verbose_eval=False\\n\",","    \"        )\\n\",","    \"\\n\",","    \"        y_pred_prob = booster.predict(valid)\\n\",","    \"        y_pred = (y_pred_prob \u003e 0.5).astype(int)\\n\",","    \"\\n\",","    \"        auc = roc_auc_score(y_val, y_pred_prob)\\n\",","    \"        acc = accuracy_score(y_val, y_pred)\\n\",","    \"        f1 = f1_score(y_val, y_pred)\\n\",","    \"        logloss_val = log_loss(y_val, y_pred_prob)\\n\",","    \"\\n\",","    \"        mlflow.log_metric(\\\"auc\\\", auc)\\n\",","    \"        mlflow.log_metric(\\\"accuracy\\\", acc)\\n\",","    \"        mlflow.log_metric(\\\"f1_score\\\", f1)\\n\",","    \"        mlflow.log_metric(\\\"logloss\\\", logloss_val)\\n\",","    \"\\n\",","    \"        # Optionally log classification report as a text artifact\\n\",","    \"        report = classification_report(y_val, y_pred, output_dict=False)\\n\",","    \"        with open(\\\"classification_report.txt\\\", \\\"w\\\") as f:\\n\",","    \"            f.write(report)\\n\",","    \"\\n\",","    \"        mlflow.log_artifact(\\\"classification_report.txt\\\")\\n\",","    \"\\n\",","    \"    return {'loss': logloss_val, 'status': STATUS_OK}\\n\"","   ]","  },","  {","   \"cell_type\": \"code\",","   \"execution_count\": 51,","   \"id\": \"d92cf8db\",","   \"metadata\": {},","   \"outputs\": [","    {","     \"name\": \"stdout\",","     \"output_type\": \"stream\",","     \"text\": [","      \"100%|██████████| 50/50 [00:16\u003c00:00,  2.95trial/s, best loss: 0.27018025618428687]\\n\",","      \"Best hyperparameters: {'learning_rate': np.float64(0.05014112907771602), 'max_depth': np.float64(10.0), 'min_child_weight': np.float64(1.9784330400235082), 'reg_alpha': np.float64(0.08792049201961026), 'reg_lambda': np.float64(0.04979507632301252)}\\n\"","     ]","    }","   ],","   \"source\": [","    \"best_result = fmin(\\n\",","    \"    fn=objective,\\n\",","    \"    space=search_space,\\n\",","    \"    algo=tpe.suggest,\\n\",","    \"    max_evals=50,\\n\",","    \"    trials=Trials()\\n\",","    \")\\n\",","    \"\\n\",","    \"print(\\\"Best hyperparameters:\\\", best_result)\\n\"","   ]","  },","  {","   \"cell_type\": \"code\",","   \"execution_count\": 52,","   \"id\": \"b0e66068\",","   \"metadata\": {},","   \"outputs\": [","    {","     \"name\": \"stderr\",","     \"output_type\": \"stream\",","     \"text\": [","      \"/home/codespace/anaconda3/envs/exp-track-new/lib/python3.10/site-packages/sklearn/linear_model/_logistic.py:470: ConvergenceWarning: lbfgs failed to converge after 100 iteration(s) (status=1):\\n\",","      \"STOP: TOTAL NO. OF ITERATIONS REACHED LIMIT\\n\",","      \"\\n\",","      \"Increase the number of iterations to improve the convergence (max_iter=100).\\n\",","      \"You might also want to scale the data as shown in:\\n\",","      \"    https://scikit-learn.org/stable/modules/preprocessing.html\\n\",","      \"Please also refer to the documentation for alternative solver options:\\n\",","      \"    https://scikit-learn.org/stable/modules/linear_model.html#logistic-regression\\n\",","      \"  n_iter_i = _check_optimize_result(\\n\",","      \"/home/codespace/anaconda3/envs/exp-track-new/lib/python3.10/site-packages/sklearn/metrics/_classification.py:1706: UndefinedMetricWarning: Precision is ill-defined and being set to 0.0 in labels with no predicted samples. Use `zero_division` parameter to control this behavior.\\n\",","      \"  _warn_prf(average, modifier, f\\\"{metric.capitalize()} is\\\", result.shape[0])\\n\",","      \"/home/codespace/anaconda3/envs/exp-track-new/lib/python3.10/site-packages/sklearn/metrics/_classification.py:1706: UndefinedMetricWarning: Precision is ill-defined and being set to 0.0 in labels with no predicted samples. Use `zero_division` parameter to control this behavior.\\n\",","      \"  _warn_prf(average, modifier, f\\\"{metric.capitalize()} is\\\", result.shape[0])\\n\",","      \"/home/codespace/anaconda3/envs/exp-track-new/lib/python3.10/site-packages/sklearn/metrics/_classification.py:1706: UndefinedMetricWarning: Precision is ill-defined and being set to 0.0 in labels with no predicted samples. Use `zero_division` parameter to control this behavior.\\n\",","      \"  _warn_prf(average, modifier, f\\\"{metric.capitalize()} is\\\", result.shape[0])\\n\",","      \"/home/codespace/anaconda3/envs/exp-track-new/lib/python3.10/site-packages/sklearn/metrics/_classification.py:1706: UndefinedMetricWarning: Precision is ill-defined and being set to 0.0 in labels with no predicted samples. Use `zero_division` parameter to control this behavior.\\n\",","      \"  _warn_prf(average, modifier, f\\\"{metric.capitalize()} is\\\", result.shape[0])\\n\"","     ]","    }","   ],","   \"source\": [","    \"from sklearn.ensemble import (\\n\",","    \"    RandomForestClassifier,\\n\",","    \"    GradientBoostingClassifier,\\n\",","    \"    ExtraTreesClassifier\\n\",","    \")\\n\",","    \"from sklearn.linear_model import LogisticRegression\\n\",","    \"\\n\",","    \"from sklearn.svm import SVC\\n\",","    \"\\n\",","    \"mlflow.sklearn.autolog()\\n\",","    \"\\n\",","    \"models = [\\n\",","    \"    RandomForestClassifier(),\\n\",","    \"    GradientBoostingClassifier(),\\n\",","    \"    ExtraTreesClassifier(),\\n\",","    \"    LogisticRegression(),\\n\",","    \"    SVC(probability=True)\\n\",","    \"]\\n\",","    \"\\n\",","    \"for model in models:\\n\",","    \"    with mlflow.start_run():\\n\",","    \"        mlflow.set_tag(\\\"model\\\", type(model).__name__)\\n\",","    \"        \\n\",","    \"        mlmodel = model\\n\",","    \"        mlmodel.fit(X_train, y_train)\\n\",","    \"\\n\",","    \"        y_pred = mlmodel.predict(X_val)\\n\",","    \"        y_pred_prob = mlmodel.predict_proba(X_val)[:, 1]\\n\",","    \"\\n\",","    \"        auc = roc_auc_score(y_val, y_pred_prob)\\n\",","    \"        acc = accuracy_score(y_val, y_pred)\\n\",","    \"        f1 = f1_score(y_val, y_pred)\\n\",","    \"\\n\",","    \"        mlflow.log_metric(\\\"auc\\\", auc)\\n\",","    \"        mlflow.log_metric(\\\"accuracy\\\", acc)\\n\",","    \"        mlflow.log_metric(\\\"f1_score\\\", f1)\\n\",","    \"\\n\",","    \"        report = classification_report(y_val, y_pred, output_dict=False)\\n\",","    \"        with open(\\\"classification_report.txt\\\", \\\"w\\\") as f:\\n\",","    \"            f.write(report)\\n\",","    \"\\n\",","    \"        mlflow.log_artifact(\\\"classification_report.txt\\\")\\n\"","   ]","  }"," ],"," \"metadata\": {","  \"kernelspec\": {","   \"display_name\": \"exp-track-new\",","   \"language\": \"python\",","   \"name\": \"python3\"","  },","  \"language_info\": {","   \"codemirror_mode\": {","    \"name\": \"ipython\",","    \"version\": 3","   },","   \"file_extension\": \".py\",","   \"mimetype\": \"text/x-python\",","   \"name\": \"python\",","   \"nbconvert_exporter\": \"python\",","   \"pygments_lexer\": \"ipython3\",","   \"version\": \"3.10.18\"","  }"," },"," \"nbformat\": 4,"," \"nbformat_minor\": 5","}"],"stylingDirectives":null,"colorizedLines":null,"csv":null,"csvError":null,"dependabotInfo":{"showConfigurationBanner":false,"configFilePath":null,"networkDependabotPath":"/Nehaharish98/wine-quality-predictions-mlops/network/updates","dismissConfigurationNoticePath":"/settings/dismiss-notice/dependabot_configuration_notice","configurationNoticeDismissed":null},"displayName":"Quality_predictions.ipynb","displayUrl":"https://notebooks.githubusercontent.com/view/ipynb?browser=unknown_browser\u0026bypass_fastly=true\u0026color_mode=auto\u0026commit=9d23dcd6f7bf60755eaa33720df823c3bdf3799a\u0026device=unknown_device\u0026docs_host=https%3A%2F%2Fdocs.github.com\u0026enc_url=68747470733a2f2f7261772e67697468756275736572636f6e74656e742e636f6d2f4e65686168617269736839382f77696e652d7175616c6974792d70726564696374696f6e732d6d6c6f70732f396432336463643666376266363037353565616133333732306466383233633362646633373939612f547261696e696e672d6d6f64656c732f5175616c6974795f70726564696374696f6e732e6970796e62\u0026logged_in=false\u0026nwo=Nehaharish98%2Fwine-quality-predictions-mlops\u0026path=Training-models%2FQuality_predictions.ipynb\u0026platform=unknown_platform\u0026repository_id=1016833196\u0026repository_type=Repository\u0026version=0","headerInfo":{"blobSize":"104 KB","deleteTooltip":"You must be signed in to make or propose changes","editTooltip":"You must be signed in to make or propose changes","ghDesktopPath":null,"isGitLfs":false,"onBranch":false,"shortPath":"1a5b4ac","siteNavLoginPath":"/login?return_to=https%3A%2F%2Fgithub.com%2FNehaharish98%2Fwine-quality-predictions-mlops%2Fblob%2F9d23dcd6f7bf60755eaa33720df823c3bdf3799a%2FTraining-models%2FQuality_predictions.ipynb","isCSV":false,"isRichtext":false,"toc":null,"lineInfo":{"truncatedLoc":"655","truncatedSloc":"655"},"mode":"file"},"image":false,"isCodeownersFile":null,"isPlain":false,"isValidLegacyIssueTemplate":false,"issueTemplate":null,"discussionTemplate":null,"language":"Jupyter Notebook","languageID":185,"large":false,"planSupportInfo":{"repoIsFork":null,"repoOwnedByCurrentUser":null,"requestFullPath":"/Nehaharish98/wine-quality-predictions-mlops/blob/9d23dcd6f7bf60755eaa33720df823c3bdf3799a/Training-models/Quality_predictions.ipynb","showFreeOrgGatedFeatureMessage":null,"showPlanSupportBanner":null,"upgradeDataAttributes":null,"upgradePath":null},"publishBannersInfo":{"dismissActionNoticePath":"/settings/dismiss-notice/publish_action_from_dockerfile","releasePath":"/Nehaharish98/wine-quality-predictions-mlops/releases/new?marketplace=true","showPublishActionBanner":false},"rawBlobUrl":"https://github.com/Nehaharish98/wine-quality-predictions-mlops/raw/9d23dcd6f7bf60755eaa33720df823c3bdf3799a/Training-models/Quality_predictions.ipynb","renderImageOrRaw":false,"richText":null,"renderedFileInfo":{"identityUUID":"eb5b0bbd-3b32-4293-b5ad-0d3b32792934","renderFileType":"ipynb","size":106036},"shortPath":null,"symbolsEnabled":true,"tabSize":8,"topBannersInfo":{"overridingGlobalFundingFile":false,"globalPreferredFundingPath":null,"showInvalidCitationWarning":false,"citationHelpUrl":"https://docs.github.com/github/creating-cloning-and-archiving-repositories/creating-a-repository-on-github/about-citation-files","actionsOnboardingTip":null},"truncated":false,"viewable":true,"workflowRedirectUrl":null,"symbols":{"timed_out":false,"not_analyzed":true,"symbols":[]}},"copilotInfo":null,"copilotAccessAllowed":false,"modelsAccessAllowed":false,"modelsRepoIntegrationEnabled":false,"csrf_tokens":{"/Nehaharish98/wine-quality-predictions-mlops/branches":{"post":"2k27lTXXh1aj3otONVXou5zyziqQ598tmdMAXioi_xnNYqCSfEogmLPMLUvlKLoLcaGWUeXTN3IKs-rDW64BEw"},"/repos/preferences":{"post":"zeFNO6FPc-fRM_gFBezVh-VDzy3IndKkii0AYTsjMeGZOMuIpfNj2cB3rZ6ddCLbF5-d31HQEZwP6cD-PEVwNA"}}},"title":"wine-quality-predictions-mlops/Training-models/Quality_predictions.ipynb at 9d23dcd6f7bf60755eaa33720df823c3bdf3799a · Nehaharish98/wine-quality-predictions-mlops","appPayload":{"helpUrl":"https://docs.github.com","findFileWorkerPath":"/assets-cdn/worker/find-file-worker-263cab1760dd.js","findInFileWorkerPath":"/assets-cdn/worker/find-in-file-worker-98e6e9db3609.js","githubDevUrl":null,"enabled_features":{"code_nav_ui_events":false,"react_blob_overlay":false,"accessible_code_button":true}}}</script>
  <div data-target="react-app.reactRoot"></div>
</react-app>
</turbo-frame>



  </div>

</turbo-frame>

    </main>
  </div>

  </div>

          <footer class="footer pt-8 pb-6 f6 color-fg-muted p-responsive" role="contentinfo" >
  <h2 class='sr-only'>Footer</h2>

  


  <div class="d-flex flex-justify-center flex-items-center flex-column-reverse flex-lg-row flex-wrap flex-lg-nowrap">
    <div class="d-flex flex-items-center flex-shrink-0 mx-2">
      <a aria-label="GitHub Homepage" class="footer-octicon mr-2" href="https://github.com">
        <svg aria-hidden="true" height="24" viewBox="0 0 24 24" version="1.1" width="24" data-view-component="true" class="octicon octicon-mark-github">
    <path d="M12 1C5.923 1 1 5.923 1 12c0 4.867 3.149 8.979 7.521 10.436.55.096.756-.233.756-.522 0-.262-.013-1.128-.013-2.049-2.764.509-3.479-.674-3.699-1.292-.124-.317-.66-1.293-1.127-1.554-.385-.207-.936-.715-.014-.729.866-.014 1.485.797 1.691 1.128.99 1.663 2.571 1.196 3.204.907.096-.715.385-1.196.701-1.471-2.448-.275-5.005-1.224-5.005-5.432 0-1.196.426-2.186 1.128-2.956-.111-.275-.496-1.402.11-2.915 0 0 .921-.288 3.024 1.128a10.193 10.193 0 0 1 2.75-.371c.936 0 1.871.123 2.75.371 2.104-1.43 3.025-1.128 3.025-1.128.605 1.513.221 2.64.111 2.915.701.77 1.127 1.747 1.127 2.956 0 4.222-2.571 5.157-5.019 5.432.399.344.743 1.004.743 2.035 0 1.471-.014 2.654-.014 3.025 0 .289.206.632.756.522C19.851 20.979 23 16.854 23 12c0-6.077-4.922-11-11-11Z"></path>
</svg>
</a>
      <span>
        &copy; 2025 GitHub,&nbsp;Inc.
      </span>
    </div>

    <nav aria-label="Footer">
      <h3 class="sr-only" id="sr-footer-heading">Footer navigation</h3>

      <ul class="list-style-none d-flex flex-justify-center flex-wrap mb-2 mb-lg-0" aria-labelledby="sr-footer-heading">

          <li class="mx-2">
            <a data-analytics-event="{&quot;category&quot;:&quot;Footer&quot;,&quot;action&quot;:&quot;go to Terms&quot;,&quot;label&quot;:&quot;text:terms&quot;}" href="https://docs.github.com/site-policy/github-terms/github-terms-of-service" data-view-component="true" class="Link--secondary Link">Terms</a>
          </li>

          <li class="mx-2">
            <a data-analytics-event="{&quot;category&quot;:&quot;Footer&quot;,&quot;action&quot;:&quot;go to privacy&quot;,&quot;label&quot;:&quot;text:privacy&quot;}" href="https://docs.github.com/site-policy/privacy-policies/github-privacy-statement" data-view-component="true" class="Link--secondary Link">Privacy</a>
          </li>

          <li class="mx-2">
            <a data-analytics-event="{&quot;category&quot;:&quot;Footer&quot;,&quot;action&quot;:&quot;go to security&quot;,&quot;label&quot;:&quot;text:security&quot;}" href="https://github.com/security" data-view-component="true" class="Link--secondary Link">Security</a>
          </li>

          <li class="mx-2">
            <a data-analytics-event="{&quot;category&quot;:&quot;Footer&quot;,&quot;action&quot;:&quot;go to status&quot;,&quot;label&quot;:&quot;text:status&quot;}" href="https://www.githubstatus.com/" data-view-component="true" class="Link--secondary Link">Status</a>
          </li>

          <li class="mx-2">
            <a data-analytics-event="{&quot;category&quot;:&quot;Footer&quot;,&quot;action&quot;:&quot;go to docs&quot;,&quot;label&quot;:&quot;text:docs&quot;}" href="https://docs.github.com/" data-view-component="true" class="Link--secondary Link">Docs</a>
          </li>

          <li class="mx-2">
            <a data-analytics-event="{&quot;category&quot;:&quot;Footer&quot;,&quot;action&quot;:&quot;go to contact&quot;,&quot;label&quot;:&quot;text:contact&quot;}" href="https://support.github.com?tags=dotcom-footer" data-view-component="true" class="Link--secondary Link">Contact</a>
          </li>

          <li >
  <cookie-consent-link>
    <button
      type="button"
      class="Link--secondary underline-on-hover border-0 p-0 color-bg-transparent"
      data-action="click:cookie-consent-link#showConsentManagement"
      data-analytics-event="{&quot;location&quot;:&quot;footer&quot;,&quot;action&quot;:&quot;cookies&quot;,&quot;context&quot;:&quot;subfooter&quot;,&quot;tag&quot;:&quot;link&quot;,&quot;label&quot;:&quot;cookies_link_subfooter_footer&quot;}"
    >
       Manage cookies
    </button>
  </cookie-consent-link>
</li>

<li>
  <cookie-consent-link>
    <button
      type="button"
      class="Link--secondary underline-on-hover border-0 p-0 color-bg-transparent"
      data-action="click:cookie-consent-link#showConsentManagement"
      data-analytics-event="{&quot;location&quot;:&quot;footer&quot;,&quot;action&quot;:&quot;dont_share_info&quot;,&quot;context&quot;:&quot;subfooter&quot;,&quot;tag&quot;:&quot;link&quot;,&quot;label&quot;:&quot;dont_share_info_link_subfooter_footer&quot;}"
    >
      Do not share my personal information
    </button>
  </cookie-consent-link>
</li>

      </ul>
    </nav>
  </div>
</footer>



    <ghcc-consent id="ghcc" class="position-fixed bottom-0 left-0" style="z-index: 999999"
      data-locale="en"
      data-initial-cookie-consent-allowed=""
      data-cookie-consent-required="true"
    ></ghcc-consent>



  <div id="ajax-error-message" class="ajax-error-message flash flash-error" hidden>
    <svg aria-hidden="true" height="16" viewBox="0 0 16 16" version="1.1" width="16" data-view-component="true" class="octicon octicon-alert">
    <path d="M6.457 1.047c.659-1.234 2.427-1.234 3.086 0l6.082 11.378A1.75 1.75 0 0 1 14.082 15H1.918a1.75 1.75 0 0 1-1.543-2.575Zm1.763.707a.25.25 0 0 0-.44 0L1.698 13.132a.25.25 0 0 0 .22.368h12.164a.25.25 0 0 0 .22-.368Zm.53 3.996v2.5a.75.75 0 0 1-1.5 0v-2.5a.75.75 0 0 1 1.5 0ZM9 11a1 1 0 1 1-2 0 1 1 0 0 1 2 0Z"></path>
</svg>
    <button type="button" class="flash-close js-ajax-error-dismiss" aria-label="Dismiss error">
      <svg aria-hidden="true" height="16" viewBox="0 0 16 16" version="1.1" width="16" data-view-component="true" class="octicon octicon-x">
    <path d="M3.72 3.72a.75.75 0 0 1 1.06 0L8 6.94l3.22-3.22a.749.749 0 0 1 1.275.326.749.749 0 0 1-.215.734L9.06 8l3.22 3.22a.749.749 0 0 1-.326 1.275.749.749 0 0 1-.734-.215L8 9.06l-3.22 3.22a.751.751 0 0 1-1.042-.018.751.751 0 0 1-.018-1.042L6.94 8 3.72 4.78a.75.75 0 0 1 0-1.06Z"></path>
</svg>
    </button>
    You can’t perform that action at this time.
  </div>

    <template id="site-details-dialog">
  <details class="details-reset details-overlay details-overlay-dark lh-default color-fg-default hx_rsm" open>
    <summary role="button" aria-label="Close dialog"></summary>
    <details-dialog class="Box Box--overlay d-flex flex-column anim-fade-in fast hx_rsm-dialog hx_rsm-modal">
      <button class="Box-btn-octicon m-0 btn-octicon position-absolute right-0 top-0" type="button" aria-label="Close dialog" data-close-dialog>
        <svg aria-hidden="true" height="16" viewBox="0 0 16 16" version="1.1" width="16" data-view-component="true" class="octicon octicon-x">
    <path d="M3.72 3.72a.75.75 0 0 1 1.06 0L8 6.94l3.22-3.22a.749.749 0 0 1 1.275.326.749.749 0 0 1-.215.734L9.06 8l3.22 3.22a.749.749 0 0 1-.326 1.275.749.749 0 0 1-.734-.215L8 9.06l-3.22 3.22a.751.751 0 0 1-1.042-.018.751.751 0 0 1-.018-1.042L6.94 8 3.72 4.78a.75.75 0 0 1 0-1.06Z"></path>
</svg>
      </button>
      <div class="octocat-spinner my-6 js-details-dialog-spinner"></div>
    </details-dialog>
  </details>
</template>

    <div class="Popover js-hovercard-content position-absolute" style="display: none; outline: none;">
  <div class="Popover-message Popover-message--bottom-left Popover-message--large Box color-shadow-large" style="width:360px;">
  </div>
</div>

    <template id="snippet-clipboard-copy-button">
  <div class="zeroclipboard-container position-absolute right-0 top-0">
    <clipboard-copy aria-label="Copy" class="ClipboardButton btn js-clipboard-copy m-2 p-0" data-copy-feedback="Copied!" data-tooltip-direction="w">
      <svg aria-hidden="true" height="16" viewBox="0 0 16 16" version="1.1" width="16" data-view-component="true" class="octicon octicon-copy js-clipboard-copy-icon m-2">
    <path d="M0 6.75C0 5.784.784 5 1.75 5h1.5a.75.75 0 0 1 0 1.5h-1.5a.25.25 0 0 0-.25.25v7.5c0 .138.112.25.25.25h7.5a.25.25 0 0 0 .25-.25v-1.5a.75.75 0 0 1 1.5 0v1.5A1.75 1.75 0 0 1 9.25 16h-7.5A1.75 1.75 0 0 1 0 14.25Z"></path><path d="M5 1.75C5 .784 5.784 0 6.75 0h7.5C15.216 0 16 .784 16 1.75v7.5A1.75 1.75 0 0 1 14.25 11h-7.5A1.75 1.75 0 0 1 5 9.25Zm1.75-.25a.25.25 0 0 0-.25.25v7.5c0 .138.112.25.25.25h7.5a.25.25 0 0 0 .25-.25v-7.5a.25.25 0 0 0-.25-.25Z"></path>
</svg>
      <svg aria-hidden="true" height="16" viewBox="0 0 16 16" version="1.1" width="16" data-view-component="true" class="octicon octicon-check js-clipboard-check-icon color-fg-success d-none m-2">
    <path d="M13.78 4.22a.75.75 0 0 1 0 1.06l-7.25 7.25a.75.75 0 0 1-1.06 0L2.22 9.28a.751.751 0 0 1 .018-1.042.751.751 0 0 1 1.042-.018L6 10.94l6.72-6.72a.75.75 0 0 1 1.06 0Z"></path>
</svg>
    </clipboard-copy>
  </div>
</template>
<template id="snippet-clipboard-copy-button-unpositioned">
  <div class="zeroclipboard-container">
    <clipboard-copy aria-label="Copy" class="ClipboardButton btn btn-invisible js-clipboard-copy m-2 p-0 d-flex flex-justify-center flex-items-center" data-copy-feedback="Copied!" data-tooltip-direction="w">
      <svg aria-hidden="true" height="16" viewBox="0 0 16 16" version="1.1" width="16" data-view-component="true" class="octicon octicon-copy js-clipboard-copy-icon">
    <path d="M0 6.75C0 5.784.784 5 1.75 5h1.5a.75.75 0 0 1 0 1.5h-1.5a.25.25 0 0 0-.25.25v7.5c0 .138.112.25.25.25h7.5a.25.25 0 0 0 .25-.25v-1.5a.75.75 0 0 1 1.5 0v1.5A1.75 1.75 0 0 1 9.25 16h-7.5A1.75 1.75 0 0 1 0 14.25Z"></path><path d="M5 1.75C5 .784 5.784 0 6.75 0h7.5C15.216 0 16 .784 16 1.75v7.5A1.75 1.75 0 0 1 14.25 11h-7.5A1.75 1.75 0 0 1 5 9.25Zm1.75-.25a.25.25 0 0 0-.25.25v7.5c0 .138.112.25.25.25h7.5a.25.25 0 0 0 .25-.25v-7.5a.25.25 0 0 0-.25-.25Z"></path>
</svg>
      <svg aria-hidden="true" height="16" viewBox="0 0 16 16" version="1.1" width="16" data-view-component="true" class="octicon octicon-check js-clipboard-check-icon color-fg-success d-none">
    <path d="M13.78 4.22a.75.75 0 0 1 0 1.06l-7.25 7.25a.75.75 0 0 1-1.06 0L2.22 9.28a.751.751 0 0 1 .018-1.042.751.751 0 0 1 1.042-.018L6 10.94l6.72-6.72a.75.75 0 0 1 1.06 0Z"></path>
</svg>
    </clipboard-copy>
  </div>
</template>




    </div>
    <div id="js-global-screen-reader-notice" class="sr-only mt-n1" aria-live="polite" aria-atomic="true" ></div>
    <div id="js-global-screen-reader-notice-assertive" class="sr-only mt-n1" aria-live="assertive" aria-atomic="true"></div>
  </body>
</html>

